{
 "cells": [
  {
   "cell_type": "markdown",
   "metadata": {},
   "source": [
    "# Module 11 - Programming Assignment\n",
    "\n",
    "## Directions\n",
    "\n",
    "1. Change the name of this file to be your JHED id as in `jsmith299.ipynb`. Because sure you use your JHED ID (it's made out of your name and not your student id which is just letters and numbers).\n",
    "2. Make sure the notebook you submit is cleanly and fully executed. I do not grade unexecuted notebooks.\n",
    "3. Submit your notebook back in Blackboard where you downloaded this file.\n",
    "\n",
    "*Provide the output **exactly** as requested*"
   ]
  },
  {
   "cell_type": "markdown",
   "metadata": {},
   "source": [
    "## Reinforcement Learning with Value Iteration\n",
    "\n",
    "These are the same maps from Module 1 but the \"physics\" of the world have changed. In Module 1, the world was deterministic. When the agent moved \"south\", it went \"south\". When it moved \"east\", it went \"east\". Now, the agent only succeeds in going where it wants to go *sometimes*. There is a probability distribution over the possible states so that when the agent moves \"south\", there is a small probability that it will go \"east\", \"north\", or \"west\" instead and have to move from there.\n",
    "\n",
    "There are a variety of ways to handle this problem. For example, if using A\\* search, if the agent finds itself off the solution, you can simply calculate a new solution from where the agent ended up. Although this sounds like a really bad idea, it has actually been shown to work really well in video games that use formal planning algorithms (which we will cover later). When these algorithms were first designed, this was unthinkable. Thank you, Moore's Law!\n",
    "\n",
    "Another approach is to use Reinforcement Learning which covers problems where there is some kind of general uncertainty in the actions. We're going to model that uncertainty a bit unrealistically here but it'll show you how the algorithm works.\n",
    "\n",
    "As far as RL is concerned, there are a variety of options there: model-based and model-free, Value Iteration, Q-Learning and SARSA. You are going to use Value Iteration."
   ]
  },
  {
   "cell_type": "markdown",
   "metadata": {},
   "source": [
    "## The World Representation\n",
    "\n",
    "As before, we're going to simplify the problem by working in a grid world. The symbols that form the grid have a special meaning as they specify the type of the terrain and the cost to enter a grid cell with that type of terrain:\n",
    "\n",
    "```\n",
    "token   terrain    cost \n",
    ".       plains     1\n",
    "*       forest     3\n",
    "^       hills      5\n",
    "~       swamp      7\n",
    "x       mountains  impassible\n",
    "```\n",
    "\n",
    "When you go from a plains node to a forest node it costs 3. When you go from a forest node to a plains node, it costs 1. You can think of the grid as a big graph. Each grid cell (terrain symbol) is a node and there are edges to the north, south, east and west (except at the edges).\n",
    "\n",
    "There are quite a few differences between A\\* Search and Reinforcement Learning but one of the most salient is that A\\* Search returns a plan of N steps that gets us from A to Z, for example, A->C->E->G.... Reinforcement Learning, on the other hand, returns  a *policy* that tells us the best thing to do in **every state.**\n",
    "\n",
    "For example, the policy might say that the best thing to do in A is go to C. However, we might find ourselves in D instead. But the policy covers this possibility, it might say, D->E. Trying this action might land us in C and the policy will say, C->E, etc. At least with offline learning, everything will be learned in advance (in online learning, you can only learn by doing and so you may act according to a known but suboptimal policy).\n",
    "\n",
    "Nevertheless, if you were asked for a \"best case\" plan from (0, 0) to (n-1, n-1), you could (and will) be able to read it off the policy because there is a best action for every state. You will be asked to provide this in your assignment."
   ]
  },
  {
   "cell_type": "markdown",
   "metadata": {},
   "source": [
    "We have the same costs as before. Note that we've negated them this time because RL requires negative costs and positive rewards:"
   ]
  },
  {
   "cell_type": "code",
   "execution_count": 25,
   "metadata": {},
   "outputs": [
    {
     "data": {
      "text/plain": [
       "{'.': -1, '*': -3, '^': -5, '~': -7}"
      ]
     },
     "execution_count": 25,
     "metadata": {},
     "output_type": "execute_result"
    }
   ],
   "source": [
    "costs = { '.': -1, '*': -3, '^': -5, '~': -7}\n",
    "costs"
   ]
  },
  {
   "cell_type": "markdown",
   "metadata": {},
   "source": [
    "and a list of offsets for `cardinal_moves`. You'll need to work this into your **actions**, A, parameter."
   ]
  },
  {
   "cell_type": "code",
   "execution_count": 26,
   "metadata": {},
   "outputs": [
    {
     "data": {
      "text/plain": [
       "[(0, -1), (1, 0), (0, 1), (-1, 0)]"
      ]
     },
     "execution_count": 26,
     "metadata": {},
     "output_type": "execute_result"
    }
   ],
   "source": [
    "cardinal_moves = [(0,-1), (1,0), (0,1), (-1,0)]\n",
    "cardinal_moves"
   ]
  },
  {
   "cell_type": "markdown",
   "metadata": {},
   "source": [
    "For Value Iteration, we require knowledge of the *transition* function, as a probability distribution.\n",
    "\n",
    "The transition function, T, for this problem is 0.70 for the desired direction, and 0.10 each for the other possible directions. That is, if the agent selects \"north\" then 70% of the time, it will go \"north\" but 10% of the time it will go \"east\", 10% of the time it will go \"west\", and 10% of the time it will go \"south\". If agent is at the edge of the map, it simply bounces back to the current state.\n",
    "\n",
    "You need to implement `value_iteration()` with the following parameters:\n",
    "\n",
    "+ world: a `List` of `List`s of terrain (this is S from S, A, T, gamma, R)\n",
    "+ costs: a `Dict` of costs by terrain (this is part of R)\n",
    "+ goal: A `Tuple` of (x, y) stating the goal state.\n",
    "+ reward: The reward for achieving the goal state.\n",
    "+ actions: a `List` of possible actions, A, as offsets.\n",
    "+ gamma: the discount rate\n",
    "\n",
    "you will return a policy: \n",
    "\n",
    "`{(x1, y1): action1, (x2, y2): action2, ...}`\n",
    "\n",
    "Remember...a policy is what to do in any state for all the states. Notice how this is different than A\\* search which only returns actions to take from the start to the goal. This also explains why reinforcement learning doesn't take a `start` state.\n",
    "\n",
    "You should also define a function `pretty_print_policy( cols, rows, policy)` that takes a policy and prints it out as a grid using \"^\" for up, \"<\" for left, \"v\" for down and \">\" for right. Use \"x\" for any mountain or other impassable square. Note that it doesn't need the `world` because the policy has a move for every state. However, you do need to know how big the grid is so you can pull the values out of the `Dict` that is returned.\n",
    "\n",
    "```\n",
    "vvvvvvv\n",
    "vvvvvvv\n",
    "vvvvvvv\n",
    ">>>>>>v\n",
    "^^^>>>v\n",
    "^^^>>>v\n",
    "^^^>>>G\n",
    "```\n",
    "\n",
    "(Note that that policy is completely made up and only illustrative of the desired output). Please print it out exactly as requested: **NO EXTRA SPACES OR LINES**.\n",
    "\n",
    "* If everything is otherwise the same, do you think that the path from (0,0) to the goal would be the same for both A\\* Search and Q-Learning?\n",
    "* What do you think if you have a map that looks like:\n",
    "\n",
    "```\n",
    "><>>^\n",
    ">>>>v\n",
    ">>>>v\n",
    ">>>>v\n",
    ">>>>G\n",
    "```\n",
    "\n",
    "has this converged? Is this a \"correct\" policy? What are the problems with this policy as it is?\n"
   ]
  },
  {
   "cell_type": "code",
   "execution_count": 27,
   "metadata": {},
   "outputs": [],
   "source": [
    "def read_world(filename):\n",
    "    result = []\n",
    "    with open(filename) as f:\n",
    "        for line in f.readlines():\n",
    "            if len(line) > 0:\n",
    "                result.append(list(line.strip()))\n",
    "    return result"
   ]
  },
  {
   "cell_type": "markdown",
   "metadata": {},
   "source": [
    "---"
   ]
  },
  {
   "cell_type": "code",
   "execution_count": 28,
   "metadata": {},
   "outputs": [],
   "source": [
    "import copy"
   ]
  },
  {
   "cell_type": "markdown",
   "metadata": {},
   "source": [
    "### is_passable\n",
    "`is_passable` Checks if the position (x, y) is within the bounds of the world and not blocked. **Used by**: [value_iteration](#value_iteration)\n",
    "\n",
    "- **x**: (int): x Coordinate.\n",
    "- **y**: (int): y Coordinate.\n",
    "- **world**: (list): The world represented as a grid.\n",
    "\n",
    "**Returns** bool: True if the position is passable, False otherwise"
   ]
  },
  {
   "cell_type": "code",
   "execution_count": 29,
   "metadata": {},
   "outputs": [],
   "source": [
    "def is_passable(x, y, world):\n",
    "    \"\"\"Check if the position (x, y) is within the bounds of the world and not blocked.\n",
    "    Args:        \n",
    "        x (int): The x-coordinate.\n",
    "        y (int): The y-coordinate.\n",
    "        world (list of list of str): The world represented as a grid.\n",
    "    Returns:     bool: True if the position is passable, False otherwise.\"\"\"\n",
    "    rows = len(world)\n",
    "    cols = len(world[0])\n",
    "    return 0 <= x < cols and 0 <= y < rows and world[y][x] != 'x'"
   ]
  },
  {
   "cell_type": "code",
   "execution_count": 30,
   "metadata": {},
   "outputs": [],
   "source": [
    "test_world = [\n",
    "    ['.', '*', 'x'],\n",
    "    ['^', '~', '.'],\n",
    "    ['.', '.', '.']\n",
    "]\n",
    "\n",
    "assert is_passable(0, 0, test_world) == True \n",
    "assert is_passable(2, 0, test_world) == False\n",
    "assert is_passable(-1, 0, test_world) == False\n",
    "assert is_passable(0, -1, test_world) == False\n",
    "\n"
   ]
  },
  {
   "cell_type": "markdown",
   "metadata": {},
   "source": [
    "### get_next_state\n",
    "`get_next_state` Gets the next state based on the current position (x, y) and action. **Used by**: [value_iteration](#value_iteration)\n",
    "\n",
    "- **x**: (int): x Coordinate.\n",
    "- **y**: (int): y Coordinate.\n",
    "- **action** (tuple): A tuple representing the action to take.\n",
    "- **world**: (list): The world represented as a grid.\n",
    "\n",
    "**Returns** tuple: The new position (nx, ny) after applying the action, or the current position if the action is not passable."
   ]
  },
  {
   "cell_type": "code",
   "execution_count": 31,
   "metadata": {},
   "outputs": [],
   "source": [
    "def get_next_state(x, y, action, world):\n",
    "    nx, ny = x + action[0], y + action[1]\n",
    "    if not is_passable(nx, ny, world):\n",
    "        return x, y\n",
    "    return nx, ny"
   ]
  },
  {
   "cell_type": "code",
   "execution_count": 32,
   "metadata": {},
   "outputs": [],
   "source": [
    "assert get_next_state(0, 0, (1, 0), test_world) == (1, 0)  \n",
    "assert get_next_state(1, 1, (1, 0), test_world) == (2, 1)  \n",
    "assert get_next_state(1, 0, (1, 0), test_world) == (1, 0)  \n",
    "assert get_next_state(0, 0, (-1, 0), test_world) == (0, 0)"
   ]
  },
  {
   "cell_type": "markdown",
   "metadata": {},
   "source": [
    "### expected_value\n",
    "`expected_value` Gets the next state based on the current position (x, y) and action. **Used by**: [value_iteration](#value_iteration)\n",
    "\n",
    "- **x**: (int): x Coordinate.\n",
    "- **y**: (int): y Coordinate.\n",
    "- **action** (tuple): A tuple representing the action to take.\n",
    "- **V** (dict): The value function.\n",
    "- **world**: (list): The world represented as a grid.\n",
    "- **costs** (dict): The movement costs.\n",
    "- **rewards** (dict): The rewards for reaching certain states.\n",
    "- **goal** (tuple): The goal state.\n",
    "- **gamma** (float): The discount factor.\n",
    "- **actions** (list): The list of possible actions.\n",
    "- **main_prob** (float): The probability of taking the main action.\n",
    "- **other_prob** (float): The probability of taking other actions.\n",
    "\n",
    "**Returns** float: The expected value of the action."
   ]
  },
  {
   "cell_type": "code",
   "execution_count": 33,
   "metadata": {},
   "outputs": [],
   "source": [
    "def expected_value(x, y, action, V, world, costs, rewards, goal, gamma, actions, main_prob=0.7, other_prob=0.1):\n",
    "    total = 0\n",
    "    for i, a in enumerate(actions):\n",
    "        prob = main_prob if a == action else other_prob\n",
    "        nx, ny = get_next_state(x, y, a, world)\n",
    "        next_state = (nx, ny)\n",
    "        reward = rewards if next_state == goal else costs.get(world[ny][nx], 0)\n",
    "        total += prob * (reward + gamma * V[next_state])\n",
    "    return total"
   ]
  },
  {
   "cell_type": "code",
   "execution_count": 34,
   "metadata": {},
   "outputs": [],
   "source": [
    "reward = 10\n",
    "gamma = 0.9\n",
    "\n",
    "V = {(x, y): 0 for y in range(len(test_world)) for x in range(len(test_world[0]))}\n",
    "ev1 = expected_value(0, 0, (1, 0), V, test_world, costs, reward, (2, 2), gamma, cardinal_moves)\n",
    "assert isinstance(ev1, float)\n",
    "\n",
    "V_impass = {(x, y): 0 for y in range(len(test_world)) for x in range(len(test_world[0]))}\n",
    "ev3 = expected_value(1, 0, (1, 0), V_impass, test_world, costs, reward, (2, 2), gamma, cardinal_moves)\n",
    "assert ev3 < 0"
   ]
  },
  {
   "cell_type": "markdown",
   "metadata": {},
   "source": [
    "### value_iteration\n",
    "`value_iteration` Performs value iteration to find the optimal policy in a grid world.\n",
    "\n",
    "- **world** (list of list of str): The world represented as a grid.\n",
    "- **costs** (dict): A dictionary mapping terrain types to their costs.\n",
    "- **goal** (tuple): The coordinates of the goal state.\n",
    "- **rewards** (float): The reward for reaching the goal.\n",
    "- **actions** (list of tuple): A list of possible actions represented as tuples (dx, dy).\n",
    "- **gamma** (float): The discount factor for future rewards.\n",
    "\n",
    "**Returns** dict: A dictionary representing the optimal policy, mapping states to actions."
   ]
  },
  {
   "cell_type": "code",
   "execution_count": 35,
   "metadata": {},
   "outputs": [],
   "source": [
    "def value_iteration(world, costs, goal, rewards, actions, gamma):\n",
    "    rows = len(world)\n",
    "    cols = len(world[0])\n",
    "    V = {(x, y): 0 for y in range(rows) for x in range(cols)}\n",
    "\n",
    "    threshold = 1e-4\n",
    "    while True:\n",
    "        delta = 0\n",
    "        V_new = copy.deepcopy(V)\n",
    "        for y in range(rows):\n",
    "            for x in range(cols):\n",
    "                state = (x, y)\n",
    "                terrain = world[y][x]\n",
    "                if state == goal:\n",
    "                    V_new[state] = rewards\n",
    "                    continue\n",
    "                if terrain == 'x':\n",
    "                    continue\n",
    "                max_value = float('-inf')\n",
    "                for a in actions:\n",
    "                    val = expected_value(x, y, a, V, world, costs, rewards, goal, gamma, actions)\n",
    "                    if val > max_value:\n",
    "                        max_value = val\n",
    "                delta = max(delta, abs(max_value - V[state]))\n",
    "                V_new[state] = max_value\n",
    "        V = V_new\n",
    "        if delta < threshold:\n",
    "            break\n",
    "\n",
    "    # Extract policy\n",
    "    policy = {}\n",
    "    for y in range(rows):\n",
    "        for x in range(cols):\n",
    "            state = (x, y)\n",
    "            terrain = world[y][x]\n",
    "            if state == goal or terrain == 'x':\n",
    "                continue\n",
    "            best_action = None\n",
    "            best_value = float('-inf')\n",
    "            for a in actions:\n",
    "                val = expected_value(x, y, a, V, world, costs, rewards, goal, gamma, actions)\n",
    "                if val > best_value:\n",
    "                    best_value = val\n",
    "                    best_action = a\n",
    "            policy[state] = best_action\n",
    "    return policy"
   ]
  },
  {
   "cell_type": "code",
   "execution_count": 36,
   "metadata": {},
   "outputs": [],
   "source": [
    "def pretty_print_policy( cols, rows, policy, goal):\n",
    "    # Map actions to symbols\n",
    "    action_symbols = { (0,-1): '^', (1,0): '>', (0,1): 'v', (-1,0): '<' }\n",
    "    for y in range(rows):\n",
    "        line = \"\"\n",
    "        for x in range(cols):\n",
    "            state = (x, y)\n",
    "            if state == goal:\n",
    "                line += \"G\"\n",
    "            elif state not in policy or policy[state] is None:\n",
    "                line += \"x\"\n",
    "            else:\n",
    "                action = policy[state]\n",
    "                line += action_symbols.get(action, \"?\")\n",
    "        print(line)"
   ]
  },
  {
   "cell_type": "code",
   "execution_count": 37,
   "metadata": {},
   "outputs": [],
   "source": [
    "reward = 10"
   ]
  },
  {
   "cell_type": "markdown",
   "metadata": {},
   "source": [
    "## Value Iteration\n",
    "\n",
    "### Small World"
   ]
  },
  {
   "cell_type": "code",
   "execution_count": 38,
   "metadata": {},
   "outputs": [],
   "source": [
    "small_world = read_world( \"small.txt\")"
   ]
  },
  {
   "cell_type": "code",
   "execution_count": 39,
   "metadata": {},
   "outputs": [],
   "source": [
    "goal = (len(small_world[0])-1, len(small_world)-1)\n",
    "gamma = 0.9\n",
    "\n",
    "small_policy = value_iteration(small_world, costs, goal, reward, cardinal_moves, gamma)"
   ]
  },
  {
   "cell_type": "code",
   "execution_count": 40,
   "metadata": {},
   "outputs": [
    {
     "name": "stdout",
     "output_type": "stream",
     "text": [
      "v>>>>v\n",
      "v<^>>v\n",
      "v<v>>v\n",
      "vvvx>v\n",
      "vvvvvv\n",
      "v>>>vv\n",
      ">>>>>G\n"
     ]
    }
   ],
   "source": [
    "cols = len(small_world[0])\n",
    "rows = len(small_world)\n",
    "\n",
    "# pretty_print_policy(cols, rows, test_policy, goal)\n",
    "pretty_print_policy(cols, rows, small_policy, goal)"
   ]
  },
  {
   "cell_type": "markdown",
   "metadata": {},
   "source": [
    "### Large World"
   ]
  },
  {
   "cell_type": "code",
   "execution_count": 41,
   "metadata": {},
   "outputs": [],
   "source": [
    "large_world = read_world( \"large.txt\")"
   ]
  },
  {
   "cell_type": "code",
   "execution_count": 42,
   "metadata": {},
   "outputs": [],
   "source": [
    "goal = (len(large_world[0])-1, len(large_world)-1) # Lower Right Corner FILL ME IN\n",
    "gamma = 0.9\n",
    "\n",
    "large_policy = value_iteration(large_world, costs, goal, reward, cardinal_moves, gamma)"
   ]
  },
  {
   "cell_type": "code",
   "execution_count": 43,
   "metadata": {},
   "outputs": [
    {
     "name": "stdout",
     "output_type": "stream",
     "text": [
      "^<<<<<v<<<v>>>>>>>>>>^<<<<<\n",
      "^<<<<<<<<vvv>>>>>^xxxxxxx^^\n",
      "^^^^xx^<vvv<<^>^^xxxv<<xx^^\n",
      "^^^^<xxxvvv<<^^^^>>v<<<xx>v\n",
      "^^^^<xx>>vv<<<>>>>>v<<xxx>v\n",
      "^^^^xx>>>v<<<<^^>>>^<<<x>>v\n",
      "v<<xx>>>>v<<xxx>>>^^^<<>>>v\n",
      "v<<<>>>>>^<<<<xxxv^^^^<>>>v\n",
      "<<<<<>>>^^^<<<xxv<>>^^>>>>v\n",
      "^<<<<>>^^^^xxxx^<<<^^^>>>>v\n",
      "^^<<>>>^<^xxx>>^<<<<xxx>>>v\n",
      "^^<<>vv^<xx>>>^^^^^<<xx>>>v\n",
      "vvvv>vv<<xx>^^^^>>^^<x>>>>v\n",
      "vvvv>vv<<<>>^<<<^^^^<>>>>>>\n",
      "vvv<xv<<<<<^^^^<vv>^^<x>>>^\n",
      "vv<xxx^<<<<^xxx>>vv^^xx>>>^\n",
      "vvxx>>^^<<>>vvxxxv<xxxv>>>^\n",
      "<<<xx^^^^>>>>>vvxxxx^<<<^^^\n",
      "^<^xxx^^>>>>>>vvvv>>^^^^^^^\n",
      "^^^<xxx>>>>>>>>vv<v^^^^^^^^\n",
      "^<<^<vxx>>>>>^x<<<<<^^^^^^^\n",
      "^<<<<vvxxx>^xx^^^^^<<<^^^vv\n",
      "^^<<<<<vvxxxx^^^^^^^<<<vvvv\n",
      "^^^^^<vvv>>>^<<^^xx^^<<vvvv\n",
      "^x^^^vvvvv^xxx^^xx^xx^>vvvv\n",
      "^xxxvvvvvv<vxxxx>vvvxxxvvvv\n",
      ">>>^>>>v<<<<<<<>>>>>v>>>>>G\n"
     ]
    }
   ],
   "source": [
    "cols = len(large_world[0])\n",
    "rows = len(large_world)\n",
    "\n",
    "pretty_print_policy( cols, rows, large_policy, goal)"
   ]
  },
  {
   "cell_type": "markdown",
   "metadata": {},
   "source": [
    "## Before You Submit...\n",
    "\n",
    "1. Did you provide output exactly as requested?\n",
    "2. Did you re-execute the entire notebook? (\"Restart Kernel and Rull All Cells...\")\n",
    "3. If you did not complete the assignment or had difficulty please explain what gave you the most difficulty in the Markdown cell below.\n",
    "4. Did you change the name of the file to `jhed_id.ipynb`?\n",
    "\n",
    "Do not submit any other files."
   ]
  },
  {
   "cell_type": "markdown",
   "metadata": {},
   "source": []
  }
 ],
 "metadata": {
  "kernelspec": {
   "display_name": "en605645",
   "language": "python",
   "name": "python3"
  },
  "language_info": {
   "codemirror_mode": {
    "name": "ipython",
    "version": 3
   },
   "file_extension": ".py",
   "mimetype": "text/x-python",
   "name": "python",
   "nbconvert_exporter": "python",
   "pygments_lexer": "ipython3",
   "version": "3.11.12"
  },
  "toc": {
   "colors": {
    "hover_highlight": "#DAA520",
    "navigate_num": "#000000",
    "navigate_text": "#333333",
    "running_highlight": "#FF0000",
    "selected_highlight": "#FFD700",
    "sidebar_border": "#EEEEEE",
    "wrapper_background": "#FFFFFF"
   },
   "moveMenuLeft": true,
   "nav_menu": {
    "height": "171px",
    "width": "252px"
   },
   "navigate_menu": true,
   "number_sections": true,
   "sideBar": true,
   "threshold": 4,
   "toc_cell": false,
   "toc_section_display": "block",
   "toc_window_display": false,
   "widenNotebook": false
  }
 },
 "nbformat": 4,
 "nbformat_minor": 4
}
