{
 "cells": [
  {
   "cell_type": "markdown",
   "metadata": {},
   "source": [
    "# Module 5 - Programming Assignment\n",
    "\n",
    "## Directions\n",
    "\n",
    "1. Change the name of this file to be your JHED id as in `jsmith299.ipynb`. Because sure you use your JHED ID (it's made out of your name and not your student id which is just letters and numbers).\n",
    "2. Make sure the notebook you submit is cleanly and fully executed. I do not grade unexecuted notebooks.\n",
    "3. Submit your notebook back in Blackboard where you downloaded this file.\n",
    "\n",
    "*Provide the output **exactly** as requested*"
   ]
  },
  {
   "cell_type": "markdown",
   "metadata": {},
   "source": [
    "## Solving Normal Form Games"
   ]
  },
  {
   "cell_type": "code",
   "execution_count": 3,
   "metadata": {},
   "outputs": [],
   "source": [
    "from typing import List, Tuple, Dict, Callable"
   ]
  },
  {
   "cell_type": "markdown",
   "metadata": {},
   "source": [
    "In the lecture we talked about the Prisoner's Dilemma game, shown here in Normal Form:\n",
    "\n",
    "Player 1 / Player 2  | Defect | Cooperate\n",
    "------------- | ------------- | -------------\n",
    "Defect  | -5, -5 | -1, -10\n",
    "Cooperate  | -10, -1 | -2, -2\n",
    "\n",
    "where the payoff to Player 1 is the left number and the payoff to Player 2 is the right number. We can represent each payoff cell as a Tuple: `(-5, -5)`, for example. We can represent each row as a List of Tuples: `[(-5, -5), (-1, -10)]` would be the first row and the entire table as a List of Lists:"
   ]
  },
  {
   "cell_type": "code",
   "execution_count": 4,
   "metadata": {},
   "outputs": [
    {
     "data": {
      "text/plain": [
       "[[(-5, -5), (-1, -10)], [(-10, -1), (-2, -2)]]"
      ]
     },
     "execution_count": 4,
     "metadata": {},
     "output_type": "execute_result"
    }
   ],
   "source": [
    "prisoners_dilemma = [\n",
    " [( -5, -5), (-1,-10)],\n",
    " [(-10, -1), (-2, -2)]]\n",
    "\n",
    "prisoners_dilemma"
   ]
  },
  {
   "cell_type": "markdown",
   "metadata": {},
   "source": [
    "in which case the strategies are represented by indices into the List of Lists. For example, `(Defect, Cooperate)` for the above game becomes `prisoners_dilemma[ 0][ 1]` and returns the payoff `(-1, -10)` because 0 is the first row of the table (\"Defect\" for Player 1) and 1 is the 2nd column of the row (\"Cooperate\" for Player 2).\n",
    "\n",
    "For this assignment, you are going write a function that uses Successive Elimination of Dominated Strategies (SEDS) to find the **pure strategy** Nash Equilibrium of a Normal Form Game. The function is called `solve_game`:\n",
    "\n",
    "```python\n",
    "def solve_game( game: List[List[Tuple]], weak=False) -> List[Tuple]:\n",
    "    pass # returns strategy indices of Nash equilibrium or None.\n",
    "```\n",
    "\n",
    "and it takes two parameters: the game, in a format that we described earlier and an optional boolean flag that controls whether the algorithm considers only **strongly dominated strategies** (the default will be false) or whether it should consider **weakly dominated strategies** as well.\n",
    "\n",
    "It should work with game matrices of any size and it will return the **strategy indices** of the Nash Equilibrium. If there is no **pure strategy** equilibrium that can be found using SEDS, return the empty List (`[]`).\n",
    "\n",
    "\n",
    "<div style=\"background: mistyrose; color: firebrick; border: 2px solid darkred; padding: 5px; margin: 10px;\">\n",
    "Do not return the payoff. That's not useful. Return the strategy indices, any other output is incorrect.\n",
    "</div>\n",
    "\n",
    "As before, you must provide your implementation in the space below, one Markdown cell for documentation and one Code cell for implementation, one function and assertations per Codecell.\n",
    "\n",
    "\n",
    "---"
   ]
  },
  {
   "cell_type": "code",
   "execution_count": null,
   "metadata": {},
   "outputs": [],
   "source": [
    "def dominated_cols(game, weak=False):\n",
    "    # Extract cols\n",
    "    cols = [] \n",
    "    for i in range(len(game[0])):\n",
    "        col = [game[j][i][1] for j in range(len(game))]\n",
    "        cols.append(col)\n",
    "    \n",
    "    dominated = set()\n",
    "    # Compare each col to find any dominated cols\n",
    "    for i in range(len(cols)):\n",
    "        for j in range(len(cols)):\n",
    "            if i != j:\n",
    "                if weak:\n",
    "                    # Weak domination: All values are less than or equal, and at least one is strictly less\n",
    "                    if all(cols[i][k] <= cols[j][k] for k in range(len(cols[i]))) and any(cols[i][k] < cols[j][k] for k in range(len(cols[i]))):\n",
    "                        dominated.add(i)\n",
    "                else:\n",
    "                    # Strict domination: All values are strictly less, and at least one is strictly greater\n",
    "                    if all(cols[i][k] < cols[j][k] for k in range(len(cols[i]))):\n",
    "                        dominated.add(i)\n",
    "    return dominated"
   ]
  },
  {
   "cell_type": "code",
   "execution_count": null,
   "metadata": {},
   "outputs": [],
   "source": [
    "def dominated_rows(game, weak = False):\n",
    "    # Extract rows\n",
    "    rows = []\n",
    "    for i in range(len(game)):\n",
    "        row = game[i]\n",
    "        rows.append(row)\n",
    "\n",
    "    # Compare each row to find any dominated rows    \n",
    "    dominated = set()\n",
    "    for i in range(len(rows)):\n",
    "        for j in range(len(rows)):\n",
    "            if i != j:\n",
    "                if weak:\n",
    "                    if all(rows[i][k][0] <= rows[j][k][0] for k in range(len(rows[i]))) and any(rows[i][k][0] < rows[j][k][0] for k in range(len(rows[i]))):\n",
    "                        dominated.add(i)\n",
    "                else:\n",
    "                    if all(rows[i][k][0] < rows[j][k][0] for k in range(len(rows[i]))):\n",
    "                        dominated.add(i)\n",
    "    return dominated"
   ]
  },
  {
   "cell_type": "code",
   "execution_count": 7,
   "metadata": {},
   "outputs": [],
   "source": [
    "def remove_col(game, col):\n",
    "    new_game = []\n",
    "    for row in game:\n",
    "        new_row = [cell for i, cell in enumerate(row) if i != col]\n",
    "        new_game.append(new_row)\n",
    "    return new_game"
   ]
  },
  {
   "cell_type": "code",
   "execution_count": 8,
   "metadata": {},
   "outputs": [],
   "source": [
    "def remove_row(game, row):\n",
    "    \"\"\"Remove a row from the game.\"\"\"\n",
    "    return [game[i] for i in range(len(game)) if i != row]"
   ]
  },
  {
   "cell_type": "code",
   "execution_count": 95,
   "metadata": {},
   "outputs": [],
   "source": [
    "def generate_next_states(game, prev_move, row_map, col_map, weak=False):\n",
    "    next_states = []\n",
    "    if prev_move == \"row\":\n",
    "        # Check for dominated cols\n",
    "        dominated = dominated_cols(game, weak)\n",
    "        if dominated:\n",
    "            # print(\"Dominated cols:\", dominated)\n",
    "            for col in dominated:\n",
    "                next_state = remove_col(game, col)\n",
    "                next_states.append((next_state, \"col\", row_map, col_map[:col] + col_map[col+1:]))\n",
    "    elif prev_move == \"col\":\n",
    "        dominated = dominated_rows(game, weak)\n",
    "        if dominated:\n",
    "            # print(\"Dominated rows:\", dominated)\n",
    "            for row in dominated:\n",
    "                next_state = remove_row(game, row)\n",
    "                next_states.append((next_state, \"row\", row_map[:row] + row_map[row+1:], col_map))\n",
    "    else:\n",
    "        rows = dominated_rows(game, weak)\n",
    "        cols = dominated_cols(game, weak)\n",
    "        print(\"Rows:\", rows, \"Cols:\", cols)\n",
    "        for row in rows:\n",
    "            next_state = remove_row(game, row)\n",
    "            next_states.append((next_state, \"row\", row_map[:row] + row_map[row+1:], col_map))\n",
    "        for col in cols:\n",
    "            next_state = remove_col(game, col)\n",
    "            next_states.append((next_state, \"col\", row_map, col_map[:col] + col_map[col+1:]))\n",
    "\n",
    "    return next_states"
   ]
  },
  {
   "cell_type": "markdown",
   "metadata": {},
   "source": [
    "## solve_game\n",
    "\n",
    "(documentation)"
   ]
  },
  {
   "cell_type": "code",
   "execution_count": 132,
   "metadata": {},
   "outputs": [],
   "source": [
    "import copy\n",
    "\n",
    "def solve_game(game: List[List[Tuple]], weak: bool = False) -> List[Tuple]:\n",
    "    \"\"\"\n",
    "    Solves the game by applying Successive Elimination of Dominated Strategies (SEDS) to find the pure strategy Nash Equilibrium of a Normal Form Game.\n",
    "    :param game: A list of lists representing the payoff matrix of the game.\n",
    "    :param weak: If True, applies weak dominance instead of strict dominance.\n",
    "    :return: A list of tuples representing the Nash Equilibria of the game.\n",
    "    \"\"\"\n",
    "    \n",
    "    # Generate all possible states\n",
    "    row_map = [i for i in range(len(game))]\n",
    "    col_map = [i for i in range(len(game[0]))]\n",
    "    next_states = generate_next_states(game, None, row_map, col_map, weak)\n",
    "    equilibriums = set()\n",
    "\n",
    "    while next_states:\n",
    "        current_state, prev_move, row_map, col_map = next_states.pop(0)\n",
    "        print(row_map, col_map)\n",
    "        print(\"Current State:\", current_state, \"Previous Move:\", prev_move)\n",
    "\n",
    "        # Generate next states based on the current state\n",
    "        next_states += generate_next_states(current_state, prev_move, row_map, col_map, weak)\n",
    "\n",
    "        # Check if the current state is a Nash Equilibrium\n",
    "        if len(current_state) == 1 and len(current_state[0]) == 1:\n",
    "            equilibriums.add((col_map[0], row_map[0]))\n",
    "\n",
    "\n",
    "    return list(equilibriums)\n",
    "\n",
    "    "
   ]
  },
  {
   "cell_type": "markdown",
   "metadata": {},
   "source": [
    "## Additional Directions\n",
    "\n",
    "Create three games as described and according to the following:\n",
    "\n",
    "1. Your games must be created and solved \"by hand\".\n",
    "2. The strategy pairs must **not** be on the main diagonal (0, 0), (1, 1), or (2, 2). And the solution cannot be the same for both Game 1 and Game 2.\n",
    "3. Make sure you fill out the Markdown (\"?\") with your game as well as the solution (\"?\").\n",
    "4. Remember, **do not return the payoff**, return the strategy indices (a list of them)."
   ]
  },
  {
   "cell_type": "markdown",
   "metadata": {},
   "source": [
    "## Before you code...\n",
    "\n",
    "Solve the following game by hand using SEDS and weakly dominated strategies. \n",
    "The game has two (pure) Nash Equilibriums. \n",
    "You should find all of them.\n",
    "This will help you think about what you need to implement to make the algorithm work.\n",
    "**Hint**: You will need State Space Search from Module 1 and SEDS from Module 5 to get the full algorithm to work.\n",
    "\n",
    "| Player 1 / Player 2  | 0 | 1 | 2 |\n",
    "|----|----|----|----|\n",
    "|0  | 1/0 | 3/1 | 1/1 |\n",
    "|1  | 1/1 | 3/0 | 0/1 |\n",
    "|2  | 2/2 | 3/3 | 0/2 |\n",
    "\n",
    "**Solutions**: (put them here)"
   ]
  },
  {
   "cell_type": "code",
   "execution_count": 133,
   "metadata": {},
   "outputs": [],
   "source": [
    "test_1 = [\n",
    "[(1, 0), (3, 1), (1, 1)],\n",
    "[(1, 1), (3, 0), (0, 1)],\n",
    "[(2, 2), (3, 3), (0, 2)],\n",
    "]"
   ]
  },
  {
   "cell_type": "code",
   "execution_count": 134,
   "metadata": {},
   "outputs": [
    {
     "name": "stdout",
     "output_type": "stream",
     "text": [
      "Rows: {1} Cols: {0}\n",
      "[0, 2] [0, 1, 2]\n",
      "Current State: [[(1, 0), (3, 1), (1, 1)], [(2, 2), (3, 3), (0, 2)]] Previous Move: row\n",
      "[0, 1, 2] [1, 2]\n",
      "Current State: [[(3, 1), (1, 1)], [(3, 0), (0, 1)], [(3, 3), (0, 2)]] Previous Move: col\n",
      "[0, 2] [1, 2]\n",
      "Current State: [[(3, 1), (1, 1)], [(3, 3), (0, 2)]] Previous Move: col\n",
      "[0, 2] [0, 1]\n",
      "Current State: [[(1, 0), (3, 1)], [(2, 2), (3, 3)]] Previous Move: col\n",
      "[0, 2] [1, 2]\n",
      "Current State: [[(3, 1), (1, 1)], [(3, 3), (0, 2)]] Previous Move: row\n",
      "[0, 1] [1, 2]\n",
      "Current State: [[(3, 1), (1, 1)], [(3, 0), (0, 1)]] Previous Move: row\n",
      "[0] [1, 2]\n",
      "Current State: [[(3, 1), (1, 1)]] Previous Move: row\n",
      "[2] [0, 1]\n",
      "Current State: [[(2, 2), (3, 3)]] Previous Move: row\n",
      "[0, 2] [1]\n",
      "Current State: [[(3, 1)], [(3, 3)]] Previous Move: col\n",
      "[0, 1] [2]\n",
      "Current State: [[(1, 1)], [(0, 1)]] Previous Move: col\n",
      "[2] [1]\n",
      "Current State: [[(3, 3)]] Previous Move: col\n",
      "[0] [2]\n",
      "Current State: [[(1, 1)]] Previous Move: row\n",
      "[(1, 2), (2, 0)]\n"
     ]
    }
   ],
   "source": [
    "solution = solve_game(test_1, weak=True)\n",
    "print(solution)"
   ]
  },
  {
   "cell_type": "markdown",
   "metadata": {},
   "source": [
    "### Test Game 1. Create a 3x3 two player game\n",
    "\n",
    "**that can only be solved using the Successive Elimintation of Strongly Dominated Strategies**\n",
    "\n",
    "| Player 1 / Player 2  | 0 | 1 | 2 |\n",
    "|----|----|----|----|\n",
    "|0  | 1/0 | 3/1 | 1/1 |\n",
    "|1  | 1/1 | 3/0 | 0/1 |\n",
    "|2  | 2/2 | 3/3 | 0/2 |\n",
    "\n",
    "**Solution:** {(2, 0), (1, 2)}"
   ]
  },
  {
   "cell_type": "code",
   "execution_count": 135,
   "metadata": {},
   "outputs": [
    {
     "name": "stdout",
     "output_type": "stream",
     "text": [
      "Rows: {0} Cols: {1}\n",
      "[1, 2] [0, 1, 2]\n",
      "Current State: [[(3, 2), (2, 1), (1, 0)], [(1, 3), (0, 1), (2, 1)]] Previous Move: row\n",
      "[0, 1, 2] [0, 2]\n",
      "Current State: [[(2, 1), (0, 2)], [(3, 2), (1, 0)], [(1, 3), (2, 1)]] Previous Move: col\n",
      "[1, 2] [0, 2]\n",
      "Current State: [[(3, 2), (1, 0)], [(1, 3), (2, 1)]] Previous Move: col\n",
      "[1, 2] [0, 1]\n",
      "Current State: [[(3, 2), (2, 1)], [(1, 3), (0, 1)]] Previous Move: col\n",
      "[1, 2] [0, 2]\n",
      "Current State: [[(3, 2), (1, 0)], [(1, 3), (2, 1)]] Previous Move: row\n",
      "[1] [0, 1]\n",
      "Current State: [[(3, 2), (2, 1)]] Previous Move: row\n",
      "[1, 2] [0]\n",
      "Current State: [[(3, 2)], [(1, 3)]] Previous Move: col\n",
      "[1] [0]\n",
      "Current State: [[(3, 2)]] Previous Move: col\n",
      "[1] [0]\n",
      "Current State: [[(3, 2)]] Previous Move: row\n",
      "[(0, 1)]\n"
     ]
    }
   ],
   "source": [
    "test_game_1 = [\n",
    "    [(2, 1), (1, 0), (0, 2)],\n",
    "    [(3, 2), (2, 1), (1, 0)],\n",
    "    [(1, 3), (0, 1), (2, 1)],\n",
    "]\n",
    "\n",
    "solution = solve_game(test_game_1, weak=False)\n",
    "print(solution)"
   ]
  },
  {
   "cell_type": "code",
   "execution_count": 136,
   "metadata": {},
   "outputs": [],
   "source": [
    "assert solution == [(0, 1)] # insert your solution from above. TODO: change to return indices instead of values"
   ]
  },
  {
   "cell_type": "markdown",
   "metadata": {},
   "source": [
    "### Test Game 2. Create a 3x3 two player game\n",
    "\n",
    "**that can only be solved using the Successive Elimintation of Weakly Dominated Strategies**\n",
    "\n",
    "| Player 1 / Player 2  | 0 | 1 | 2 |\n",
    "|----|----|----|----|\n",
    "|0  | ? | ? | ? |\n",
    "|1  | ? | ? | ? |\n",
    "|2  | ? | ? | ? |\n",
    "\n",
    "**Solution:**? (strategy indices)"
   ]
  },
  {
   "cell_type": "code",
   "execution_count": 137,
   "metadata": {},
   "outputs": [
    {
     "name": "stdout",
     "output_type": "stream",
     "text": [
      "Rows: {2} Cols: set()\n",
      "[0, 1] [0, 1, 2]\n",
      "Current State: [[(2, 1), (3, 0), (4, 2)], [(1, 1), (3, 1), (3, 1)]] Previous Move: row\n",
      "Rows: {1, 2} Cols: {1}\n",
      "[0, 2] [0, 1, 2]\n",
      "Current State: [[(2, 1), (3, 0), (4, 2)], [(0, 1), (1, 1), (2, 0)]] Previous Move: row\n",
      "[0, 1] [0, 1, 2]\n",
      "Current State: [[(2, 1), (3, 0), (4, 2)], [(1, 1), (3, 1), (3, 1)]] Previous Move: row\n",
      "[0, 1, 2] [0, 2]\n",
      "Current State: [[(2, 1), (4, 2)], [(1, 1), (3, 1)], [(0, 1), (2, 0)]] Previous Move: col\n",
      "[0, 2] [0, 2]\n",
      "Current State: [[(2, 1), (4, 2)], [(0, 1), (2, 0)]] Previous Move: col\n",
      "[0, 1] [1, 2]\n",
      "Current State: [[(3, 0), (4, 2)], [(3, 1), (3, 1)]] Previous Move: col\n",
      "[0, 1] [0, 2]\n",
      "Current State: [[(2, 1), (4, 2)], [(1, 1), (3, 1)]] Previous Move: col\n",
      "[0, 2] [0, 2]\n",
      "Current State: [[(2, 1), (4, 2)], [(0, 1), (2, 0)]] Previous Move: row\n",
      "[0, 1] [0, 2]\n",
      "Current State: [[(2, 1), (4, 2)], [(1, 1), (3, 1)]] Previous Move: row\n",
      "[0] [0, 2]\n",
      "Current State: [[(2, 1), (4, 2)]] Previous Move: row\n",
      "[0] [1, 2]\n",
      "Current State: [[(3, 0), (4, 2)]] Previous Move: row\n",
      "[0] [0, 2]\n",
      "Current State: [[(2, 1), (4, 2)]] Previous Move: row\n",
      "[0, 1] [2]\n",
      "Current State: [[(4, 2)], [(3, 1)]] Previous Move: col\n",
      "[0] [2]\n",
      "Current State: [[(4, 2)]] Previous Move: col\n",
      "[0] [2]\n",
      "Current State: [[(4, 2)]] Previous Move: col\n",
      "[0] [2]\n",
      "Current State: [[(4, 2)]] Previous Move: col\n",
      "[0] [2]\n",
      "Current State: [[(4, 2)]] Previous Move: row\n"
     ]
    }
   ],
   "source": [
    "test_game_2 = [\n",
    "    [(2, 1), (3, 0), (4, 2)],\n",
    "    [(1, 1), (3, 1), (3, 1)],\n",
    "    [(0, 1), (1, 1), (2, 0)],\n",
    "]\n",
    "\n",
    "strong_solution = solve_game( test_game_2)\n",
    "weak_solution = solve_game( test_game_2, weak=True)"
   ]
  },
  {
   "cell_type": "code",
   "execution_count": 138,
   "metadata": {},
   "outputs": [
    {
     "name": "stdout",
     "output_type": "stream",
     "text": [
      "Strong Solution: []\n",
      "Weak Solution: [(2, 0)]\n"
     ]
    }
   ],
   "source": [
    "print(\"Strong Solution:\", strong_solution)\n",
    "print(\"Weak Solution:\", weak_solution)"
   ]
  },
  {
   "cell_type": "code",
   "execution_count": 140,
   "metadata": {},
   "outputs": [],
   "source": [
    "assert strong_solution == []\n",
    "assert weak_solution == [(2, 0)]"
   ]
  },
  {
   "cell_type": "markdown",
   "metadata": {},
   "source": [
    "### Test Game 3. Create a 3x3 two player game\n",
    "\n",
    "**that cannot be solved using the Successive Elimintation of Dominated Strategies at all**\n",
    "\n",
    "| Player 1 / Player 2  | 0 | 1 | 2 |\n",
    "|----|----|----|----|\n",
    "|0  | ? | ? | ? |\n",
    "|1  | ? | ? | ? |\n",
    "|2  | ? | ? | ? |\n",
    "\n",
    "**Solution:** None"
   ]
  },
  {
   "cell_type": "code",
   "execution_count": 141,
   "metadata": {},
   "outputs": [
    {
     "name": "stdout",
     "output_type": "stream",
     "text": [
      "Rows: set() Cols: set()\n",
      "Rows: set() Cols: set()\n"
     ]
    }
   ],
   "source": [
    "test_game_3 = [\n",
    "    [(1, 1), (0, 2), (3, 0)],\n",
    "    [(0, 0), (2, 1), (1, 3)],\n",
    "    [(2, 3), (1, 0), (0, 2)],\n",
    "]\n",
    "\n",
    "strong_solution = solve_game( test_game_3)\n",
    "weak_solution = solve_game( test_game_3, weak=True)"
   ]
  },
  {
   "cell_type": "code",
   "execution_count": 142,
   "metadata": {},
   "outputs": [
    {
     "name": "stdout",
     "output_type": "stream",
     "text": [
      "Strong Solution: []\n",
      "Weak Solution: []\n"
     ]
    }
   ],
   "source": [
    "print(\"Strong Solution:\", strong_solution)\n",
    "print(\"Weak Solution:\", weak_solution)"
   ]
  },
  {
   "cell_type": "code",
   "execution_count": 143,
   "metadata": {},
   "outputs": [],
   "source": [
    "assert strong_solution == []\n",
    "assert weak_solution == []"
   ]
  },
  {
   "cell_type": "markdown",
   "metadata": {},
   "source": [
    "### Test Game 4. Multiple Equilibria\n",
    "\n",
    "You solved the following game by hand, above.\n",
    "Now use your code to solve it.\n",
    "\n",
    "| Player 1 / Player 2  | 0 | 1 | 2 |\n",
    "|----|----|----|----|\n",
    "|0  | 1/0 | 3/1 | 1/1 |\n",
    "|1  | 1/1 | 3/0 | 0/1 |\n",
    "|2  | 2/2 | 3/3 | 0/2 |\n",
    "\n",
    "**Solutions:** (copy from above)"
   ]
  },
  {
   "cell_type": "code",
   "execution_count": 144,
   "metadata": {},
   "outputs": [
    {
     "name": "stdout",
     "output_type": "stream",
     "text": [
      "Rows: set() Cols: set()\n",
      "Rows: {1} Cols: {0}\n",
      "[0, 2] [0, 1, 2]\n",
      "Current State: [[(1, 0), (3, 1), (1, 1)], [(2, 2), (3, 3), (0, 2)]] Previous Move: row\n",
      "[0, 1, 2] [1, 2]\n",
      "Current State: [[(3, 1), (1, 1)], [(3, 0), (0, 1)], [(3, 3), (0, 2)]] Previous Move: col\n",
      "[0, 2] [1, 2]\n",
      "Current State: [[(3, 1), (1, 1)], [(3, 3), (0, 2)]] Previous Move: col\n",
      "[0, 2] [0, 1]\n",
      "Current State: [[(1, 0), (3, 1)], [(2, 2), (3, 3)]] Previous Move: col\n",
      "[0, 2] [1, 2]\n",
      "Current State: [[(3, 1), (1, 1)], [(3, 3), (0, 2)]] Previous Move: row\n",
      "[0, 1] [1, 2]\n",
      "Current State: [[(3, 1), (1, 1)], [(3, 0), (0, 1)]] Previous Move: row\n",
      "[0] [1, 2]\n",
      "Current State: [[(3, 1), (1, 1)]] Previous Move: row\n",
      "[2] [0, 1]\n",
      "Current State: [[(2, 2), (3, 3)]] Previous Move: row\n",
      "[0, 2] [1]\n",
      "Current State: [[(3, 1)], [(3, 3)]] Previous Move: col\n",
      "[0, 1] [2]\n",
      "Current State: [[(1, 1)], [(0, 1)]] Previous Move: col\n",
      "[2] [1]\n",
      "Current State: [[(3, 3)]] Previous Move: col\n",
      "[0] [2]\n",
      "Current State: [[(1, 1)]] Previous Move: row\n"
     ]
    }
   ],
   "source": [
    "test_game_4 = [\n",
    "[(1, 0), (3, 1), (1, 1)],\n",
    "[(1, 1), (3, 0), (0, 1)],\n",
    "[(2, 2), (3, 3), (0, 2)]]\n",
    "\n",
    "strong_solution = solve_game( test_game_4)\n",
    "weak_solution = solve_game( test_game_4, weak=True)"
   ]
  },
  {
   "cell_type": "code",
   "execution_count": 145,
   "metadata": {},
   "outputs": [
    {
     "name": "stdout",
     "output_type": "stream",
     "text": [
      "Strong Solution: []\n",
      "Weak Solution: [(1, 2), (2, 0)]\n"
     ]
    }
   ],
   "source": [
    "print(\"Strong Solution:\", strong_solution)\n",
    "print(\"Weak Solution:\", weak_solution)"
   ]
  },
  {
   "cell_type": "code",
   "execution_count": 147,
   "metadata": {},
   "outputs": [],
   "source": [
    "assert strong_solution == []\n",
    "assert weak_solution == [(1, 2), (2, 0)] # put solution here"
   ]
  },
  {
   "cell_type": "markdown",
   "metadata": {},
   "source": [
    "## Before You Submit...\n",
    "\n",
    "1. Did you provide output exactly as requested? **Don't forget to fill out the Markdown tables with your games**.\n",
    "2. Did you re-execute the entire notebook? (\"Restart Kernel and Rull All Cells...\")\n",
    "3. If you did not complete the assignment or had difficulty please explain what gave you the most difficulty in the Markdown cell below.\n",
    "4. Did you change the name of the file to `jhed_id.ipynb`?\n",
    "\n",
    "Do not submit any other files."
   ]
  }
 ],
 "metadata": {
  "kernelspec": {
   "display_name": "base",
   "language": "python",
   "name": "python3"
  },
  "language_info": {
   "codemirror_mode": {
    "name": "ipython",
    "version": 3
   },
   "file_extension": ".py",
   "mimetype": "text/x-python",
   "name": "python",
   "nbconvert_exporter": "python",
   "pygments_lexer": "ipython3",
   "version": "3.9.18"
  },
  "toc": {
   "colors": {
    "hover_highlight": "#DAA520",
    "navigate_num": "#000000",
    "navigate_text": "#333333",
    "running_highlight": "#FF0000",
    "selected_highlight": "#FFD700",
    "sidebar_border": "#EEEEEE",
    "wrapper_background": "#FFFFFF"
   },
   "moveMenuLeft": true,
   "nav_menu": {
    "height": "135px",
    "width": "252px"
   },
   "navigate_menu": true,
   "number_sections": true,
   "sideBar": true,
   "threshold": 4,
   "toc_cell": false,
   "toc_section_display": "block",
   "toc_window_display": false,
   "widenNotebook": false
  }
 },
 "nbformat": 4,
 "nbformat_minor": 4
}
