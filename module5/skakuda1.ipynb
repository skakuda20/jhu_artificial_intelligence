{
 "cells": [
  {
   "cell_type": "markdown",
   "metadata": {},
   "source": [
    "# Module 5 - Programming Assignment\n",
    "\n",
    "## Directions\n",
    "\n",
    "1. Change the name of this file to be your JHED id as in `jsmith299.ipynb`. Because sure you use your JHED ID (it's made out of your name and not your student id which is just letters and numbers).\n",
    "2. Make sure the notebook you submit is cleanly and fully executed. I do not grade unexecuted notebooks.\n",
    "3. Submit your notebook back in Blackboard where you downloaded this file.\n",
    "\n",
    "*Provide the output **exactly** as requested*"
   ]
  },
  {
   "cell_type": "markdown",
   "metadata": {},
   "source": [
    "## Solving Normal Form Games"
   ]
  },
  {
   "cell_type": "code",
   "execution_count": 73,
   "metadata": {},
   "outputs": [],
   "source": [
    "from typing import List, Tuple, Dict, Callable"
   ]
  },
  {
   "cell_type": "markdown",
   "metadata": {},
   "source": [
    "In the lecture we talked about the Prisoner's Dilemma game, shown here in Normal Form:\n",
    "\n",
    "Player 1 / Player 2  | Defect | Cooperate\n",
    "------------- | ------------- | -------------\n",
    "Defect  | -5, -5 | -1, -10\n",
    "Cooperate  | -10, -1 | -2, -2\n",
    "\n",
    "where the payoff to Player 1 is the left number and the payoff to Player 2 is the right number. We can represent each payoff cell as a Tuple: `(-5, -5)`, for example. We can represent each row as a List of Tuples: `[(-5, -5), (-1, -10)]` would be the first row and the entire table as a List of Lists:"
   ]
  },
  {
   "cell_type": "code",
   "execution_count": 74,
   "metadata": {},
   "outputs": [
    {
     "data": {
      "text/plain": [
       "[[(-5, -5), (-1, -10)], [(-10, -1), (-2, -2)]]"
      ]
     },
     "execution_count": 74,
     "metadata": {},
     "output_type": "execute_result"
    }
   ],
   "source": [
    "prisoners_dilemma = [\n",
    " [( -5, -5), (-1,-10)],\n",
    " [(-10, -1), (-2, -2)]]\n",
    "\n",
    "prisoners_dilemma"
   ]
  },
  {
   "cell_type": "markdown",
   "metadata": {},
   "source": [
    "in which case the strategies are represented by indices into the List of Lists. For example, `(Defect, Cooperate)` for the above game becomes `prisoners_dilemma[ 0][ 1]` and returns the payoff `(-1, -10)` because 0 is the first row of the table (\"Defect\" for Player 1) and 1 is the 2nd column of the row (\"Cooperate\" for Player 2).\n",
    "\n",
    "For this assignment, you are going write a function that uses Successive Elimination of Dominated Strategies (SEDS) to find the **pure strategy** Nash Equilibrium of a Normal Form Game. The function is called `solve_game`:\n",
    "\n",
    "```python\n",
    "def solve_game( game: List[List[Tuple]], weak=False) -> List[Tuple]:\n",
    "    pass # returns strategy indices of Nash equilibrium or None.\n",
    "```\n",
    "\n",
    "and it takes two parameters: the game, in a format that we described earlier and an optional boolean flag that controls whether the algorithm considers only **strongly dominated strategies** (the default will be false) or whether it should consider **weakly dominated strategies** as well.\n",
    "\n",
    "It should work with game matrices of any size and it will return the **strategy indices** of the Nash Equilibrium. If there is no **pure strategy** equilibrium that can be found using SEDS, return the empty List (`[]`).\n",
    "\n",
    "\n",
    "<div style=\"background: mistyrose; color: firebrick; border: 2px solid darkred; padding: 5px; margin: 10px;\">\n",
    "Do not return the payoff. That's not useful. Return the strategy indices, any other output is incorrect.\n",
    "</div>\n",
    "\n",
    "As before, you must provide your implementation in the space below, one Markdown cell for documentation and one Code cell for implementation, one function and assertations per Codecell.\n",
    "\n",
    "\n",
    "---"
   ]
  },
  {
   "cell_type": "markdown",
   "metadata": {},
   "source": [
    "### dominated_cols\n",
    "Takes the current game state and returns a set of indices of columns that are dominated. A column is dominated if it is either weakly or strictly dominated by another column. **Used by**: [generate_next_states](#generate_next_states)\n",
    "\n",
    "* **game** List[List[Tuple[int, int]]]:  The game matrix where each entry is a tuple of payoffs for each player.\n",
    "* **weak** bool: Whether to use weak domination\n",
    "\n",
    "**returns** A set of indices of dominated columns"
   ]
  },
  {
   "cell_type": "code",
   "execution_count": 75,
   "metadata": {},
   "outputs": [],
   "source": [
    "def dominated_cols(game: List[List[Tuple]], weak: bool=False) -> set:\n",
    "    cols = [] \n",
    "    for i in range(len(game[0])):\n",
    "        col = [game[j][i][1] for j in range(len(game))]\n",
    "        cols.append(col)\n",
    "    \n",
    "    dominated = set()\n",
    "    for i in range(len(cols)):\n",
    "        for j in range(len(cols)):\n",
    "            if i != j:\n",
    "                if weak:\n",
    "                    if all(cols[i][k] <= cols[j][k] for k in range(len(cols[i]))) and any(cols[i][k] < cols[j][k] for k in range(len(cols[i]))):\n",
    "                        dominated.add(i)\n",
    "                else:\n",
    "                    if all(cols[i][k] < cols[j][k] for k in range(len(cols[i]))):\n",
    "                        dominated.add(i)\n",
    "    return dominated"
   ]
  },
  {
   "cell_type": "code",
   "execution_count": 76,
   "metadata": {},
   "outputs": [],
   "source": [
    "assert dominated_cols(prisoners_dilemma) == {1}\n",
    "assert dominated_cols([[(1, 1), (3, 2)], [(5, 6), (7, 6)]]) == set()\n",
    "assert dominated_cols([[(1, 1), (3, 2)], [(5, 6), (7, 6)]], True) == {0}"
   ]
  },
  {
   "cell_type": "markdown",
   "metadata": {},
   "source": [
    "### dominated_rows\n",
    "`dominated_rows` Takes the current game state and returns a set of indices of rows that are dominated. A row is dominated if it is either weakly or strictly dominated by another row. **Used by**: [generate_next_states](#generate_next_states)\n",
    "\n",
    "* **game** List[List[Tuple[int, int]]]:  The game matrix where each entry is a tuple of payoffs for each player.\n",
    "* **weak** bool: Whether to use weak domination\n",
    "\n",
    "**returns** A set of indices of dominated columns"
   ]
  },
  {
   "cell_type": "code",
   "execution_count": 77,
   "metadata": {},
   "outputs": [],
   "source": [
    "def dominated_rows(game: List[List[Tuple]], weak: bool=False) -> set:\n",
    "    rows = []\n",
    "    for i in range(len(game)):\n",
    "        row = game[i]\n",
    "        rows.append(row)\n",
    "\n",
    "    dominated = set()\n",
    "    for i in range(len(rows)):\n",
    "        for j in range(len(rows)):\n",
    "            if i != j:\n",
    "                if weak:\n",
    "                    if all(rows[i][k][0] <= rows[j][k][0] for k in range(len(rows[i]))) and any(rows[i][k][0] < rows[j][k][0] for k in range(len(rows[i]))):\n",
    "                        dominated.add(i)\n",
    "                else:\n",
    "                    if all(rows[i][k][0] < rows[j][k][0] for k in range(len(rows[i]))):\n",
    "                        dominated.add(i)\n",
    "    return dominated"
   ]
  },
  {
   "cell_type": "code",
   "execution_count": 78,
   "metadata": {},
   "outputs": [],
   "source": [
    "assert dominated_rows(prisoners_dilemma) == {1}\n",
    "assert dominated_rows([[(1, 2), (3, 4)], [(5, 6), (3, 7)]]) == set()\n",
    "assert dominated_rows([[(1, 2), (3, 4)], [(5, 6), (3, 7)]], True) == {0}"
   ]
  },
  {
   "cell_type": "markdown",
   "metadata": {},
   "source": [
    "### remove_col\n",
    "`remove_col` Removes a column from the game matrix. **Used by**: [generate_next_states](#generate_next_states)\n",
    "\n",
    "* **game** List[List[Tuple[int, int]]]:  The game matrix where each entry is a tuple of payoffs for each player.\n",
    "* **col** int: The index of the column to remove.\n",
    "\n",
    "**return** A new game matrix with the specified column removed."
   ]
  },
  {
   "cell_type": "code",
   "execution_count": 79,
   "metadata": {},
   "outputs": [],
   "source": [
    "def remove_col(game: List[List[Tuple]], col: int) -> List[List[Tuple]]:\n",
    "    new_game = []\n",
    "    for row in game:\n",
    "        new_row = [cell for i, cell in enumerate(row) if i != col]\n",
    "        new_game.append(new_row)\n",
    "    return new_game"
   ]
  },
  {
   "cell_type": "code",
   "execution_count": 80,
   "metadata": {},
   "outputs": [],
   "source": [
    "assert remove_col([[(1, 2), (3, 4)], [(5, 6), (3, 7)]], 0) == [[(3, 4)], [(3, 7)]]\n",
    "assert remove_col([[(1, 2), (3, 4)], [(5, 6), (3, 7)]], 1) == [[(1, 2)], [(5, 6)]]\n",
    "assert remove_col([[(1, 2), (3, 4)], [(5, 6), (3, 7)]], 2) == [[(1, 2), (3, 4)], [(5, 6), (3, 7)]]"
   ]
  },
  {
   "cell_type": "markdown",
   "metadata": {},
   "source": [
    "### remove_row\n",
    "`remove_row` Remove row from the game matrix. **Used by**: [generate_next_states](#generate_next_states)\n",
    "\n",
    "* **game** List[List[Tuple[int, int]]]:  The game matrix where each entry is a tuple of payoffs for each player.\n",
    "* **col** int: The index of the row to remove.\n",
    "\n",
    "**return** A new game matrix with the specified row removed."
   ]
  },
  {
   "cell_type": "code",
   "execution_count": 81,
   "metadata": {},
   "outputs": [],
   "source": [
    "def remove_row(game: List[List[Tuple]], row: int) -> List[List[Tuple]]:\n",
    "    return [game[i] for i in range(len(game)) if i != row]"
   ]
  },
  {
   "cell_type": "code",
   "execution_count": 82,
   "metadata": {},
   "outputs": [],
   "source": [
    "assert remove_row([[(1, 2), (3, 4)], [(5, 6), (3, 7)]], 0) == [[(5, 6), (3, 7)]]\n",
    "assert remove_row([[(1, 2), (3, 4)], [(5, 6), (3, 7)]], 1) == [[(1, 2), (3, 4)]]\n",
    "assert remove_row([[(1, 2), (3, 4)], [(5, 6), (3, 7)]], 2) == [[(1, 2), (3, 4)], [(5, 6), (3, 7)]]"
   ]
  },
  {
   "cell_type": "markdown",
   "metadata": {},
   "source": [
    "### generate_next_states\n",
    "`generate_next_states` takes the current game state and generates the next possible states based on the previous move. **Used by**: [solve_game](#solve_game)\n",
    "\n",
    "* **game** List[List[Tuple[int, int]]]:  The game matrix where each entry is a tuple of payoffs for each player.\n",
    "* **prev_move** str: The last move made, either \"row\", \"col\" or None.\n",
    "* **row_map** List[int]: A mapping of the original rows to the current state.\n",
    "* **col_map** List[int]: A mapping of the original columns to the current state.\n",
    "* **weak** bool: Whether to use weak domination\n",
    "\n",
    "**returns** A list of tuples where each tuple contains a new game state, the type of move made (\"row\" or \"col\"), and the updated row and column mappings."
   ]
  },
  {
   "cell_type": "code",
   "execution_count": 83,
   "metadata": {},
   "outputs": [],
   "source": [
    "def generate_next_states(game: List[List[Tuple]], prev_move: str, row_map: List[int], col_map: List[int], weak: bool=False) -> List[Tuple[List[List[Tuple]], str, List[int], List[int]]]:\n",
    "    next_states = []\n",
    "    if prev_move == \"row\":\n",
    "        dominated = dominated_cols(game, weak)\n",
    "        if dominated:\n",
    "            for col in dominated:\n",
    "                next_state = remove_col(game, col)\n",
    "                next_states.append((next_state, \"col\", row_map, col_map[:col] + col_map[col+1:]))\n",
    "    \n",
    "    elif prev_move == \"col\":\n",
    "        dominated = dominated_rows(game, weak)\n",
    "        if dominated:\n",
    "            for row in dominated:\n",
    "                next_state = remove_row(game, row)\n",
    "                next_states.append((next_state, \"row\", row_map[:row] + row_map[row+1:], col_map))\n",
    "    else:\n",
    "        rows = dominated_rows(game, weak)\n",
    "        cols = dominated_cols(game, weak)\n",
    "        for row in rows:\n",
    "            next_state = remove_row(game, row)\n",
    "            next_states.append((next_state, \"row\", row_map[:row] + row_map[row+1:], col_map))\n",
    "        for col in cols:\n",
    "            next_state = remove_col(game, col)\n",
    "            next_states.append((next_state, \"col\", row_map, col_map[:col] + col_map[col+1:]))\n",
    "\n",
    "    return next_states"
   ]
  },
  {
   "cell_type": "markdown",
   "metadata": {},
   "source": [
    "### solve_game\n",
    "`solve_game` Solves the game by applying Successive Elimination of Dominated Strategies (SEDS) to find the pure strategy Nash Equilibrium of a Normal Form Game.\n",
    "\n",
    "* **game** List[List[Tuple[int, int]]]:  The game matrix where each entry is a tuple of payoffs for each player.\n",
    "* **weak** bool: Whether to use weak domination\n",
    "\n",
    "**returns** A list of tuples representing the Nash Equilibria of the game."
   ]
  },
  {
   "cell_type": "code",
   "execution_count": 84,
   "metadata": {},
   "outputs": [],
   "source": [
    "def solve_game(game: List[List[Tuple]], weak: bool=False) -> List[Tuple]:\n",
    "    row_map = [i for i in range(len(game))]\n",
    "    col_map = [i for i in range(len(game[0]))]\n",
    "    next_states = generate_next_states(game, None, row_map, col_map, weak)\n",
    "    equilibriums = set()\n",
    "\n",
    "    while next_states:\n",
    "        current_state, prev_move, row_map, col_map = next_states.pop(0)\n",
    "\n",
    "        next_states += generate_next_states(current_state, prev_move, row_map, col_map, weak)\n",
    "\n",
    "        if len(current_state) == 1 and len(current_state[0]) == 1:\n",
    "            equilibriums.add((col_map[0], row_map[0]))\n",
    "\n",
    "    return list(equilibriums)\n",
    "    "
   ]
  },
  {
   "cell_type": "markdown",
   "metadata": {},
   "source": [
    "## Additional Directions\n",
    "\n",
    "Create three games as described and according to the following:\n",
    "\n",
    "1. Your games must be created and solved \"by hand\".\n",
    "2. The strategy pairs must **not** be on the main diagonal (0, 0), (1, 1), or (2, 2). And the solution cannot be the same for both Game 1 and Game 2.\n",
    "3. Make sure you fill out the Markdown (\"?\") with your game as well as the solution (\"?\").\n",
    "4. Remember, **do not return the payoff**, return the strategy indices (a list of them)."
   ]
  },
  {
   "cell_type": "markdown",
   "metadata": {},
   "source": [
    "## Before you code...\n",
    "\n",
    "Solve the following game by hand using SEDS and weakly dominated strategies. \n",
    "The game has two (pure) Nash Equilibriums. \n",
    "You should find all of them.\n",
    "This will help you think about what you need to implement to make the algorithm work.\n",
    "**Hint**: You will need State Space Search from Module 1 and SEDS from Module 5 to get the full algorithm to work.\n",
    "\n",
    "| Player 1 / Player 2  | 0 | 1 | 2 |\n",
    "|----|----|----|----|\n",
    "|0  | 1/0 | 3/1 | 1/1 |\n",
    "|1  | 1/1 | 3/0 | 0/1 |\n",
    "|2  | 2/2 | 3/3 | 0/2 |\n",
    "\n",
    "**Solutions**: [(1, 2), (2, 0)]"
   ]
  },
  {
   "cell_type": "markdown",
   "metadata": {},
   "source": [
    "### Test Game 1. Create a 3x3 two player game\n",
    "\n",
    "**that can only be solved using the Successive Elimintation of Strongly Dominated Strategies**\n",
    "\n",
    "| Player 1 / Player 2  | 0 | 1 | 2 |\n",
    "|----|----|----|----|\n",
    "|0  | 1/0 | 3/1 | 1/1 |\n",
    "|1  | 1/1 | 3/0 | 0/1 |\n",
    "|2  | 2/2 | 3/3 | 0/2 |\n",
    "\n",
    "**Solution:** {(2, 0), (1, 2)}"
   ]
  },
  {
   "cell_type": "code",
   "execution_count": 85,
   "metadata": {},
   "outputs": [],
   "source": [
    "test_game_1 = [\n",
    "    [(2, 1), (1, 0), (0, 2)],\n",
    "    [(3, 2), (2, 1), (1, 0)],\n",
    "    [(1, 3), (0, 1), (2, 1)],\n",
    "]\n",
    "\n",
    "solution = solve_game(test_game_1, weak=False)"
   ]
  },
  {
   "cell_type": "code",
   "execution_count": 86,
   "metadata": {},
   "outputs": [],
   "source": [
    "assert solution == [(0, 1)] # insert your solution from above. TODO: change to return indices instead of values"
   ]
  },
  {
   "cell_type": "markdown",
   "metadata": {},
   "source": [
    "### Test Game 2. Create a 3x3 two player game\n",
    "\n",
    "**that can only be solved using the Successive Elimintation of Weakly Dominated Strategies**\n",
    "\n",
    "| Player 1 / Player 2  | 0 | 1 | 2 |\n",
    "|----|----|----|----|\n",
    "|0  | 2/1 | 3/0 | 4/2 |\n",
    "|1  | 1/1 | 3/1 | 3/1 |\n",
    "|2  | 0/1 | 1/1 | 2/0 |\n",
    "\n",
    "**Solution:** [(2, 0)]"
   ]
  },
  {
   "cell_type": "code",
   "execution_count": 87,
   "metadata": {},
   "outputs": [],
   "source": [
    "test_game_2 = [\n",
    "    [(2, 1), (3, 0), (4, 2)],\n",
    "    [(1, 1), (3, 1), (3, 1)],\n",
    "    [(0, 1), (1, 1), (2, 0)],\n",
    "]\n",
    "\n",
    "strong_solution = solve_game( test_game_2)\n",
    "weak_solution = solve_game( test_game_2, weak=True)"
   ]
  },
  {
   "cell_type": "code",
   "execution_count": 88,
   "metadata": {},
   "outputs": [],
   "source": [
    "assert strong_solution == []\n",
    "assert weak_solution == [(2, 0)]"
   ]
  },
  {
   "cell_type": "markdown",
   "metadata": {},
   "source": [
    "### Test Game 3. Create a 3x3 two player game\n",
    "\n",
    "**that cannot be solved using the Successive Elimintation of Dominated Strategies at all**\n",
    "\n",
    "| Player 1 / Player 2  | 0 | 1 | 2 |\n",
    "|----|----|----|----|\n",
    "|0  | 1/1 | 0/2 | 3/0 |\n",
    "|1  | 0/0 | 2/1 | 1/3 |\n",
    "|2  | 2/3 | 1/0 | 0/2 |\n",
    "\n",
    "**Solution:** None"
   ]
  },
  {
   "cell_type": "code",
   "execution_count": 89,
   "metadata": {},
   "outputs": [],
   "source": [
    "test_game_3 = [\n",
    "    [(1, 1), (0, 2), (3, 0)],\n",
    "    [(0, 0), (2, 1), (1, 3)],\n",
    "    [(2, 3), (1, 0), (0, 2)],\n",
    "]\n",
    "\n",
    "strong_solution = solve_game( test_game_3)\n",
    "weak_solution = solve_game( test_game_3, weak=True)"
   ]
  },
  {
   "cell_type": "code",
   "execution_count": 90,
   "metadata": {},
   "outputs": [],
   "source": [
    "assert strong_solution == []\n",
    "assert weak_solution == []"
   ]
  },
  {
   "cell_type": "markdown",
   "metadata": {},
   "source": [
    "### Test Game 4. Multiple Equilibria\n",
    "\n",
    "You solved the following game by hand, above.\n",
    "Now use your code to solve it.\n",
    "\n",
    "| Player 1 / Player 2  | 0 | 1 | 2 |\n",
    "|----|----|----|----|\n",
    "|0  | 1/0 | 3/1 | 1/1 |\n",
    "|1  | 1/1 | 3/0 | 0/1 |\n",
    "|2  | 2/2 | 3/3 | 0/2 |\n",
    "\n",
    "**Solutions:** [(1, 2), (2, 0)]"
   ]
  },
  {
   "cell_type": "code",
   "execution_count": 91,
   "metadata": {},
   "outputs": [],
   "source": [
    "test_game_4 = [\n",
    "[(1, 0), (3, 1), (1, 1)],\n",
    "[(1, 1), (3, 0), (0, 1)],\n",
    "[(2, 2), (3, 3), (0, 2)]]\n",
    "\n",
    "strong_solution = solve_game( test_game_4)\n",
    "weak_solution = solve_game( test_game_4, weak=True)"
   ]
  },
  {
   "cell_type": "code",
   "execution_count": 92,
   "metadata": {},
   "outputs": [],
   "source": [
    "assert strong_solution == []\n",
    "assert weak_solution == [(1, 2), (2, 0)]"
   ]
  },
  {
   "cell_type": "markdown",
   "metadata": {},
   "source": [
    "## Before You Submit...\n",
    "\n",
    "1. Did you provide output exactly as requested? **Don't forget to fill out the Markdown tables with your games**.\n",
    "2. Did you re-execute the entire notebook? (\"Restart Kernel and Rull All Cells...\")\n",
    "3. If you did not complete the assignment or had difficulty please explain what gave you the most difficulty in the Markdown cell below.\n",
    "4. Did you change the name of the file to `jhed_id.ipynb`?\n",
    "\n",
    "Do not submit any other files."
   ]
  }
 ],
 "metadata": {
  "kernelspec": {
   "display_name": "base",
   "language": "python",
   "name": "python3"
  },
  "language_info": {
   "codemirror_mode": {
    "name": "ipython",
    "version": 3
   },
   "file_extension": ".py",
   "mimetype": "text/x-python",
   "name": "python",
   "nbconvert_exporter": "python",
   "pygments_lexer": "ipython3",
   "version": "3.9.18"
  },
  "toc": {
   "colors": {
    "hover_highlight": "#DAA520",
    "navigate_num": "#000000",
    "navigate_text": "#333333",
    "running_highlight": "#FF0000",
    "selected_highlight": "#FFD700",
    "sidebar_border": "#EEEEEE",
    "wrapper_background": "#FFFFFF"
   },
   "moveMenuLeft": true,
   "nav_menu": {
    "height": "135px",
    "width": "252px"
   },
   "navigate_menu": true,
   "number_sections": true,
   "sideBar": true,
   "threshold": 4,
   "toc_cell": false,
   "toc_section_display": "block",
   "toc_window_display": false,
   "widenNotebook": false
  }
 },
 "nbformat": 4,
 "nbformat_minor": 4
}
