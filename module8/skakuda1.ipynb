{
 "cells": [
  {
   "cell_type": "markdown",
   "metadata": {},
   "source": [
    "# Module 8 - Programming Assignment\n",
    "\n",
    "## Directions\n",
    "\n",
    "1. Change the name of this file to be your JHED id as in `jsmith299.ipynb`. Because sure you use your JHED ID (it's made out of your name and not your student id which is just letters and numbers).\n",
    "2. Make sure the notebook you submit is cleanly and fully executed. I do not grade unexecuted notebooks.\n",
    "3. Submit your notebook back in Blackboard where you downloaded this file.\n",
    "\n",
    "*Provide the output **exactly** as requested*"
   ]
  },
  {
   "cell_type": "code",
   "execution_count": 2,
   "metadata": {},
   "outputs": [],
   "source": [
    "from copy import deepcopy\n",
    "import random"
   ]
  },
  {
   "cell_type": "markdown",
   "metadata": {},
   "source": [
    "## Decision Trees\n",
    "\n",
    "For this assignment you will be implementing and evaluating a Decision Tree using the ID3 Algorithm (**no** pruning or normalized information gain). Use the provided pseudocode. The data is located at (copy link):\n",
    "\n",
    "http://archive.ics.uci.edu/ml/datasets/Mushroom\n",
    "\n",
    "**Just in case** the UCI repository is down, which happens from time to time, I have included the data and name files on Canvas.\n",
    "\n",
    "<div style=\"background: lemonchiffon; margin:20px; padding: 20px;\">\n",
    "    <strong>Important</strong>\n",
    "    <p>\n",
    "        No Pandas. The only acceptable libraries in this class are those contained in the `environment.yml`. No OOP, either. You can used Dicts, NamedTuples, etc. as your abstract data type (ADT) for the the tree and nodes.\n",
    "    </p>\n",
    "</div>\n",
    "\n",
    "One of the things we did not talk about in the lectures was how to deal with missing values. There are two aspects of the problem here. What do we do with missing values in the training data? What do we do with missing values when doing classifcation?\n",
    "\n",
    "There are a lot of different ways that we can handle this.\n",
    "A common algorithm is to use something like kNN to impute the missing values.\n",
    "We can use conditional probability as well.\n",
    "There are also clever modifications to the Decision Tree algorithm itself that one can make.\n",
    "\n",
    "We're going to do something simpler, given the size of the data set: remove the observations with missing values (\"?\").\n",
    "\n",
    "You must implement the following functions:\n",
    "\n",
    "`train` takes training_data and returns the Decision Tree as a data structure.\n",
    "\n",
    "```\n",
    "def train(training_data):\n",
    "   # returns the Decision Tree.\n",
    "```\n",
    "\n",
    "`classify` takes a tree produced from the function above and applies it to labeled data (like the test set) or unlabeled data (like some new data).\n",
    "\n",
    "```\n",
    "def classify(tree, observations):\n",
    "    # returns a list of classifications\n",
    "```\n",
    "\n",
    "`evaluate` takes a data set with labels (like the training set or test set) and the classification result and calculates the classification error rate:\n",
    "\n",
    "$$error\\_rate=\\frac{errors}{n}$$\n",
    "\n",
    "Do not use anything else as evaluation metric or the submission will be deemed incomplete, ie, an \"F\". (Hint: accuracy rate is not the error rate!).\n",
    "\n",
    "`cross_validate` takes the data and uses 5x2 fold cross validation (from Module 2!) to `train`, `classify`, and `evaluate`. **Remember to shuffle your data before you create your folds**. I leave the exact signature of `cross_validate` to you but you should write it so that you can use it with *any* `classify` function of the same form (using higher order functions and partial application).\n",
    "\n",
    "Following Module 2's material (course notes), `cross_validate` should print out a table in exactly the same format. What you are looking for here is a consistent evaluation metric cross the folds. Print the error rate to 4 decimal places. **Do not convert to a percentage.**\n",
    "\n",
    "```\n",
    "def pretty_print_tree(tree):\n",
    "    # pretty prints the tree\n",
    "```\n",
    "\n",
    "This should be a text representation of a decision tree trained on the entire data set (no train/test).\n",
    "\n",
    "To summarize...\n",
    "\n",
    "Apply the Decision Tree algorithm to the Mushroom data set using 5x2 cross validation and the error rate as the evaluation metric. When you are done, apply the Decision Tree algorithm to the entire data set and print out the resulting tree.\n",
    "\n",
    "**Note** Because this assignment has a natural recursive implementation, you should consider using `deepcopy` at the appropriate places.\n"
   ]
  },
  {
   "cell_type": "markdown",
   "metadata": {},
   "source": [
    "### Provided Functions\n",
    "\n",
    "You do not need to document these."
   ]
  },
  {
   "cell_type": "markdown",
   "metadata": {},
   "source": [
    "You can use this function to read the data file."
   ]
  },
  {
   "cell_type": "code",
   "execution_count": 3,
   "metadata": {},
   "outputs": [],
   "source": [
    "def parse_data(file_name: str) -> list[list]:\n",
    "    data = []\n",
    "    file = open(file_name, \"r\")\n",
    "    for line in file:\n",
    "        datum = line.rstrip().split(\",\")\n",
    "        data.append(datum)\n",
    "    random.shuffle(data)\n",
    "    return data"
   ]
  },
  {
   "cell_type": "markdown",
   "metadata": {},
   "source": [
    "You can use this function to create 10 folds for 5x2 cross validation."
   ]
  },
  {
   "cell_type": "code",
   "execution_count": 4,
   "metadata": {},
   "outputs": [],
   "source": [
    "def create_folds(xs: list, n: int) -> list[list[list]]:\n",
    "    k, m = divmod(len(xs), n)\n",
    "    # be careful of generators...\n",
    "    return list(xs[i * k + min(i, m):(i + 1) * k + min(i + 1, m)] for i in range(n))"
   ]
  },
  {
   "cell_type": "code",
   "execution_count": 6,
   "metadata": {},
   "outputs": [
    {
     "name": "stdout",
     "output_type": "stream",
     "text": [
      "[['\\tstalk_surface_above_ring', ' but the rules given above are the simplest'], ['    --    edible: 4208 (51.8%)'], ['                                  green=r', 'orange=o', 'pink=p', 'purple=u', 'red=e', ''], ['                                  pink=p', 'purple=u', 'red=e', 'white=w', 'yellow=y'], [''], ['\\tlearned for this data set which may serve as a point of'], ['\\t     8 cases missed', ' 99.90% accuracy'], ['\\tLogical rules given below seem to be the simplest possible for the'], ['    -- poisonous: 3916 (48.2%)'], ['2. Sources:'], ['     1. cap-shape:                bell=b', 'conical=c', 'convex=x', 'flat=f', ''], ['4. Relevant Information:'], ['\\t          (stalk-color-above-ring=NOT.brown)'], ['\\tinvolving other attributes', ' such as gill_size', ' gill_spacing', ''], ['   attribute #11.'], ['\\tP_4) habitat=leaves.AND.cap-color=white'], ['    1. Schlimmer', 'J.S. (1987). Concept Acquisition Through Representational'], [''], ['                                  rhizomorphs=z', 'rooted=r', 'missing=?'], ['                                  scattered=s', 'several=v', 'solitary=y'], ['                                  white=w', 'yellow=y'], ['    Lepiota Family (pp. 500-525).  Each species is identified as'], ['    --     total: 8124 instances'], [''], ['    22. habitat:                  grasses=g', 'leaves=l', 'meadows=m', 'paths=p', ''], ['\\tto most specific:'], ['\\tmushroom dataset and therefore should be treated as benchmark results.'], [''], [''], ['    not recommended.  This latter class was combined with the poisonous'], ['\\tcrisp logical rules using constrained backpropagation networks -'], [''], [''], ['    10. stalk-shape:              enlarging=e', 'tapering=t'], ['\\t     48 cases missed', ' 99.41% accuracy'], ['    (c) Date: 27 April 1987'], ['    definitely edible', ' definitely poisonous', ' or of unknown edibility and'], ['                                  none=n', 'pendant=p', 'sheathing=s', 'zone=z'], ['     3. cap-color:                brown=n', 'buff=b', 'cinnamon=c', 'gray=g', 'green=r', ''], ['\\t     120 poisonous cases missed', ' 98.52% accuracy'], ['\\tOrganization: Dept. of Computer Methods', ' UMK'], [''], ['    (a) Mushroom records drawn from The Audubon Society Field Guide to North'], ['\\tWWW     http://www.phys.uni.torun.pl/kmk/'], ['    This data set includes descriptions of hypothetical samples'], ['\\tDuch W', ' Adamczak R', ' Grabczewski K (1996) Extraction of logical rules'], ['\\tfrom training data using backpropagation networks', ' in: Proc. of the'], [''], ['\\tP_2) spore-print-color=green'], ['    21. population:               abundant=a', 'clustered=c', 'numerous=n', ''], ['\\te-mail: duch@phys.uni.torun.pl'], ['     6. gill-attachment:          attached=a', 'descending=d', 'free=f', 'notched=n'], ['\\tUniversity', ' 87-100 Torun', ' Grudziadzka 5', ' Poland'], [''], ['    19. ring-type:                cobwebby=c', 'evanescent=e', 'flaring=f', 'large=l', ''], ['\\tcomplex rules. We will try to contribute other results later.'], ['\\tDisjunctive rules for poisonous mushrooms', ' from most general'], ['        A. Knopf'], [''], ['\\tavailable on-line at: http://www.bioele.nuee.nagoya-u.ac.jp/wsc1/'], [''], [''], ['\\tSeveral slightly more complex variations on these rules exist', ''], [\"\\tP_4') population=clustered.AND.cap_color=white\"], [''], ['\\tWith best regards', ' Wlodek Duch'], ['    16. veil-type:                partial=p', 'universal=u'], ['    18. ring-number:              none=n', 'one=o', 'two=t'], ['5. Number of Instances: 8124'], ['\\texample the rule:'], ['    3. In the following references a set of rules (given below) were'], ['\\tcomparison for other researchers.'], ['       -- approximately the same results with their HILLARY algorithm'], ['3. Past Usage:'], [''], ['                                  pink=p', 'red=e', 'white=w', 'yellow=y'], ['     2. cap-surface:              fibrous=f', 'grooves=g', 'scaly=y', 'smooth=s'], [''], [''], ['\\todor=(almond.OR.anise.OR.none).AND.spore-print-color=NOT.green'], ['    determining the edibility of a mushroom; no rule like ``leaflets'], ['\\tThe 1st Online Workshop on Soft Computing', ' 19-30.Aug.1996', ' pp. 25-30', ''], ['       --- STAGGER: asymptoted to 95% classification accuracy after reviewing'], [''], ['       Ann Arbor', ' Michigan: Morgan Kaufmann.'], [''], ['    three', \" let it be'' for Poisonous Oak and Ivy.\"], ['\\tgives 48 errors', ' or 99.41% accuracy on the whole dataset.'], ['\\t         100% accuracy'], ['\\tLogical rules for the mushroom data sets.'], [''], [''], ['1. Title: Mushroom Database'], ['    (b) Donor: Jeff Schlimmer (Jeffrey.Schlimmer@a.gp.cs.cmu.edu)'], ['\\tP_1) odor=NOT(almond.OR.anise.OR.none)'], ['    11. stalk-root:               bulbous=b', 'club=c', 'cup=u', 'equal=e', ''], [''], ['    12. stalk-surface-above-ring: fibrous=f', 'scaly=y', 'silky=k', 'smooth=s'], ['\\t________________________________________________________________'], ['\\tI have attached a file containing logical rules for mushrooms.'], ['\\thave seen about 10 papers analyzing this dataset and obtaining quite'], ['\\tWlodzislaw Duch', ' Department of Computer Methods', ' Nicholas Copernicus'], ['                                  musty=m', 'none=n', 'pungent=p', 'spicy=s'], ['\\twe have found.'], ['       the 5th International Conference on Machine Learning', ' 73-79.'], ['\\tcomparison of two new approaches', ' in: Proc. of the European Symposium'], ['     9. gill-color:               black=k', 'brown=n', 'buff=b', 'chocolate=h', 'gray=g', ''], [''], ['       and Coverage in Incremental Concept Learning. In Proceedings of'], ['    14. stalk-color-above-ring:   brown=n', 'buff=b', 'cinnamon=c', 'gray=g', 'orange=o', ''], ['        American Mushrooms (1981). G. H. Lincoff (Pres.)', ' New York: Alfred'], ['     5. odor:                     almond=a', 'anise=l', 'creosote=c', 'fishy=y', 'foul=f', ''], ['\\tIt should be helpful for other people since only in the last year I'], ['    one.  The Guide clearly states that there is no simple rule for'], [''], ['\\tP_3) odor=none.AND.stalk-surface-below-ring=scaly.AND.'], ['                                  pink=p', 'red=e', 'white=w', 'yellow=y'], ['6. Number of Attributes: 22 (all nominally valued)'], ['9. Class Distribution:'], ['    15. stalk-color-below-ring:   brown=n', 'buff=b', 'cinnamon=c', 'gray=g', 'orange=o', ''], ['                                  urban=u', 'waste=w', 'woods=d'], [''], ['\\tFrom: Wlodzislaw Duch <duch@phys.uni.torun.pl>'], [''], ['    2. Iba', 'W.', ' Wogulis', 'J.', ' & Langley', 'P. (1988).  Trading off Simplicity'], [''], ['8. Missing Attribute Values: 2480 of them (denoted by \"?\")', ' all for'], ['       Adjustment (Technical Report 87-19).  Doctoral disseration', ' Department'], [\"\\ton Artificial Neural Networks (ESANN'97)\", ' Bruge', ' Belgium 16-18.4.1997', ''], ['7. Attribute Information: (classes: edible=e', ' poisonous=p)'], ['\\tDate: Mon', ' 17 Feb 1997 13:47:40 +0100'], ['\\tDuch W', ' Adamczak R', ' Grabczewski K', ' Ishikawa M', ' Ueda H', ' Extraction of'], ['\\tRule P_4) may also be'], ['\\tpp. xx-xx'], ['    13. stalk-surface-below-ring: fibrous=f', 'scaly=y', 'silky=k', 'smooth=s'], ['           1000 instances.'], ['    20. spore-print-color:        black=k', 'brown=n', 'buff=b', 'chocolate=h', 'green=r', ''], [''], ['     7. gill-spacing:             close=c', 'crowded=w', 'distant=d'], ['    17. veil-color:               brown=n', 'orange=o', 'white=w', 'yellow=y'], ['\\tmushrooms are obtained as negation of the rules given above', ' for'], ['\\tThese rule involve 6 attributes (out of 22). Rules for edible'], ['     8. gill-size:                broad=b', 'narrow=n'], ['       of Information and Computer Science', ' University of California', ' Irvine.'], ['     4. bruises?:                 bruises=t', 'no=f'], ['    corresponding to 23 species of gilled mushrooms in the Agaricus and'], ['                                  orange=o', 'purple=u', 'white=w', 'yellow=y'], ['                                  knobbed=k', 'sunken=s']]\n"
     ]
    }
   ],
   "source": [
    "# TESTING - DELETE\n",
    "data = parse_data(\"agaricus-lepiota.names\")\n",
    "print(data)"
   ]
  },
  {
   "cell_type": "markdown",
   "metadata": {},
   "source": [
    "Put your code after this line:\n",
    "\n",
    "-----"
   ]
  },
  {
   "cell_type": "markdown",
   "metadata": {},
   "source": []
  },
  {
   "cell_type": "code",
   "execution_count": null,
   "metadata": {},
   "outputs": [],
   "source": [
    "def train(training_data):\n",
    "    # Returns the Decsision Tree\n",
    "    pass"
   ]
  },
  {
   "cell_type": "markdown",
   "metadata": {},
   "source": []
  },
  {
   "cell_type": "code",
   "execution_count": null,
   "metadata": {},
   "outputs": [],
   "source": [
    "def classify(tree, observations):\n",
    "    # returns a list of classifications\n",
    "    pass"
   ]
  },
  {
   "cell_type": "markdown",
   "metadata": {},
   "source": []
  },
  {
   "cell_type": "code",
   "execution_count": null,
   "metadata": {},
   "outputs": [],
   "source": [
    "def evaluate():\n",
    "    pass"
   ]
  },
  {
   "cell_type": "markdown",
   "metadata": {},
   "source": []
  },
  {
   "cell_type": "code",
   "execution_count": null,
   "metadata": {},
   "outputs": [],
   "source": [
    "def cross_validate():\n",
    "    pass"
   ]
  },
  {
   "cell_type": "markdown",
   "metadata": {},
   "source": []
  },
  {
   "cell_type": "code",
   "execution_count": null,
   "metadata": {},
   "outputs": [],
   "source": [
    "def pretty_print():\n",
    "    pass"
   ]
  },
  {
   "cell_type": "markdown",
   "metadata": {},
   "source": [
    "## Before You Submit...\n",
    "\n",
    "1. Did you provide output exactly as requested?\n",
    "2. Did you re-execute the entire notebook? (\"Restart Kernel and Rull All Cells...\")\n",
    "3. If you did not complete the assignment or had difficulty please explain what gave you the most difficulty in the Markdown cell below.\n",
    "4. Did you change the name of the file to `jhed_id.ipynb`?\n",
    "\n",
    "Do not submit any other files."
   ]
  }
 ],
 "metadata": {
  "kernelspec": {
   "display_name": "base",
   "language": "python",
   "name": "python3"
  },
  "language_info": {
   "codemirror_mode": {
    "name": "ipython",
    "version": 3
   },
   "file_extension": ".py",
   "mimetype": "text/x-python",
   "name": "python",
   "nbconvert_exporter": "python",
   "pygments_lexer": "ipython3",
   "version": "3.9.18"
  },
  "toc": {
   "colors": {
    "hover_highlight": "#DAA520",
    "navigate_num": "#000000",
    "navigate_text": "#333333",
    "running_highlight": "#FF0000",
    "selected_highlight": "#FFD700",
    "sidebar_border": "#EEEEEE",
    "wrapper_background": "#FFFFFF"
   },
   "moveMenuLeft": true,
   "nav_menu": {
    "height": "81px",
    "width": "252px"
   },
   "navigate_menu": true,
   "number_sections": true,
   "sideBar": true,
   "threshold": 4,
   "toc_cell": false,
   "toc_section_display": "block",
   "toc_window_display": false,
   "widenNotebook": false
  }
 },
 "nbformat": 4,
 "nbformat_minor": 4
}
