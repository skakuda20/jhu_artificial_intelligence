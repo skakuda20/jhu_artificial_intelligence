{
 "cells": [
  {
   "cell_type": "markdown",
   "metadata": {},
   "source": [
    "# Python in a Dataflow, Functionalist, Literate Style"
   ]
  },
  {
   "cell_type": "markdown",
   "metadata": {},
   "source": [
    "<a id=\"index\"></a>\n",
    "1. [Functional Programming](#functional_programming)\n",
    "2. [Basic Python](#basic_python)\n",
    "    1. [Python Types and Operations](#types_and_operators)\n",
    "    2. [Variables](#variables)\n",
    "    3. [Python Operations on Basic Types](#operations_on_basic_types)\n",
    "3. [Python Collections](#collections)\n",
    "    1. [List](#list)\n",
    "    2. [Tuple](#tuple)\n",
    "    3. [Dict](#dict)\n",
    "    4. [Set](#sets)\n",
    "4. [Functions](#functions)\n",
    "    1. [Anonymous Functions](#anonymous_functions)\n",
    "    2. [A Note about Pure Functions and Mutable Data](#pure_functions_and_mutable_data)\n",
    "5. [Deconstructing Object Oriented Programming](#deconstruction_object_oriented_programming)\n",
    "    1. [Dicts](#dicts)\n",
    "    2. [namedtuples](#namedtuples)\n",
    "    3. [DataClasses](#data_classes)\n",
    "    4. [Encapsulation](#encapsulation)\n",
    "    5. [Closures](#closures)\n",
    "    6. [Function Composition and Closures](#function_composition)\n",
    "    7. [Polymorphism](#polymorphism)\n",
    "6. [Flow Control and Iteration](#flow_control_and_iteration)\n",
    "    1. [Flow Control](#flow_control)\n",
    "    2. [Iteration](#iteration)\n",
    "7. [Coding Convention](#coding_convention)\n",
    "    1. [Markdown Documentation](#markdown_documentation)\n",
    "    2. [Type Hints](#type_hints)\n",
    "8. [Building Programs](#build_programs)\n",
    "    1. [Race Cars](#race_cars)\n",
    "    2. [Greedy Gift Givers](#greedy_gift_givers)\n",
    "9. [Wrapping Up](#wrapping_up)"
   ]
  },
  {
   "cell_type": "markdown",
   "metadata": {},
   "source": [
    "Artificial Intelligence courses traditionally used Lisp as their programming language of choice and although some courses across the world still do, it isn't nearly as popular as it once was. \n",
    "Lisp has a few interesting features. \n",
    "First, it is a functional language. \n",
    "Second, it views code as data and data as code (a feature known as *homoiconicity*). \n",
    "Third, it offered a meta programming feature called \"macros\" that made the language very flexible. Long before Domain Specific Languages (DSL) became hip, \"Lispers\" were writing programs composed entirely of DSLs.\n",
    "\n",
    "Of all of Lisp's features, homoiconicity was probably the one most critical to *symbolic* AI. \n",
    "In a field focusing on theorem provers and game playing, the ability to represent both programs and knowledge identically was the proverbial \"killer feature\".\n",
    "Programs could manipulate programs and data could become programs.\n",
    "But they were by no means hardcore Haskellesque functional programmers, often wantonly mutating global variables (so denoted by their \"earmuffs\": `*temperature*`). \n",
    "Almost nobody encourages the use of global variables anymore.\n",
    "\n",
    "As the fortunes of *numeric* AI waxed, the fortunes of *symbolic* AI waned.\n",
    "Because in many people's minds the fates of AI and Lisp were bound together, Lisp suffered a similar fate, becoming somewhat of a niche language...at least that's the perception.\n",
    "In reality, Lisp and its variants have been chuggling along in the background.\n",
    "However as computational power has increased in the last decades, many of the concepts developed in the early days of computer science are reappearing (Some have actually observed that *everything* in computer science was actually invented before 1970, just waiting for the increased computational power).\n",
    "\n",
    "And certainly one of those early ideas is *functional* programming, which is making quite a comeback. \n",
    "The last decade or so has seen the emergence of Haskell, Elixir, F#, Clojure, Scala and other functional programming languages. \n",
    "Traditional languages either have or are adding functional programming features (Java now has anonymous functions or *lambdas*). \n",
    "Functional programming is experiencing quite a renaissance. \n",
    "I think the main reason is summed up in Steve Yegge's post, [The Kingdom of Nouns](http://steve-yegge.blogspot.com/2006/03/execution-in-kingdom-of-nouns.html).\n",
    "Here's the canonical example of the complexity of OOP, the Java \"Hello World\":\n",
    "\n",
    "```{java}\n",
    "class HelloWorld {\n",
    "    public static void main(String[] args) {\n",
    "        System.out.println(\"Hello, World!\"); \n",
    "    }\n",
    "}\n",
    "```\n",
    "and of a [Builder Fluent Interface Pattern](https://asd.learnlearn.in/builder-pattern-java/) run amok:\n",
    "\n",
    "```{java}\n",
    "public class Divider {\n",
    "    private float numerator;\n",
    "    private float denominator;\n",
    "\n",
    "    public float getResult() {\n",
    "      return numerator/denominator;\n",
    "    }\n",
    "\n",
    "    public static class builder {\n",
    "      private float numerator;\n",
    "      private float denominator;\n",
    "\n",
    "      public builder numerator(float val) {\n",
    "        numerator = val;\n",
    "        return this;\n",
    "      }\n",
    "      public builder denominator(float val) {\n",
    "        denominator = val;\n",
    "        return this;\n",
    "      }\n",
    "\n",
    "      public Divider build() {\n",
    "        return new Divider(this);\n",
    "      }\n",
    "    }\n",
    "\n",
    "    private Divider(builder b) {\n",
    "      numerator = b.numerator;\n",
    "      denominator = b.denominator;\n",
    "    }\n",
    "}\n",
    "```\n",
    "which you call like so:\n",
    "\n",
    "```{java}\n",
    "Divider divider = new Divider.builder().denominator(2).numerator(1).build();\n",
    "divider.getResult();  // is 0.5\n",
    "```\n",
    "It may seem funny but if you've worked with any Java/C# library, they really do look like this.\n",
    "\n",
    "For a very ranty but not wrong video watch [Object-Oriented Programming is Bad](https://www.youtube.com/watch?v=QM1iUe6IofM). \n",
    "For a more measured approach, there is [Clojure, Made Simple](https://www.youtube.com/watch?v=VSdnJDO-xdg) that explains, at least, Clojure's rationale vis-a-vis OOP.\n",
    "At the very least, we are learning that OOP over promised and underdelivered.\n",
    "When did you ever really reuse that `Person` class?\n",
    "You didn't because you didn't want to create a dependency between Project A and Project B.\n",
    "\n",
    "This last bit may have hurt your feelings; I'm sorry. \n",
    "Ironically, it is very likely you never had to be convinced to use OOP in the first place so think how *I* feel. \n",
    "I cut my teeth on Java and read Bruce Eckel's *Thinking in Java* to be the best OOP programmer I could be. \n",
    "I read books on test driven development, refactoring, design patterns, etc., all trying to be better.\n",
    "\n",
    "At some point I moved to Ruby, which was a breath of fresh air. \n",
    "Ruby is a bit closer to SmallTalk, the original OOP language. \n",
    "This was almost certainly *part* of Java's problem. \n",
    "Java was a very poor port of the OOP *ideal* espoused by SmallTalk (if you ever wonder what OOP was supposed to be, download a Squeak environment).\n",
    "\n",
    "More surprisingly, Ruby has some strong functional programming aspects (see [Why Ruby is an acceptable Lisp](http://www.randomhacks.net/2005/12/03/why-ruby-is-an-acceptable-lisp/)). \n",
    "As I found myself using more and more of Ruby's functional programming capabilities, I became more and more interested in functional programming. \n",
    "After struggling a bit with Haskell and Scala, I eventually stumbled onto Clojure and after some hemming and hawing, I was sold.\n",
    "\n",
    "Ideally, I would like to return to an AI course that used Lisp (or dialect) as the main language. \n",
    "Unfortunately, AI has grown to be such a huge beast of a topic, that's almost certainly impossible, at least at right now. \n",
    "Instead what I hope to do is to convey why *Python* is an acceptable Lisp (actually, with a few additional 3rd party libraries it can be an *actual* Lisp but that's a different story) and how you might go about using it as such. \n",
    "In any case, it's worth learning a bit of functional programming. \n",
    "You will at least be a better OOP programmer in the end; afterall you *are* getting a Computer Science degree (or at least taking a course in the Computer Science *program*.\n",
    "\n",
    "So rather than require the use of Lisp, I require the use of Python in a particular style, a functional style. \n",
    "This course uses Python as the official language (3.10.X) but you must use it in a \"functional style\". \n",
    "That's right...OOP is forbidden in this class unless you are using a standard library. \n",
    "This is possible because Python is not a pure OOP language (like Java). \n",
    "It's entirely possible to write programs composed entirely of \"free\" functions without any classes.\n",
    "And, in a Jupyter Notebook environment such as the one we use, it is preferrable.\n",
    "In any case, it is required.\n",
    "\n",
    "Don't panic! \n",
    "Grab your towel and start reading this chapter. \n",
    "It will attempt to walk you through the basic principles of a functional style of Python. I think you will find the approach rather agreeable.\n",
    "Additionally, it will prepare you for working with the [Julia](https://julialang.org/) language, should you do so in the future.\n",
    "Julia is a modern, fast language that is becoming more popular with scientific computing of all kinds."
   ]
  },
  {
   "cell_type": "markdown",
   "metadata": {},
   "source": [
    "<a id='functional_programming'></a>\n",
    "## Functional Programming\n",
    "[index](#index)\n",
    "\n",
    "When I think of Functional Programming, several things come to mind although these are not universally true of all functional programming languages.\n",
    "\n",
    "1. Functions are first class values, independent of Classes or Types.\n",
    "2. Data modeling with generic data structures: lists, sets, dictionaries, tuples instead of Classes.\n",
    "3. Operations such as iteration are replaced with higher level oft repeated abstractions such as map, filter and reduce.\n",
    "\n",
    "Often *immutable* data structures are included in this list. \n",
    "We'll see about that. \n",
    "Most of the built-in collections in Python are *mutable* (except for Tuples) and while there are libraries to inject *immutable* versions of the standard data structures, we might not go quite that far.\n",
    "\n",
    "At a higher level, we can say the Functional Programming approach constructs programs by building up small easily testable *pure* functions into a domain specific language (DSL) for the problem at hand called by *impure* functions at the edges of the program. \n",
    "A **pure function** operates only on its formal arguments, returning a value (there would be no reason for a pure function to return *nothing*). \n",
    "They are extremely easy to reason about and test. \n",
    "An **impure function**, on the other hand, interacts with the outside world in some way: a database, http request, http post, or collecting input from the terminal. \n",
    "They generally require some kind of external setup to test. \n",
    "They can be difficult to reason about: did the function fail because it isn't written correctly or because the API endpoint is down or changed?\n",
    "\n",
    "These functions, both pure and impure, can be assembled in a top-down (start with the main entry function) or bottom-up (start with the lowest level pieces) fashion. \n",
    "Gerald Sussman in *The Structure and Interpretation of Computer Programs* called the top-down approach \"programming by wishful thinking\". \n",
    "You start writing the code calling functions to do the work as if those functions existed in the language.\n",
    "And then you write them.\n",
    "\n",
    "The alternative, the bottom up approach, involves looking at the problem and indentifying the most basic operations you want to perform and then write functions that do those operations.\n",
    "You then start assembling those basic operations into more complex functions.\n",
    "Repeat until you're done.\n",
    "You can do both, though, meeting in the middle at a solution.\n",
    "If this seems abstract to you, there will be examples later.\n",
    "\n",
    "Everyone taking this course should know Python but we're going to quickly review it anyway. \n",
    "\n",
    "**Unless specifically overidden in this document, you should follow [PEP-8](https://www.python.org/dev/peps/pep-0008/) stylistic conventions in all your code submissions.**"
   ]
  },
  {
   "cell_type": "markdown",
   "metadata": {},
   "source": [
    "<a id='basic_python'></a>\n",
    "## Basic Python\n",
    "[index](#index)\n",
    "\n",
    "Most programming languages are made up of basic constituents that we assemble to make programs. This includes basic data types (\"primitives\") for numbers and strings, operators for those basic types like addition or multiplication, and collections. The bundling of code into reusable units, most generally called procedures but also called functions or methods. There is also flow control and iteration. We'll review all of these here.\n",
    "\n",
    "<a id='types_and_operators'></a>\n",
    "### Python Types and Operations\n",
    "[index](#index)\n",
    "\n",
    "We'll start with the basic numeric, string and boolean primitive data types:"
   ]
  },
  {
   "cell_type": "code",
   "execution_count": 1,
   "metadata": {
    "collapsed": false,
    "jupyter": {
     "outputs_hidden": false
    }
   },
   "outputs": [
    {
     "data": {
      "text/plain": [
       "int"
      ]
     },
     "execution_count": 1,
     "metadata": {},
     "output_type": "execute_result"
    }
   ],
   "source": [
    "type(2)"
   ]
  },
  {
   "cell_type": "code",
   "execution_count": 2,
   "metadata": {
    "collapsed": false,
    "jupyter": {
     "outputs_hidden": false
    }
   },
   "outputs": [
    {
     "data": {
      "text/plain": [
       "float"
      ]
     },
     "execution_count": 2,
     "metadata": {},
     "output_type": "execute_result"
    }
   ],
   "source": [
    "type(2.1)"
   ]
  },
  {
   "cell_type": "code",
   "execution_count": 3,
   "metadata": {
    "collapsed": false,
    "jupyter": {
     "outputs_hidden": false
    }
   },
   "outputs": [
    {
     "data": {
      "text/plain": [
       "str"
      ]
     },
     "execution_count": 3,
     "metadata": {},
     "output_type": "execute_result"
    }
   ],
   "source": [
    "type(\"python\")"
   ]
  },
  {
   "cell_type": "markdown",
   "metadata": {},
   "source": [
    "It is worth noting that like Ruby, Python has many different ways of specifying Strings which include single quotes, double quotes and three double quotes. The last has a special meaning that we'll delve into later."
   ]
  },
  {
   "cell_type": "code",
   "execution_count": 4,
   "metadata": {
    "collapsed": false,
    "jupyter": {
     "outputs_hidden": false
    }
   },
   "outputs": [
    {
     "data": {
      "text/plain": [
       "bool"
      ]
     },
     "execution_count": 4,
     "metadata": {},
     "output_type": "execute_result"
    }
   ],
   "source": [
    "type(True)"
   ]
  },
  {
   "cell_type": "markdown",
   "metadata": {},
   "source": [
    "Like Lisp, Python has an interesting relationship with the truth.\n",
    "While there is a bool(ean) `False` as well as `True`, the number `0` is also \"false-y\"."
   ]
  },
  {
   "cell_type": "code",
   "execution_count": 5,
   "metadata": {
    "collapsed": false,
    "jupyter": {
     "outputs_hidden": false
    }
   },
   "outputs": [
    {
     "data": {
      "text/plain": [
       "complex"
      ]
     },
     "execution_count": 5,
     "metadata": {},
     "output_type": "execute_result"
    }
   ],
   "source": [
    "type(3 + 7j)"
   ]
  },
  {
   "cell_type": "code",
   "execution_count": 6,
   "metadata": {
    "collapsed": false,
    "jupyter": {
     "outputs_hidden": false
    }
   },
   "outputs": [
    {
     "data": {
      "text/plain": [
       "NoneType"
      ]
     },
     "execution_count": 6,
     "metadata": {},
     "output_type": "execute_result"
    }
   ],
   "source": [
    "type(None)"
   ]
  },
  {
   "cell_type": "markdown",
   "metadata": {},
   "source": [
    "As an aside, Jupyter Notebook automatically prints the last value produced by a code cell which might be `None` which is Python's *null* or *nil*.\n",
    "\n",
    "It is worth noting that the \"natural\" floating point of type of Python is `float`, not `double` as it is in many languages. Additionally, Python uses `j` for the square root of -1 instead of `i`.\n",
    "This doesn't mean that OOP doesn't have *some* role, especially as Abstract Data Types.\n",
    "Python's `datetime` is a good example of an Abstract Data Type (ADT).\n",
    "Even in functional programming languages, ADTs can be useful.\n",
    "But we're not going to do it."
   ]
  },
  {
   "cell_type": "markdown",
   "metadata": {},
   "source": [
    "<a id=\"variables\"></a>\n",
    "## Variables\n",
    "[index](#index)\n",
    "\n",
    "It is possible to assign values (and collections of expressions) to names. This seems easy enough but is actually a pretty complicated topic. If you are curious, you can watch []() by Rich Hickey. We will mostly side step these issues.\n",
    "\n",
    "In Python, you assign a value to a name using `=`. There are rules for names. In general, Python uses \"snakecase\" so that a variable \"Number of Accounts\" is `number_of_accounts` and *not* `numberOfAccounts`. This is true for functions as well. They must begin with a letter and may contain letters, numbers or underscores. Unlike some other languages, you cannot include other special symbols such as `?`, `!`, etc."
   ]
  },
  {
   "cell_type": "code",
   "execution_count": 7,
   "metadata": {
    "collapsed": false,
    "jupyter": {
     "outputs_hidden": false
    }
   },
   "outputs": [
    {
     "name": "stdout",
     "output_type": "stream",
     "text": [
      "2\n"
     ]
    }
   ],
   "source": [
    "foo = 2\n",
    "print(foo)"
   ]
  },
  {
   "cell_type": "markdown",
   "metadata": {},
   "source": [
    "In general, Python allows you to \"rebind\" a variable to a new value."
   ]
  },
  {
   "cell_type": "code",
   "execution_count": 8,
   "metadata": {
    "collapsed": false,
    "jupyter": {
     "outputs_hidden": false
    }
   },
   "outputs": [
    {
     "name": "stdout",
     "output_type": "stream",
     "text": [
      "3\n"
     ]
    }
   ],
   "source": [
    "foo = 3\n",
    "print(foo)"
   ]
  },
  {
   "cell_type": "markdown",
   "metadata": {},
   "source": [
    "The old joke is that there are two things that are hard in programming:\n",
    "\n",
    "1. naming\n",
    "2. cache invalidation\n",
    "3. off-by-one errors\n",
    "\n",
    "While Python has a few features to help you with off-by-one errors, naming is on us.\n",
    "**You should pick good names** that are close to the application, not the implementation.\n",
    "For example, don't name something `stack` or `the_list`, call it the `frontier` or `explored`.\n",
    "The same goes for function names.\n",
    "\n",
    "Good code should read like good prose.\n"
   ]
  },
  {
   "cell_type": "markdown",
   "metadata": {},
   "source": [
    "<a id='operations_on_basic_types'></a>\n",
    "### Python Operations on Basic Types\n",
    "[index](#index)\n",
    "\n",
    "Python supports operations on all the basic types you might imagine but there are a few \"gotchas\"."
   ]
  },
  {
   "cell_type": "code",
   "execution_count": 9,
   "metadata": {
    "collapsed": false,
    "jupyter": {
     "outputs_hidden": false
    }
   },
   "outputs": [
    {
     "data": {
      "text/plain": [
       "4"
      ]
     },
     "execution_count": 9,
     "metadata": {},
     "output_type": "execute_result"
    }
   ],
   "source": [
    "2 + 2"
   ]
  },
  {
   "cell_type": "code",
   "execution_count": 10,
   "metadata": {
    "collapsed": false,
    "jupyter": {
     "outputs_hidden": false
    }
   },
   "outputs": [
    {
     "data": {
      "text/plain": [
       "4.0"
      ]
     },
     "execution_count": 10,
     "metadata": {},
     "output_type": "execute_result"
    }
   ],
   "source": [
    "2 + 2.0"
   ]
  },
  {
   "cell_type": "code",
   "execution_count": 11,
   "metadata": {
    "collapsed": false,
    "jupyter": {
     "outputs_hidden": false
    }
   },
   "outputs": [
    {
     "data": {
      "text/plain": [
       "4"
      ]
     },
     "execution_count": 11,
     "metadata": {},
     "output_type": "execute_result"
    }
   ],
   "source": [
    "2 * 2"
   ]
  },
  {
   "cell_type": "code",
   "execution_count": 12,
   "metadata": {
    "collapsed": false,
    "jupyter": {
     "outputs_hidden": false
    }
   },
   "outputs": [
    {
     "data": {
      "text/plain": [
       "6.0"
      ]
     },
     "execution_count": 12,
     "metadata": {},
     "output_type": "execute_result"
    }
   ],
   "source": [
    "2 * 3.0"
   ]
  },
  {
   "cell_type": "markdown",
   "metadata": {},
   "source": [
    "Here we can see type promotion when a `float` and `int` are combined in an expression. This doesn't always happen as expected:"
   ]
  },
  {
   "cell_type": "code",
   "execution_count": 13,
   "metadata": {
    "collapsed": false,
    "jupyter": {
     "outputs_hidden": false
    }
   },
   "outputs": [
    {
     "data": {
      "text/plain": [
       "0.6666666666666666"
      ]
     },
     "execution_count": 13,
     "metadata": {},
     "output_type": "execute_result"
    }
   ],
   "source": [
    "2 / 3"
   ]
  },
  {
   "cell_type": "markdown",
   "metadata": {},
   "source": [
    "Note that this changed in Python 3. In Python 2, you used to get zero.\n",
    "For integer division, you now need `//` and for modulo division, you use `%`."
   ]
  },
  {
   "cell_type": "code",
   "execution_count": 14,
   "metadata": {},
   "outputs": [
    {
     "data": {
      "text/plain": [
       "0"
      ]
     },
     "execution_count": 14,
     "metadata": {},
     "output_type": "execute_result"
    }
   ],
   "source": [
    "2 // 3"
   ]
  },
  {
   "cell_type": "code",
   "execution_count": 15,
   "metadata": {},
   "outputs": [
    {
     "data": {
      "text/plain": [
       "2"
      ]
     },
     "execution_count": 15,
     "metadata": {},
     "output_type": "execute_result"
    }
   ],
   "source": [
    "2 % 3"
   ]
  },
  {
   "cell_type": "code",
   "execution_count": 16,
   "metadata": {
    "collapsed": false,
    "jupyter": {
     "outputs_hidden": false
    }
   },
   "outputs": [
    {
     "data": {
      "text/plain": [
       "0.6666666666666666"
      ]
     },
     "execution_count": 16,
     "metadata": {},
     "output_type": "execute_result"
    }
   ],
   "source": [
    "2 / 3.0"
   ]
  },
  {
   "cell_type": "code",
   "execution_count": 17,
   "metadata": {
    "collapsed": false,
    "jupyter": {
     "outputs_hidden": false
    }
   },
   "outputs": [
    {
     "data": {
      "text/plain": [
       "'23'"
      ]
     },
     "execution_count": 17,
     "metadata": {},
     "output_type": "execute_result"
    }
   ],
   "source": [
    "\"2\" + \"3\""
   ]
  },
  {
   "cell_type": "markdown",
   "metadata": {},
   "source": [
    "Here we see that `+` is semantically overloaded to mean \"append\" as well as \"addition\" when the arguments are strings. However, you will see below that when the arguments are of mixed types, there is no automatic type promotion:"
   ]
  },
  {
   "cell_type": "code",
   "execution_count": 18,
   "metadata": {
    "collapsed": false,
    "jupyter": {
     "outputs_hidden": false
    }
   },
   "outputs": [
    {
     "name": "stdout",
     "output_type": "stream",
     "text": [
      "Exception (<class 'TypeError'>): unsupported operand type(s) for +: 'int' and 'str'\n"
     ]
    }
   ],
   "source": [
    "try:\n",
    "    2 + \"2\"\n",
    "except Exception as e:\n",
    "    print(\"Exception (%s): %s\" % (type(e), str(e)))"
   ]
  },
  {
   "cell_type": "markdown",
   "metadata": {},
   "source": [
    "Note that I knew this would fail so I wrapped the `2 + \"2\"` expression in a `try/except` block. We'll talk about that later.\n",
    "\n",
    "#### Casting \n",
    "\n",
    "In this case, you will need to *cast* the `int`:"
   ]
  },
  {
   "cell_type": "code",
   "execution_count": 19,
   "metadata": {
    "collapsed": false,
    "jupyter": {
     "outputs_hidden": false
    }
   },
   "outputs": [
    {
     "data": {
      "text/plain": [
       "'22'"
      ]
     },
     "execution_count": 19,
     "metadata": {},
     "output_type": "execute_result"
    }
   ],
   "source": [
    "str(2) + \"2\""
   ]
  },
  {
   "cell_type": "markdown",
   "metadata": {},
   "source": [
    "There are a variety of casting functions:"
   ]
  },
  {
   "cell_type": "code",
   "execution_count": 20,
   "metadata": {
    "collapsed": false,
    "jupyter": {
     "outputs_hidden": false
    }
   },
   "outputs": [
    {
     "data": {
      "text/plain": [
       "2"
      ]
     },
     "execution_count": 20,
     "metadata": {},
     "output_type": "execute_result"
    }
   ],
   "source": [
    "int(\"2\")"
   ]
  },
  {
   "cell_type": "code",
   "execution_count": 21,
   "metadata": {
    "collapsed": false,
    "jupyter": {
     "outputs_hidden": false
    }
   },
   "outputs": [
    {
     "data": {
      "text/plain": [
       "2.0"
      ]
     },
     "execution_count": 21,
     "metadata": {},
     "output_type": "execute_result"
    }
   ],
   "source": [
    "float(\"2\")"
   ]
  },
  {
   "cell_type": "code",
   "execution_count": 22,
   "metadata": {
    "collapsed": false,
    "jupyter": {
     "outputs_hidden": false
    }
   },
   "outputs": [
    {
     "data": {
      "text/plain": [
       "50"
      ]
     },
     "execution_count": 22,
     "metadata": {},
     "output_type": "execute_result"
    }
   ],
   "source": [
    "ord(\"2\")"
   ]
  },
  {
   "cell_type": "markdown",
   "metadata": {},
   "source": [
    "The last one might be a bit cryptic...the UTF-8 code for \"2\" is 50. In order to go the other way, we do:"
   ]
  },
  {
   "cell_type": "code",
   "execution_count": 23,
   "metadata": {
    "collapsed": false,
    "jupyter": {
     "outputs_hidden": false
    }
   },
   "outputs": [
    {
     "data": {
      "text/plain": [
       "'2'"
      ]
     },
     "execution_count": 23,
     "metadata": {},
     "output_type": "execute_result"
    }
   ],
   "source": [
    "chr(50)"
   ]
  },
  {
   "cell_type": "markdown",
   "metadata": {},
   "source": [
    "Because we often interact with simple programs at the console/terminal, string formatting is often very important. Python sports several ways of doing string formatting.\n",
    "\n",
    "#### C-style String Formatting.\n",
    "\n",
    "This uses the `%` operator."
   ]
  },
  {
   "cell_type": "code",
   "execution_count": 24,
   "metadata": {
    "collapsed": false,
    "jupyter": {
     "outputs_hidden": false
    }
   },
   "outputs": [
    {
     "data": {
      "text/plain": [
       "'pi to 4 decimals is 3.1416'"
      ]
     },
     "execution_count": 24,
     "metadata": {},
     "output_type": "execute_result"
    }
   ],
   "source": [
    "\"pi to 4 decimals is %0.4f\" % 3.14159265359"
   ]
  },
  {
   "cell_type": "code",
   "execution_count": 25,
   "metadata": {
    "collapsed": false,
    "jupyter": {
     "outputs_hidden": false
    }
   },
   "outputs": [
    {
     "data": {
      "text/plain": [
       "'Hello Student, I hope you love Python'"
      ]
     },
     "execution_count": 25,
     "metadata": {},
     "output_type": "execute_result"
    }
   ],
   "source": [
    "\"Hello %s, I hope you love %s\" % (\"Student\", \"Python\")"
   ]
  },
  {
   "cell_type": "markdown",
   "metadata": {},
   "source": [
    "#### Python String Formatting.\n",
    "\n",
    "This uses the `format` function."
   ]
  },
  {
   "cell_type": "code",
   "execution_count": 26,
   "metadata": {
    "collapsed": false,
    "jupyter": {
     "outputs_hidden": false
    }
   },
   "outputs": [
    {
     "data": {
      "text/plain": [
       "'pi to 4 decimals is 3.1416'"
      ]
     },
     "execution_count": 26,
     "metadata": {},
     "output_type": "execute_result"
    }
   ],
   "source": [
    "\"pi to 4 decimals is {:0.4f}\".format(3.14159265359)"
   ]
  },
  {
   "cell_type": "code",
   "execution_count": 27,
   "metadata": {
    "collapsed": false,
    "jupyter": {
     "outputs_hidden": false
    }
   },
   "outputs": [
    {
     "data": {
      "text/plain": [
       "'Hello Student, I hope you love Python'"
      ]
     },
     "execution_count": 27,
     "metadata": {},
     "output_type": "execute_result"
    }
   ],
   "source": [
    "\"Hello {0}, I hope you love {1}\".format(\"Student\", \"Python\")"
   ]
  },
  {
   "cell_type": "markdown",
   "metadata": {},
   "source": [
    "There is now a 3rd form of string formatting introduced in Python 3: templating.\n",
    "A template starts with a `f` then the double quotes.\n",
    "It uses the bracket style of the previous version but you can just reference variables (actually any expression) in the brackets."
   ]
  },
  {
   "cell_type": "code",
   "execution_count": 28,
   "metadata": {},
   "outputs": [
    {
     "data": {
      "text/plain": [
       "'pi to 4 decimals is 3.1416'"
      ]
     },
     "execution_count": 28,
     "metadata": {},
     "output_type": "execute_result"
    }
   ],
   "source": [
    "pi = 3.14159265359\n",
    "f\"pi to 4 decimals is {pi:0.4f}\""
   ]
  },
  {
   "cell_type": "markdown",
   "metadata": {},
   "source": [
    "You should definitely learn the C-style formatting directives but the latest, Python 3 version of string templating is to be preferred.\n",
    "There are some cases, however, where you need to fall back on the earlier version.\n",
    "The newer version is a lot more flexible allowing for reuse of values as well as named values. \n",
    "You can find more documentation here: [Python String Formatting](https://docs.python.org/2/library/string.html#format-string-syntax)."
   ]
  },
  {
   "cell_type": "markdown",
   "metadata": {},
   "source": [
    "<a id='collections'></a>\n",
    "## Python Collections\n",
    "[index](#index)\n",
    "\n",
    "Python has a large number of data structures or *collections*. \n",
    "We will cover each one and the basic operations of each. \n",
    "You should refer to the documentation of each for more information.\n",
    "\n",
    "<a id='list'></a>\n",
    "### List\n",
    "[index](#index)\n",
    "\n",
    "The most basic collection is a List. \n",
    "The constructor function for a List is `list()`. \n",
    "A List can also be created using literal syntax: `[]`. \n",
    "There are a few cases where using `list()` is *required* or Bad Things happen."
   ]
  },
  {
   "cell_type": "code",
   "execution_count": 29,
   "metadata": {
    "collapsed": false,
    "jupyter": {
     "outputs_hidden": false
    }
   },
   "outputs": [
    {
     "name": "stdout",
     "output_type": "stream",
     "text": [
      "[1, 2, 'a', True]\n"
     ]
    }
   ],
   "source": [
    "a = [1, 2, \"a\", True]\n",
    "print(a)"
   ]
  },
  {
   "cell_type": "markdown",
   "metadata": {},
   "source": [
    "Technically, I do not need the `print(a)` above, I could just put `a` and it would print out because that's the last expression in the codecell...but it looks weird. \n",
    "I will generally be verbose and use `print` even when I do not need to.\n",
    "\n",
    "Above we see a list of four items. We note that they do not all have to be of the same type. We add to a List with `append`:"
   ]
  },
  {
   "cell_type": "code",
   "execution_count": 30,
   "metadata": {
    "collapsed": false,
    "jupyter": {
     "outputs_hidden": false
    }
   },
   "outputs": [
    {
     "name": "stdout",
     "output_type": "stream",
     "text": [
      "None\n"
     ]
    }
   ],
   "source": [
    "print(a.append(\"foo\"))"
   ]
  },
  {
   "cell_type": "markdown",
   "metadata": {},
   "source": [
    "Jupyter Notebook is designed to *not* print out whatever a language's version of \"nothing\" is. \n",
    "Without the `print` function above, we would not have seen the `None`. \n",
    "I wanted to show you the `None` because it illustrates an important \"gotcha\" in Python. \n",
    "Guido van Rossum does *not* believe in fluent interfaces.\n",
    "\n",
    "A Fluent Interface typically returns the modified object so that you can call another function on it. \n",
    "Another name for this is **method chaining**. \n",
    "It is popular in Java, C# and Ruby and some 3rd Party Python libraries do it as well...but not the standard Python libraries.\n",
    "\n",
    "Our expectation is that `a.append(\"foo\")` will return `a` with `\"foo\"` appended to it basically so we can do something else to `a`. \n",
    "For example, we might append something else and then sort the list. \n",
    "Guido will have none of that:"
   ]
  },
  {
   "cell_type": "code",
   "execution_count": 31,
   "metadata": {
    "collapsed": false,
    "jupyter": {
     "outputs_hidden": false
    }
   },
   "outputs": [
    {
     "name": "stdout",
     "output_type": "stream",
     "text": [
      "[1, 2, 'a', True, 'foo']\n"
     ]
    }
   ],
   "source": [
    "print(a)"
   ]
  },
  {
   "cell_type": "code",
   "execution_count": 32,
   "metadata": {
    "collapsed": false,
    "jupyter": {
     "outputs_hidden": false
    }
   },
   "outputs": [
    {
     "name": "stdout",
     "output_type": "stream",
     "text": [
      "Exception: 'NoneType' object has no attribute 'append'\n"
     ]
    }
   ],
   "source": [
    "b = []\n",
    "try:\n",
    "    print(b.append(\"bar\").append(\"baz\").sort())\n",
    "except Exception as e:\n",
    "    print(\"Exception: \" + str(e))"
   ]
  },
  {
   "cell_type": "markdown",
   "metadata": {},
   "source": [
    "This can often be a really inscrutable error but if you break it apart you get the following:\n",
    "\n",
    "```python\n",
    "result1 = b.append(\"bar\")\n",
    "result2 = result1.append(\"baz\")\n",
    "result3 = result2.sort()\n",
    "```\n",
    "\n",
    "The problem is that `result2` is not a List but `None` which does not have a method named `append`.\n",
    "\n",
    "Instead you must make each call separately and note that there is no \"result\" to save, `a` is being modified *in place*:"
   ]
  },
  {
   "cell_type": "code",
   "execution_count": 33,
   "metadata": {
    "collapsed": false,
    "jupyter": {
     "outputs_hidden": false
    }
   },
   "outputs": [
    {
     "name": "stdout",
     "output_type": "stream",
     "text": [
      "['bar', 'foo']\n"
     ]
    }
   ],
   "source": [
    "b = []\n",
    "b.append(\"foo\")\n",
    "b.append(\"bar\")\n",
    "b.sort()\n",
    "print(b)"
   ]
  },
  {
   "cell_type": "markdown",
   "metadata": {},
   "source": [
    "```{warning}\n",
    "In adopting a functional style, our functions will always return a value, even if it is not strictly necessary.\n",
    "More about this later.\n",
    "```"
   ]
  },
  {
   "cell_type": "markdown",
   "metadata": {},
   "source": [
    "There is a second \"gotcha\" in Python. \n",
    "In the bad old days when words meant something, a *function* was a procedure that was not attached to any object whereas a *method* was a procedure that operated on an object (actually, in Smalltalk these were called \"messages\", you sent a \"message\" to an object).\n",
    "\n",
    "Keeping this distinction in mind, it is important to know that some procedures involving collections are functions and some are methods. \n",
    "For example, `append` is a method of `List`. \n",
    "However, to get the length of a collection you use the `len` function, not the `len` method:"
   ]
  },
  {
   "cell_type": "code",
   "execution_count": 34,
   "metadata": {
    "collapsed": false,
    "jupyter": {
     "outputs_hidden": false
    }
   },
   "outputs": [
    {
     "data": {
      "text/plain": [
       "5"
      ]
     },
     "execution_count": 34,
     "metadata": {},
     "output_type": "execute_result"
    }
   ],
   "source": [
    "len(a)"
   ]
  },
  {
   "cell_type": "markdown",
   "metadata": {},
   "source": [
    "This can be confusing for people coming from Ruby who expect to be doing something like `a.length()` or `a.count()`. \n",
    "That won't work. \n",
    "There are a number of reasons for this that go deep into the philosophy of Python but somewhat derail our present goal so we will not go into it. \n",
    "Suffice it to say that any Object can have a length implements the method `__len__` and the function `len` just delegates to that. \n",
    "This pattern is used throughout Python.\n",
    "\n",
    "A List is a random access indexed collection so we can get any individual element we want in the typical way:"
   ]
  },
  {
   "cell_type": "code",
   "execution_count": 35,
   "metadata": {
    "collapsed": false,
    "jupyter": {
     "outputs_hidden": false
    }
   },
   "outputs": [
    {
     "data": {
      "text/plain": [
       "1"
      ]
     },
     "execution_count": 35,
     "metadata": {},
     "output_type": "execute_result"
    }
   ],
   "source": [
    "a[0]"
   ]
  },
  {
   "cell_type": "code",
   "execution_count": 36,
   "metadata": {
    "collapsed": false,
    "jupyter": {
     "outputs_hidden": false
    }
   },
   "outputs": [
    {
     "data": {
      "text/plain": [
       "2"
      ]
     },
     "execution_count": 36,
     "metadata": {},
     "output_type": "execute_result"
    }
   ],
   "source": [
    "a[1]"
   ]
  },
  {
   "cell_type": "code",
   "execution_count": 37,
   "metadata": {
    "collapsed": false,
    "jupyter": {
     "outputs_hidden": false
    }
   },
   "outputs": [
    {
     "data": {
      "text/plain": [
       "'foo'"
      ]
     },
     "execution_count": 37,
     "metadata": {},
     "output_type": "execute_result"
    }
   ],
   "source": [
    "a[-1]"
   ]
  },
  {
   "cell_type": "markdown",
   "metadata": {},
   "source": [
    "Yes, negative indices are permitted and they start from the end. In addition to integer indices, it is possibly to use *slices*:"
   ]
  },
  {
   "cell_type": "code",
   "execution_count": 38,
   "metadata": {
    "collapsed": false,
    "jupyter": {
     "outputs_hidden": false
    }
   },
   "outputs": [
    {
     "data": {
      "text/plain": [
       "[2, 'a']"
      ]
     },
     "execution_count": 38,
     "metadata": {},
     "output_type": "execute_result"
    }
   ],
   "source": [
    "a[1:3]"
   ]
  },
  {
   "cell_type": "markdown",
   "metadata": {},
   "source": [
    "which returns a *slice* of the List `a` starting at index 1 (inclusive) and going to index 3 (exclusive). You can leave off the last number if you simply want to go to the end:"
   ]
  },
  {
   "cell_type": "code",
   "execution_count": 39,
   "metadata": {
    "collapsed": false,
    "jupyter": {
     "outputs_hidden": false
    }
   },
   "outputs": [
    {
     "data": {
      "text/plain": [
       "['a', True, 'foo']"
      ]
     },
     "execution_count": 39,
     "metadata": {},
     "output_type": "execute_result"
    }
   ],
   "source": [
    "a[2:]"
   ]
  },
  {
   "cell_type": "markdown",
   "metadata": {},
   "source": [
    "In Python, Lists are *mutable*, that is, you can change the value at specific locations as well as change the size. We have already seen examples of the latter. Let's look at the former:"
   ]
  },
  {
   "cell_type": "code",
   "execution_count": 40,
   "metadata": {
    "collapsed": false,
    "jupyter": {
     "outputs_hidden": false
    }
   },
   "outputs": [
    {
     "name": "stdout",
     "output_type": "stream",
     "text": [
      "[1, 2, 100, True, 'foo']\n"
     ]
    }
   ],
   "source": [
    "a[2] = 100\n",
    "print(a)"
   ]
  },
  {
   "cell_type": "markdown",
   "metadata": {},
   "source": [
    "There is also a function for this `insert`. You can also remove items by either removing the actual value with `remove` which removes the first occurrence of the value from the list:"
   ]
  },
  {
   "cell_type": "code",
   "execution_count": 41,
   "metadata": {
    "collapsed": false,
    "jupyter": {
     "outputs_hidden": false
    }
   },
   "outputs": [
    {
     "name": "stdout",
     "output_type": "stream",
     "text": [
      "[1, 2, True, 'foo']\n"
     ]
    }
   ],
   "source": [
    "a.remove(100)\n",
    "print(a)"
   ]
  },
  {
   "cell_type": "markdown",
   "metadata": {},
   "source": [
    "or `del` which removes the item at the index:"
   ]
  },
  {
   "cell_type": "code",
   "execution_count": 42,
   "metadata": {
    "collapsed": false,
    "jupyter": {
     "outputs_hidden": false
    }
   },
   "outputs": [
    {
     "name": "stdout",
     "output_type": "stream",
     "text": [
      "[2, True, 'foo']\n"
     ]
    }
   ],
   "source": [
    "del a[0]\n",
    "print(a)"
   ]
  },
  {
   "cell_type": "markdown",
   "metadata": {},
   "source": [
    "strangely, `del` is neither a function nor a method but a *statement* in the Python language. \n",
    "We will talk about the difference between statements and *expressions* later.\n",
    "\n",
    "Lists can have a variety of semantics.\n",
    "You can treat them as a stack by using `append` and `pop`: "
   ]
  },
  {
   "cell_type": "code",
   "execution_count": 43,
   "metadata": {},
   "outputs": [
    {
     "name": "stdout",
     "output_type": "stream",
     "text": [
      "[1, 2, 3]\n",
      "[1, 2, 3, 4]\n",
      "4\n",
      "[1, 2, 3]\n"
     ]
    }
   ],
   "source": [
    "stack_like = [1, 2, 3]\n",
    "print(stack_like)\n",
    "stack_like.append(4)\n",
    "print(stack_like)\n",
    "print(stack_like.pop())\n",
    "print(stack_like)"
   ]
  },
  {
   "cell_type": "markdown",
   "metadata": {},
   "source": [
    "or a queue by specifying an index for `pop`:"
   ]
  },
  {
   "cell_type": "code",
   "execution_count": 44,
   "metadata": {},
   "outputs": [
    {
     "name": "stdout",
     "output_type": "stream",
     "text": [
      "[1, 2, 3]\n",
      "[1, 2, 3, 4]\n",
      "1\n",
      "[2, 3, 4]\n"
     ]
    }
   ],
   "source": [
    "queue_like = [1, 2, 3]\n",
    "print(queue_like)\n",
    "queue_like.append(4)\n",
    "print(queue_like)\n",
    "print(queue_like.pop(0)) # just this wee change\n",
    "print(queue_like)"
   ]
  },
  {
   "cell_type": "markdown",
   "metadata": {},
   "source": [
    "<a id='tuple'></a>\n",
    "### Tuple\n",
    "[index](#index)\n",
    "\n",
    "A Tuple is similar to a List except that it is *immutable*. Once the values are set, you cannot change them. The constructor function is `tuple`. There is no such thing as an empty Tuple. Tuples are incredibly useful in Python and you will see many places where Python automatically creates and consumes them."
   ]
  },
  {
   "cell_type": "code",
   "execution_count": 45,
   "metadata": {
    "collapsed": false,
    "jupyter": {
     "outputs_hidden": false
    }
   },
   "outputs": [
    {
     "name": "stdout",
     "output_type": "stream",
     "text": [
      "(1, 2, True)\n"
     ]
    }
   ],
   "source": [
    "b = (1, 2, True)\n",
    "print(b)"
   ]
  },
  {
   "cell_type": "markdown",
   "metadata": {},
   "source": [
    "So far, a Tuple looks just like a List using parentheses instead of square brackets..."
   ]
  },
  {
   "cell_type": "code",
   "execution_count": 46,
   "metadata": {
    "collapsed": false,
    "jupyter": {
     "outputs_hidden": false
    }
   },
   "outputs": [
    {
     "name": "stdout",
     "output_type": "stream",
     "text": [
      "Exception (<class 'TypeError'>): 'tuple' object does not support item assignment\n"
     ]
    }
   ],
   "source": [
    "try:\n",
    "    b[0] = 3\n",
    "except Exception as e:\n",
    "    print(\"Exception (%s): %s\" % (type(e), str(e)))"
   ]
  },
  {
   "cell_type": "markdown",
   "metadata": {},
   "source": [
    "Nope. You can't change the value of any element of a Tuple. Of course, things can get a bit weird:"
   ]
  },
  {
   "cell_type": "code",
   "execution_count": 47,
   "metadata": {
    "collapsed": false,
    "jupyter": {
     "outputs_hidden": false
    }
   },
   "outputs": [
    {
     "name": "stdout",
     "output_type": "stream",
     "text": [
      "(1, 2, [2, True, 'foo'])\n"
     ]
    }
   ],
   "source": [
    "b = (1, 2, a)\n",
    "print(b)"
   ]
  },
  {
   "cell_type": "code",
   "execution_count": 48,
   "metadata": {},
   "outputs": [],
   "source": [
    "a.append(3)"
   ]
  },
  {
   "cell_type": "code",
   "execution_count": 49,
   "metadata": {
    "collapsed": false,
    "jupyter": {
     "outputs_hidden": false
    }
   },
   "outputs": [
    {
     "data": {
      "text/plain": [
       "(1, 2, [2, True, 'foo', 3])"
      ]
     },
     "execution_count": 49,
     "metadata": {},
     "output_type": "execute_result"
    }
   ],
   "source": [
    "b"
   ]
  },
  {
   "cell_type": "markdown",
   "metadata": {},
   "source": [
    "So while the Tuple itself is immutable, if an element of a Tuple is mutable, you can change *it*. You are **strongly** discouraged from doing so.\n",
    "\n",
    "One last thing that can be weird...you will sometimes need a Tuple of one element:"
   ]
  },
  {
   "cell_type": "code",
   "execution_count": 50,
   "metadata": {
    "collapsed": false,
    "jupyter": {
     "outputs_hidden": false
    }
   },
   "outputs": [
    {
     "name": "stdout",
     "output_type": "stream",
     "text": [
      "1\n",
      "<class 'int'>\n"
     ]
    }
   ],
   "source": [
    "b1 = (1)\n",
    "print(b1)\n",
    "print(type(b1))"
   ]
  },
  {
   "cell_type": "markdown",
   "metadata": {},
   "source": [
    "Huh, that did *not* go as planned. The trick is as follows:"
   ]
  },
  {
   "cell_type": "code",
   "execution_count": 51,
   "metadata": {
    "collapsed": false,
    "jupyter": {
     "outputs_hidden": false
    }
   },
   "outputs": [
    {
     "name": "stdout",
     "output_type": "stream",
     "text": [
      "(1,)\n",
      "<class 'tuple'>\n"
     ]
    }
   ],
   "source": [
    "b1 = (1,)\n",
    "print(b1)\n",
    "print(type(b1))"
   ]
  },
  {
   "cell_type": "markdown",
   "metadata": {},
   "source": [
    "See that extra comma, `(1,)`? That makes the difference.\n",
    "\n",
    "We will have more to say about Tuples later."
   ]
  },
  {
   "cell_type": "markdown",
   "metadata": {},
   "source": [
    "<a id='dict'></a>\n",
    "### Dict\n",
    "[index](#index)\n",
    "\n",
    "The Dict(ionary) is Python's Hash/Map/Hashmap collection. \n",
    "The contructor function is `dict` while the literal is `{}`.\n",
    "In Python 3.8 and later, all Dicts are *ordered* dictionaries, the keys are in the order the items are added to the dictionary."
   ]
  },
  {
   "cell_type": "code",
   "execution_count": 52,
   "metadata": {
    "collapsed": false,
    "jupyter": {
     "outputs_hidden": false
    }
   },
   "outputs": [
    {
     "name": "stdout",
     "output_type": "stream",
     "text": [
      "{'a': 1, 'b': 2}\n"
     ]
    }
   ],
   "source": [
    "c = {\"a\": 1, \"b\": 2}\n",
    "print(c)"
   ]
  },
  {
   "cell_type": "markdown",
   "metadata": {},
   "source": [
    "The *keys* of a Dictionary must be immutable (which makes sense since underneath, a hashing function is being used and changing the underlying value of the key would prevent it from being found).\n",
    "\n",
    "You can use square brackets to \"index\" a Dictionary by key or the function `get`. They have different semantics and usages. Here is square brackets:"
   ]
  },
  {
   "cell_type": "code",
   "execution_count": 53,
   "metadata": {
    "collapsed": false,
    "jupyter": {
     "outputs_hidden": false
    }
   },
   "outputs": [
    {
     "data": {
      "text/plain": [
       "1"
      ]
     },
     "execution_count": 53,
     "metadata": {},
     "output_type": "execute_result"
    }
   ],
   "source": [
    "c[\"a\"]"
   ]
  },
  {
   "cell_type": "code",
   "execution_count": 54,
   "metadata": {
    "collapsed": false,
    "jupyter": {
     "outputs_hidden": false
    }
   },
   "outputs": [
    {
     "data": {
      "text/plain": [
       "2"
      ]
     },
     "execution_count": 54,
     "metadata": {},
     "output_type": "execute_result"
    }
   ],
   "source": [
    "c[\"b\"]"
   ]
  },
  {
   "cell_type": "code",
   "execution_count": 55,
   "metadata": {
    "collapsed": false,
    "jupyter": {
     "outputs_hidden": false
    }
   },
   "outputs": [
    {
     "name": "stdout",
     "output_type": "stream",
     "text": [
      "Exception (<class 'KeyError'>): 'c'\n"
     ]
    }
   ],
   "source": [
    "try:\n",
    "    c[\"c\"]\n",
    "except Exception as e:\n",
    "    print(\"Exception (%s): %s\" % (type(e), str(e)))"
   ]
  },
  {
   "cell_type": "markdown",
   "metadata": {},
   "source": [
    "so you will get a `KeyError` if the key does not exist. If you ever see an error that says that keys must be numbers, you have accidentally gotten a List where you expected a Dict.\n",
    "\n",
    "If you use `get` instead of square brackets for a non-existent key, you will get `None` instead of an error:"
   ]
  },
  {
   "cell_type": "code",
   "execution_count": 56,
   "metadata": {
    "collapsed": false,
    "jupyter": {
     "outputs_hidden": false
    }
   },
   "outputs": [
    {
     "name": "stdout",
     "output_type": "stream",
     "text": [
      "None\n"
     ]
    }
   ],
   "source": [
    "print(c.get(\"c\"))"
   ]
  },
  {
   "cell_type": "markdown",
   "metadata": {},
   "source": [
    "which can also be a bit problematic because it's kind of a silent failure. `get` also allows you to provide a default value:"
   ]
  },
  {
   "cell_type": "code",
   "execution_count": 57,
   "metadata": {
    "collapsed": false,
    "jupyter": {
     "outputs_hidden": false
    }
   },
   "outputs": [
    {
     "name": "stdout",
     "output_type": "stream",
     "text": [
      "1000\n"
     ]
    }
   ],
   "source": [
    "print(c.get(\"c\", 1000))"
   ]
  },
  {
   "cell_type": "markdown",
   "metadata": {},
   "source": [
    "in which case, `get` redeems itself.\n",
    "\n",
    "Adding a new value to a Dictionary is as simple as assigning a value to a key:"
   ]
  },
  {
   "cell_type": "code",
   "execution_count": 58,
   "metadata": {
    "collapsed": false,
    "jupyter": {
     "outputs_hidden": false
    }
   },
   "outputs": [
    {
     "name": "stdout",
     "output_type": "stream",
     "text": [
      "{'a': 1, 'b': 2, 'd': 'nargle'}\n"
     ]
    }
   ],
   "source": [
    "c[\"d\"] = \"nargle\"\n",
    "print(c)"
   ]
  },
  {
   "cell_type": "markdown",
   "metadata": {},
   "source": [
    "and we can use `del` to remove a key:"
   ]
  },
  {
   "cell_type": "code",
   "execution_count": 59,
   "metadata": {
    "collapsed": false,
    "jupyter": {
     "outputs_hidden": false
    }
   },
   "outputs": [
    {
     "name": "stdout",
     "output_type": "stream",
     "text": [
      "{'a': 1, 'b': 2}\n"
     ]
    }
   ],
   "source": [
    "del c[\"d\"]\n",
    "print(c)"
   ]
  },
  {
   "cell_type": "markdown",
   "metadata": {},
   "source": [
    "<a id='sets'></a>\n",
    "### Sets\n",
    "[index](#index)\n",
    "\n",
    "Our final collection is sets. \n",
    "The constructor function for Sets is `set`. \n",
    "You can only create sets using the literal notation as long as they contain something (there is no literal for the empty set). \n",
    "Additionally, it is only the way the contents are specified that ultimately separates a Set literal from a Dict literal."
   ]
  },
  {
   "cell_type": "code",
   "execution_count": 60,
   "metadata": {
    "collapsed": false,
    "jupyter": {
     "outputs_hidden": false
    }
   },
   "outputs": [
    {
     "name": "stdout",
     "output_type": "stream",
     "text": [
      "{1, 2, 3}\n"
     ]
    }
   ],
   "source": [
    "d = {1, 2, 3}\n",
    "print(d)"
   ]
  },
  {
   "cell_type": "markdown",
   "metadata": {},
   "source": [
    "Because sets are not ordered, there is no way to access a specific element of the set. You can remove elements, though:"
   ]
  },
  {
   "cell_type": "code",
   "execution_count": 61,
   "metadata": {
    "collapsed": false,
    "jupyter": {
     "outputs_hidden": false
    }
   },
   "outputs": [
    {
     "name": "stdout",
     "output_type": "stream",
     "text": [
      "{2, 3}\n"
     ]
    }
   ],
   "source": [
    "d.remove(1)\n",
    "print(d)"
   ]
  },
  {
   "cell_type": "markdown",
   "metadata": {},
   "source": [
    "And, using `add`, well, add elements to the set:"
   ]
  },
  {
   "cell_type": "code",
   "execution_count": 62,
   "metadata": {
    "collapsed": false,
    "jupyter": {
     "outputs_hidden": false
    }
   },
   "outputs": [
    {
     "name": "stdout",
     "output_type": "stream",
     "text": [
      "{2, 3, 4}\n"
     ]
    }
   ],
   "source": [
    "d.add(4)\n",
    "print(d)"
   ]
  },
  {
   "cell_type": "markdown",
   "metadata": {},
   "source": [
    "### in\n",
    "\n",
    "Which leads us to the `in` operator. It makes sense that you can use `in` to see if a value is \"in\" a set:"
   ]
  },
  {
   "cell_type": "code",
   "execution_count": 63,
   "metadata": {
    "collapsed": false,
    "jupyter": {
     "outputs_hidden": false
    }
   },
   "outputs": [
    {
     "data": {
      "text/plain": [
       "False"
      ]
     },
     "execution_count": 63,
     "metadata": {},
     "output_type": "execute_result"
    }
   ],
   "source": [
    "1 in d"
   ]
  },
  {
   "cell_type": "code",
   "execution_count": 64,
   "metadata": {
    "collapsed": false,
    "jupyter": {
     "outputs_hidden": false
    }
   },
   "outputs": [
    {
     "data": {
      "text/plain": [
       "True"
      ]
     },
     "execution_count": 64,
     "metadata": {},
     "output_type": "execute_result"
    }
   ],
   "source": [
    "2 in d"
   ]
  },
  {
   "cell_type": "markdown",
   "metadata": {},
   "source": [
    "but you can also use `in` to test to see if a *key* exists in a Dictionary:"
   ]
  },
  {
   "cell_type": "code",
   "execution_count": 65,
   "metadata": {
    "collapsed": false,
    "jupyter": {
     "outputs_hidden": false
    }
   },
   "outputs": [
    {
     "name": "stdout",
     "output_type": "stream",
     "text": [
      "{'a': 1, 'b': 2}\n"
     ]
    }
   ],
   "source": [
    "print(c)"
   ]
  },
  {
   "cell_type": "code",
   "execution_count": 66,
   "metadata": {
    "collapsed": false,
    "jupyter": {
     "outputs_hidden": false
    }
   },
   "outputs": [
    {
     "data": {
      "text/plain": [
       "True"
      ]
     },
     "execution_count": 66,
     "metadata": {},
     "output_type": "execute_result"
    }
   ],
   "source": [
    "'a' in c"
   ]
  },
  {
   "cell_type": "code",
   "execution_count": 67,
   "metadata": {
    "collapsed": false,
    "jupyter": {
     "outputs_hidden": false
    }
   },
   "outputs": [
    {
     "data": {
      "text/plain": [
       "False"
      ]
     },
     "execution_count": 67,
     "metadata": {},
     "output_type": "execute_result"
    }
   ],
   "source": [
    "'c' in c"
   ]
  },
  {
   "cell_type": "markdown",
   "metadata": {},
   "source": [
    "which helps prevent errors involving non-existent keys. You can also check to see if a value is in a list:"
   ]
  },
  {
   "cell_type": "code",
   "execution_count": 68,
   "metadata": {
    "collapsed": false,
    "jupyter": {
     "outputs_hidden": false
    }
   },
   "outputs": [
    {
     "name": "stdout",
     "output_type": "stream",
     "text": [
      "[2, True, 'foo', 3]\n"
     ]
    }
   ],
   "source": [
    "print(a)"
   ]
  },
  {
   "cell_type": "code",
   "execution_count": 69,
   "metadata": {
    "collapsed": false,
    "jupyter": {
     "outputs_hidden": false
    }
   },
   "outputs": [
    {
     "data": {
      "text/plain": [
       "False"
      ]
     },
     "execution_count": 69,
     "metadata": {},
     "output_type": "execute_result"
    }
   ],
   "source": [
    "'bar' in a"
   ]
  },
  {
   "cell_type": "markdown",
   "metadata": {},
   "source": [
    "There's a lot more to collections. You can refer to the official Python documentation. We'll cover some other topics regarding collections as well."
   ]
  },
  {
   "cell_type": "markdown",
   "metadata": {},
   "source": [
    "<a id='functions'></a>\n",
    "## Functions\n",
    "[index](#index)\n",
    "\n",
    "We only need one more basic unit for a Functional Python and that's functions. Named functions are created by using the `def` statement, the name of the function, formal parameters, an optional documentation string and an indented body. If the function returns values, it must use a `return` statement; otherwise, it returns `None`."
   ]
  },
  {
   "cell_type": "code",
   "execution_count": 70,
   "metadata": {},
   "outputs": [],
   "source": [
    "def my_function(a, b):\n",
    "    \"\"\"my_function takes two arguments and does some really cool stuff\"\"\"\n",
    "    return a + b"
   ]
  },
  {
   "cell_type": "code",
   "execution_count": 71,
   "metadata": {
    "collapsed": false,
    "jupyter": {
     "outputs_hidden": false
    }
   },
   "outputs": [
    {
     "data": {
      "text/plain": [
       "5"
      ]
     },
     "execution_count": 71,
     "metadata": {},
     "output_type": "execute_result"
    }
   ],
   "source": [
    "my_function(2, 3)"
   ]
  },
  {
   "cell_type": "markdown",
   "metadata": {},
   "source": [
    "There isn't a whole here that's different from other programming languages. \n",
    "\n",
    "One of the few \"gotchas\" that some might run into is the necessity of a `return` statement. In languages like Java, C#, Python, the language is comprised of *statements* and *expressions*. Statements do not return a value whereas expressions do. In other languages, like Ruby, Clojure and many other functional programming languages, everything is an expression and there are no statements. In Ruby, `if` is an expression, you can assign the result to a variable:\n",
    "\n",
    "```ruby\n",
    "foo = if a > 0 then\n",
    "\"frank\"\n",
    "else\n",
    "\"bob\"\n",
    "end\n",
    "```\n",
    "\n",
    "And while Python's conditional looks very similar, it is a *statement* not an expression (we'll talk about conditionals in a bit). So you may definitely *not* assign the result to a variable because there is no result.\n",
    "\n",
    "It is a very common mistake to write a function, call it and get `None` back and wonder what went wrong. Make sure that if your function is supposed to return something (not all of them do), it is actually using `return` to return it.\n",
    "\n",
    "```{warning}\n",
    "Because whitespace matters in Python, the second easiest way to introduce this error is to have `return` at the wrong level of indentiation.\n",
    "```\n",
    "The interesting thing about Python functions is that they are values themselves:"
   ]
  },
  {
   "cell_type": "code",
   "execution_count": 72,
   "metadata": {
    "collapsed": false,
    "jupyter": {
     "outputs_hidden": false
    }
   },
   "outputs": [
    {
     "data": {
      "text/plain": [
       "<function __main__.my_function(a, b)>"
      ]
     },
     "execution_count": 72,
     "metadata": {},
     "output_type": "execute_result"
    }
   ],
   "source": [
    "my_function"
   ]
  },
  {
   "cell_type": "markdown",
   "metadata": {},
   "source": [
    "which means you can assign them to variables and pass them around as values:"
   ]
  },
  {
   "cell_type": "code",
   "execution_count": 73,
   "metadata": {
    "collapsed": false,
    "jupyter": {
     "outputs_hidden": false
    }
   },
   "outputs": [
    {
     "data": {
      "text/plain": [
       "30"
      ]
     },
     "execution_count": 73,
     "metadata": {},
     "output_type": "execute_result"
    }
   ],
   "source": [
    "your_function = my_function\n",
    "your_function( 10, 20)"
   ]
  },
  {
   "cell_type": "markdown",
   "metadata": {},
   "source": [
    "I'm going to write a function below that takes a function as a formal argument and calls it with the arguments 10 and 2 and returns the result:"
   ]
  },
  {
   "cell_type": "code",
   "execution_count": 74,
   "metadata": {},
   "outputs": [],
   "source": [
    "def call_f(f):\n",
    "    return f( 10, 2)"
   ]
  },
  {
   "cell_type": "markdown",
   "metadata": {},
   "source": [
    "and call it with `my_function` *as an argument*:"
   ]
  },
  {
   "cell_type": "code",
   "execution_count": 75,
   "metadata": {
    "collapsed": false,
    "jupyter": {
     "outputs_hidden": false
    }
   },
   "outputs": [
    {
     "data": {
      "text/plain": [
       "12"
      ]
     },
     "execution_count": 75,
     "metadata": {},
     "output_type": "execute_result"
    }
   ],
   "source": [
    "call_f(my_function)"
   ]
  },
  {
   "cell_type": "markdown",
   "metadata": {},
   "source": [
    "It might not be obvious yet, but this is very powerful. We can also use functions to make functions:"
   ]
  },
  {
   "cell_type": "code",
   "execution_count": 76,
   "metadata": {},
   "outputs": [],
   "source": [
    "def create_add_to_it(it):\n",
    "    def f(x):\n",
    "        return it + x\n",
    "    return f"
   ]
  },
  {
   "cell_type": "markdown",
   "metadata": {},
   "source": [
    "what I have done is create a function `create_add_to_it` that takes a single formal argument, `it`. The body of the function defines a new function `f` with a formal argument `x` that adds `it` and `x`. The function then returns `f`. The goal is to create a function that will add any number `x` to whatever `it` was set to when the function `f` was created:"
   ]
  },
  {
   "cell_type": "code",
   "execution_count": 77,
   "metadata": {
    "collapsed": false,
    "jupyter": {
     "outputs_hidden": false
    }
   },
   "outputs": [
    {
     "name": "stdout",
     "output_type": "stream",
     "text": [
      "<class 'function'>\n"
     ]
    }
   ],
   "source": [
    "a22 = create_add_to_it(22)\n",
    "print(type(a22))"
   ]
  },
  {
   "cell_type": "markdown",
   "metadata": {},
   "source": [
    "Here we can see that `create_add_to_it` really returned a function and we assigned it to the variable `a22`. Now we use it:"
   ]
  },
  {
   "cell_type": "code",
   "execution_count": 78,
   "metadata": {
    "collapsed": false,
    "jupyter": {
     "outputs_hidden": false
    }
   },
   "outputs": [
    {
     "data": {
      "text/plain": [
       "24"
      ]
     },
     "execution_count": 78,
     "metadata": {},
     "output_type": "execute_result"
    }
   ],
   "source": [
    "a22(2)"
   ]
  },
  {
   "cell_type": "code",
   "execution_count": 79,
   "metadata": {
    "collapsed": false,
    "jupyter": {
     "outputs_hidden": false
    }
   },
   "outputs": [
    {
     "data": {
      "text/plain": [
       "32"
      ]
     },
     "execution_count": 79,
     "metadata": {},
     "output_type": "execute_result"
    }
   ],
   "source": [
    "a22(10)"
   ]
  },
  {
   "cell_type": "markdown",
   "metadata": {},
   "source": [
    "The function `f` that we create remembers the value of `it` when it was created by \"closing\" over the value and is called a *closure*. We will have more to say about closures later.\n",
    "\n",
    "There are a lot of other bells and whistles associated with functions in Python and we'll go over a few of them here. Generally speaking, the typical arguments to a function in Python are *ordered*, that is, the function `my_function` expects `a` and then `b` when it is called:"
   ]
  },
  {
   "cell_type": "code",
   "execution_count": 80,
   "metadata": {
    "collapsed": false,
    "jupyter": {
     "outputs_hidden": false
    }
   },
   "outputs": [
    {
     "data": {
      "text/plain": [
       "5"
      ]
     },
     "execution_count": 80,
     "metadata": {},
     "output_type": "execute_result"
    }
   ],
   "source": [
    "my_function(3, 2)"
   ]
  },
  {
   "cell_type": "markdown",
   "metadata": {},
   "source": [
    "Sometimes, I have the values I need to call a function but they are in a collection. The direct way to fix this problem might be something like:"
   ]
  },
  {
   "cell_type": "code",
   "execution_count": 81,
   "metadata": {
    "collapsed": false,
    "jupyter": {
     "outputs_hidden": false
    }
   },
   "outputs": [
    {
     "data": {
      "text/plain": [
       "5"
      ]
     },
     "execution_count": 81,
     "metadata": {},
     "output_type": "execute_result"
    }
   ],
   "source": [
    "args = [3, 2]\n",
    "my_function(args[0], args[1])"
   ]
  },
  {
   "cell_type": "markdown",
   "metadata": {},
   "source": [
    "However, Python contains a bit of syntactic sugar via the *splat* operator that permits us to do the following:"
   ]
  },
  {
   "cell_type": "code",
   "execution_count": 82,
   "metadata": {
    "collapsed": false,
    "jupyter": {
     "outputs_hidden": false
    }
   },
   "outputs": [
    {
     "data": {
      "text/plain": [
       "5"
      ]
     },
     "execution_count": 82,
     "metadata": {},
     "output_type": "execute_result"
    }
   ],
   "source": [
    "args = [3, 2]\n",
    "my_function(*args)"
   ]
  },
  {
   "cell_type": "markdown",
   "metadata": {},
   "source": [
    "Note that this works for tuples as well:"
   ]
  },
  {
   "cell_type": "code",
   "execution_count": 83,
   "metadata": {
    "collapsed": false,
    "jupyter": {
     "outputs_hidden": false
    }
   },
   "outputs": [
    {
     "data": {
      "text/plain": [
       "5"
      ]
     },
     "execution_count": 83,
     "metadata": {},
     "output_type": "execute_result"
    }
   ],
   "source": [
    "args = (3, 2)\n",
    "my_function(*args)"
   ]
  },
  {
   "cell_type": "markdown",
   "metadata": {},
   "source": [
    "Python also supports something like the reverse of splat in that a function can return more than one value. You can either capture every value individually by assigning in parallel to more than one variable or capture all the values as a collection (Tuple) in one variable.\n",
    "\n",
    "Let's demonstrate by creating a function that does all the basic operations on two arguments:"
   ]
  },
  {
   "cell_type": "code",
   "execution_count": 84,
   "metadata": {
    "collapsed": false,
    "jupyter": {
     "outputs_hidden": false
    }
   },
   "outputs": [],
   "source": [
    "def everything(a, b):\n",
    "    assert b != 0\n",
    "    return a + b, a - b, a * b, a / b"
   ]
  },
  {
   "cell_type": "markdown",
   "metadata": {},
   "source": [
    "Here we know that `everything` returns 4 values so we assign in parallel to 4 variables:"
   ]
  },
  {
   "cell_type": "code",
   "execution_count": 85,
   "metadata": {},
   "outputs": [],
   "source": [
    "a, b, c, d = everything(10, 2)"
   ]
  },
  {
   "cell_type": "code",
   "execution_count": 86,
   "metadata": {
    "collapsed": false,
    "jupyter": {
     "outputs_hidden": false
    }
   },
   "outputs": [
    {
     "name": "stdout",
     "output_type": "stream",
     "text": [
      "12\n",
      "8\n",
      "20\n",
      "5.0\n"
     ]
    }
   ],
   "source": [
    "print(a)\n",
    "print(b)\n",
    "print(c)\n",
    "print(d)"
   ]
  },
  {
   "cell_type": "markdown",
   "metadata": {},
   "source": [
    "Here we assign to one variable which will hold a Tuple of the results:"
   ]
  },
  {
   "cell_type": "code",
   "execution_count": 87,
   "metadata": {
    "collapsed": false,
    "jupyter": {
     "outputs_hidden": false
    }
   },
   "outputs": [
    {
     "name": "stdout",
     "output_type": "stream",
     "text": [
      "(12, 8, 20, 5.0)\n"
     ]
    }
   ],
   "source": [
    "a = everything(10, 2)\n",
    "print(a)"
   ]
  },
  {
   "cell_type": "markdown",
   "metadata": {},
   "source": [
    "It is an all or nothing thing, however. You must either get all the values in one variable or a variable for every value:"
   ]
  },
  {
   "cell_type": "code",
   "execution_count": 88,
   "metadata": {
    "collapsed": false,
    "jupyter": {
     "outputs_hidden": false
    }
   },
   "outputs": [
    {
     "name": "stdout",
     "output_type": "stream",
     "text": [
      "Exception (<class 'ValueError'>): too many values to unpack (expected 3)\n"
     ]
    }
   ],
   "source": [
    "try:\n",
    "    a, b, c = everything(10, 2)\n",
    "    print(a)\n",
    "    print(b)\n",
    "    print(c)\n",
    "except Exception as e:\n",
    "    print(\"Exception (%s): %s\" % (type(e), str(e)))"
   ]
  },
  {
   "cell_type": "markdown",
   "metadata": {},
   "source": [
    "The error above tells us that `everything` returned more than 3 values."
   ]
  },
  {
   "cell_type": "markdown",
   "metadata": {},
   "source": [
    "Python also permits *named* arguments *a la* Objective-C. In fact, you don't really have to do anything to get it work. If you know the names of the formal arguments to a function, you can use them like so:"
   ]
  },
  {
   "cell_type": "code",
   "execution_count": 89,
   "metadata": {
    "collapsed": false,
    "jupyter": {
     "outputs_hidden": false
    }
   },
   "outputs": [
    {
     "name": "stdout",
     "output_type": "stream",
     "text": [
      "(12, -8, 20, 0.2)\n"
     ]
    }
   ],
   "source": [
    "a = everything(a=2, b=10)\n",
    "print(a)"
   ]
  },
  {
   "cell_type": "markdown",
   "metadata": {},
   "source": [
    "In case you really want to get crazy, by *naming* the arguments, you can ignore the order:"
   ]
  },
  {
   "cell_type": "code",
   "execution_count": 90,
   "metadata": {
    "collapsed": false,
    "jupyter": {
     "outputs_hidden": false
    }
   },
   "outputs": [
    {
     "name": "stdout",
     "output_type": "stream",
     "text": [
      "(12, -8, 20, 0.2)\n"
     ]
    }
   ],
   "source": [
    "a = everything(b=10, a=2)\n",
    "print(a)"
   ]
  },
  {
   "cell_type": "markdown",
   "metadata": {},
   "source": [
    "This leads to a few interesting things. First, by using *double* splat, we can use a Dict to supply the argument values in a call to a function:"
   ]
  },
  {
   "cell_type": "code",
   "execution_count": 91,
   "metadata": {
    "collapsed": false,
    "jupyter": {
     "outputs_hidden": false
    }
   },
   "outputs": [
    {
     "name": "stdout",
     "output_type": "stream",
     "text": [
      "(12, -8, 20, 0.2)\n"
     ]
    }
   ],
   "source": [
    "args = {\"a\": 2, \"b\": 10}\n",
    "a = everything(**args)\n",
    "print(a)"
   ]
  },
  {
   "cell_type": "markdown",
   "metadata": {},
   "source": [
    "Second, we can provide default values to our formal arguments with the *proviso* that no formal argument *without* a default value can appear after a formal argument *with* a default value. The following is ok:"
   ]
  },
  {
   "cell_type": "code",
   "execution_count": 92,
   "metadata": {},
   "outputs": [],
   "source": [
    "def everything(a, b=10):\n",
    "    return a + b, a - b, a * b, a / b"
   ]
  },
  {
   "cell_type": "markdown",
   "metadata": {},
   "source": [
    "But the following is not:\n",
    "\n",
    "```python\n",
    "def everything(a=10, b):\n",
    "    return a + b, a - b, a * b, a / b\n",
    "```\n",
    "\n",
    "**BAD** - if `a` has a default value, so must `b`.\n",
    "\n",
    "Let's see how calling the good version works. The first execution will use the default value of `b`:"
   ]
  },
  {
   "cell_type": "code",
   "execution_count": 93,
   "metadata": {
    "collapsed": false,
    "jupyter": {
     "outputs_hidden": false
    }
   },
   "outputs": [
    {
     "name": "stdout",
     "output_type": "stream",
     "text": [
      "(30, 10, 200, 2.0)\n"
     ]
    }
   ],
   "source": [
    "a = everything(20)\n",
    "print(a)"
   ]
  },
  {
   "cell_type": "markdown",
   "metadata": {},
   "source": [
    "This execution will supply a different value of `b`:"
   ]
  },
  {
   "cell_type": "code",
   "execution_count": 94,
   "metadata": {
    "collapsed": false,
    "jupyter": {
     "outputs_hidden": false
    }
   },
   "outputs": [
    {
     "name": "stdout",
     "output_type": "stream",
     "text": [
      "(120, -80, 2000, 0.2)\n"
     ]
    }
   ],
   "source": [
    "a = everything(20, 100)\n",
    "print(a)"
   ]
  },
  {
   "cell_type": "markdown",
   "metadata": {},
   "source": [
    "<a id='anonymous_functions'></a>\n",
    "### Anonymous Functions\n",
    "[index](#index)\n",
    "\n",
    "So far, we've been talking about *named* functions. There are also *anonymous* functions or *lambdas* in Python as well. They are pretty limited in that they can only only be a single expression. They look something like this:"
   ]
  },
  {
   "cell_type": "code",
   "execution_count": 95,
   "metadata": {
    "collapsed": false,
    "jupyter": {
     "outputs_hidden": false
    }
   },
   "outputs": [
    {
     "data": {
      "text/plain": [
       "<function __main__.<lambda>(x, y)>"
      ]
     },
     "execution_count": 95,
     "metadata": {},
     "output_type": "execute_result"
    }
   ],
   "source": [
    "lambda x, y: x + y"
   ]
  },
  {
   "cell_type": "markdown",
   "metadata": {},
   "source": [
    "Of course, that's not very useful. Where a lambda is useful is in a situation like we had above where I had a function that took a function as an argument. If I have a very simple computation, I don't have to use a named function but can supply a lambda instead. Remember that `call_f` applies 10 and 2 to the supplied `f` which will be an anonymous function this time:"
   ]
  },
  {
   "cell_type": "code",
   "execution_count": 96,
   "metadata": {
    "collapsed": false,
    "jupyter": {
     "outputs_hidden": false
    }
   },
   "outputs": [
    {
     "data": {
      "text/plain": [
       "20"
      ]
     },
     "execution_count": 96,
     "metadata": {},
     "output_type": "execute_result"
    }
   ],
   "source": [
    "call_f(lambda x, y: x * y)"
   ]
  },
  {
   "cell_type": "markdown",
   "metadata": {},
   "source": [
    "<a id='pure_functions_and_mutable_data'></a>\n",
    "### A Note about Pure Functions and Mutable Data\n",
    "[index](#index)\n",
    "\n",
    "Consider the following code and its execution:"
   ]
  },
  {
   "cell_type": "code",
   "execution_count": 97,
   "metadata": {
    "collapsed": false,
    "jupyter": {
     "outputs_hidden": false
    }
   },
   "outputs": [
    {
     "name": "stdout",
     "output_type": "stream",
     "text": [
      "Before...\n",
      "x1 [1, 2, 3, 4]\n",
      "After...\n",
      "x2 [1, 2, 3, 4, 10]\n",
      "x1 [1, 2, 3, 4, 10]\n"
     ]
    }
   ],
   "source": [
    "def add_total(xs):\n",
    "    total = sum(xs)\n",
    "    xs.append( total)\n",
    "    return xs\n",
    "    \n",
    "x1 = [1, 2, 3, 4]\n",
    "print(\"Before...\")\n",
    "print(\"x1\", x1)\n",
    "x2 = add_total( x1)\n",
    "print(\"After...\")\n",
    "print(\"x2\", x2)\n",
    "print(\"x1\", x1)"
   ]
  },
  {
   "cell_type": "markdown",
   "metadata": {},
   "source": [
    "Ideally, we would like for `x1` not to change. This is what would happen in a functional programming language with *immutable* data structures. However, Python's data structures (except Tuples) are mutable which is the reason for the behavior we see.\n",
    "\n",
    "While it is possible to add *immutable* data structures and all the goodies that go with them to Python via 3rd party libraries (these are mentioned at the end of this document), a poor person's way to achieve something similar is through `deepcopy`:"
   ]
  },
  {
   "cell_type": "code",
   "execution_count": 98,
   "metadata": {},
   "outputs": [],
   "source": [
    "from copy import deepcopy"
   ]
  },
  {
   "cell_type": "code",
   "execution_count": 99,
   "metadata": {
    "collapsed": false,
    "jupyter": {
     "outputs_hidden": false
    }
   },
   "outputs": [
    {
     "name": "stdout",
     "output_type": "stream",
     "text": [
      "Before...\n",
      "x1 [1, 2, 3, 4]\n",
      "After...\n",
      "x2 [1, 2, 3, 4, 10]\n",
      "x1 [1, 2, 3, 4]\n"
     ]
    }
   ],
   "source": [
    "def add_total(xs):\n",
    "    xs_copy = deepcopy(xs)\n",
    "    total = sum(xs_copy)\n",
    "    xs_copy.append(total)\n",
    "    return xs_copy\n",
    "    \n",
    "x1 = [1, 2, 3, 4]\n",
    "print(\"Before...\")\n",
    "print(\"x1\", x1)\n",
    "x2 = add_total(x1)\n",
    "print(\"After...\")\n",
    "print(\"x2\", x2)\n",
    "print(\"x1\", x1)"
   ]
  },
  {
   "cell_type": "markdown",
   "metadata": {},
   "source": [
    "In either case, you need to be careful. If you do not make deep copies, at least make sure you always return the modified data structure rather than relying on the mutation in place (as Python normally does).\n",
    "This will make more sense when we talk about **unit testing* later.\n",
    "\n",
    "If you decide to make deep copies, realize that you are doubling the amount of memory you are using. The efficient immutable data structures in Clojure and the like use *structural sharing* to minimize duplication. With structural sharing, `x1` and the modified `x2` \"share\" `[1, 2, 3, 4]` and only `x2` has `10` appended to the end.\n",
    "\n",
    "Making deep copies is also a common requirement when implementing certain **recursive** algorithms (functions that call themselves).\n",
    "In general, if you are very careful, always returning the modified data structure is the first easiest thing to do."
   ]
  },
  {
   "cell_type": "markdown",
   "metadata": {},
   "source": [
    "<a id='deconstruction_object_oriented_programming'></a>\n",
    "## Deconstructing Object Oriented Programming\n",
    "[index](#index)\n",
    "\n",
    "We are now in a position to deconstructing Object Oriented Programming to a more functional, **dataflow** style of programming.\n",
    "\n",
    "As noted in Yegge's blog post, in a language like Java, everything must start out as a noun. This is why the namespaces of Java are littered with things like `CommandExecutor`, `PersonFactory` and other such nonsense. Java requires functions to belong to classes, that is, you can only have *methods*.\n",
    "\n",
    "Under the covers, however, objects are really just a syntactic sugar for records and procedures. To see how this is so, let us look at a typical Java class definition:\n",
    "\n",
    "```java\n",
    "public class Person {\n",
    "    public Person(firstName, lastName) {\n",
    "        this.firstName = firstName;\n",
    "        this.lastName = lastName;\n",
    "    }\n",
    "    \n",
    "    public String getFirstName() { return firstName; }\n",
    "    public String getLastName() { return lastName; }\n",
    "    public void setFirstName( firstName) { this.firstName = firstName; }\n",
    "    public void setLastName( lastName) { this.lastName = lastName; }\n",
    "    public String getFullName() { return firstName + \" \" + lastName; }\n",
    "}\n",
    "```\n",
    "\n",
    "There are a few things to note here. First, for whatever reason, languages get associated with conventions and the naming convention of arguments and variables in Java is \"camelCase\". In Python, it is \"snake_case\". These conventions are often spelled out. In the case of Python, the conventions are documented in [PEP 8](https://www.python.org/dev/peps/pep-0008/).  **You are to follow the PEP 8 conventions for all submissions in this course unless specifically overruled. Failure to do so is a failing submission.**\n",
    "\n",
    "But more to the point, we have a class definition, `Person` and various getters and setters. The only slightly interesting method is the `getFullName` method because it does actual work with the values or state of a Person object. But the most important part is `this`. What is `this`? (Note that the PEP-8 convention is to use `self` instead of `this` but I use `this` for consistency.)\n",
    "\n",
    "Let's look at the Python version for further insight:\n",
    "\n",
    "```python\n",
    "class Person:\n",
    "    def __init__(this, first_name, last_name):\n",
    "        this.first_name = first_name\n",
    "        this.last_name = last_name\n",
    "    def set_first_name(this, first_name):\n",
    "        this.first_name = first_name\n",
    "    def set_last_name(this, last_name):\n",
    "        this.last_name = last_name\n",
    "    def full_name(this):\n",
    "        return this.first_name + \" \" + this.last_name\n",
    "    def __str__( this):\n",
    "        return \"Person[%s, %s]\" % (this.first_name, this.last_name)\n",
    "```\n",
    "\n",
    "Again, `this` makes an appearance everywhere. Unlike Java, however, `this` makes an appearance in the method definitions. This was a conscious design decision on van Rossum's part. The *lack* of `this` in method definitions in Java is syntactic sugar. (It is actually a common error to forget to include `this` as a first argument in a method definition. If you see an error that says `f takes 2 arguments, 3 arguments given`, you have most likely made this mistake).\n",
    "\n",
    "But this isn't the only way that Python exposes some of the underlying machinery. Let's instantiate a `Person` object:"
   ]
  },
  {
   "cell_type": "code",
   "execution_count": 100,
   "metadata": {},
   "outputs": [],
   "source": [
    "class Person:\n",
    "    def __init__(this, first_name, last_name):\n",
    "        this.first_name = first_name\n",
    "        this.last_name = last_name\n",
    "    def set_first_name(this, first_name):\n",
    "        this.first_name = first_name\n",
    "    def set_last_name(this, last_name):\n",
    "        this.last_name = last_name\n",
    "    def full_name(this):\n",
    "        return this.first_name + \" \" + this.last_name\n",
    "    def __str__(this):\n",
    "        return \"Person[%s, %s]\" % (this.first_name, this.last_name)"
   ]
  },
  {
   "cell_type": "code",
   "execution_count": 101,
   "metadata": {},
   "outputs": [],
   "source": [
    "p = Person(\"Harry\", \"Potter\")"
   ]
  },
  {
   "cell_type": "markdown",
   "metadata": {},
   "source": [
    "So far, so good. If we print out the object, we get the usual object gobblygook:"
   ]
  },
  {
   "cell_type": "code",
   "execution_count": 102,
   "metadata": {
    "collapsed": false,
    "jupyter": {
     "outputs_hidden": false
    }
   },
   "outputs": [
    {
     "data": {
      "text/plain": [
       "<__main__.Person at 0x1049511b0>"
      ]
     },
     "execution_count": 102,
     "metadata": {},
     "output_type": "execute_result"
    }
   ],
   "source": [
    "p"
   ]
  },
  {
   "cell_type": "markdown",
   "metadata": {},
   "source": [
    "If instead we \"cast\" the `Person` to a `str`, the `Person`'s `__str__` method is called:"
   ]
  },
  {
   "cell_type": "code",
   "execution_count": 103,
   "metadata": {
    "collapsed": false,
    "jupyter": {
     "outputs_hidden": false
    }
   },
   "outputs": [
    {
     "name": "stdout",
     "output_type": "stream",
     "text": [
      "Person[Harry, Potter]\n"
     ]
    }
   ],
   "source": [
    "print(str( p))"
   ]
  },
  {
   "cell_type": "markdown",
   "metadata": {},
   "source": [
    "Unlike in Java, we didn't need the getters:"
   ]
  },
  {
   "cell_type": "code",
   "execution_count": 104,
   "metadata": {
    "collapsed": false,
    "jupyter": {
     "outputs_hidden": false
    }
   },
   "outputs": [
    {
     "name": "stdout",
     "output_type": "stream",
     "text": [
      "Harry\n",
      "Potter\n"
     ]
    }
   ],
   "source": [
    "print(p.first_name)\n",
    "print(p.last_name)"
   ]
  },
  {
   "cell_type": "markdown",
   "metadata": {},
   "source": [
    "We didn't really need the setters either:"
   ]
  },
  {
   "cell_type": "code",
   "execution_count": 105,
   "metadata": {
    "collapsed": false,
    "jupyter": {
     "outputs_hidden": false
    }
   },
   "outputs": [
    {
     "name": "stdout",
     "output_type": "stream",
     "text": [
      "Person[Lily, Potter]\n"
     ]
    }
   ],
   "source": [
    "p.first_name = \"Lily\"\n",
    "print(p) # print calls str()"
   ]
  },
  {
   "cell_type": "markdown",
   "metadata": {},
   "source": [
    "And as if it couldn't get any more strange, we can add attributes on the fly:"
   ]
  },
  {
   "cell_type": "code",
   "execution_count": 106,
   "metadata": {
    "collapsed": false,
    "jupyter": {
     "outputs_hidden": false
    }
   },
   "outputs": [
    {
     "name": "stdout",
     "output_type": "stream",
     "text": [
      "Person[Harry, Potter]\n",
      "The Boy Who Lived\n"
     ]
    }
   ],
   "source": [
    "p.first_name = \"Harry\"\n",
    "p.title = \"The Boy Who Lived\"\n",
    "print(p)\n",
    "print(p.title)"
   ]
  },
  {
   "cell_type": "markdown",
   "metadata": {},
   "source": [
    "And, of course, we can call our method that does some real work:"
   ]
  },
  {
   "cell_type": "code",
   "execution_count": 107,
   "metadata": {
    "collapsed": false,
    "jupyter": {
     "outputs_hidden": false
    }
   },
   "outputs": [
    {
     "name": "stdout",
     "output_type": "stream",
     "text": [
      "Harry Potter\n"
     ]
    }
   ],
   "source": [
    "print(p.full_name())"
   ]
  },
  {
   "cell_type": "markdown",
   "metadata": {},
   "source": [
    "We've learned a few things from this experiment. Mainly, a class definition is syntactic sugar for a Dict and associated functions that automatically receive that Dict as a first argument. We could just as easily have written:\n",
    "\n",
    "```python\n",
    "def person_set_first_name(person, first_name):\n",
    "    person.first_name = first_name\n",
    "\n",
    "def person_set_last_name(person, last_name):\n",
    "    person.last_name = last_name\n",
    "\n",
    "def person_full_name(person):\n",
    "    return person.first_name + \" \" + person.last_name\n",
    "    \n",
    "def person_str(person):\n",
    "    return \"Person[%s, %s]\" % (person.first_name, person.last_name)\n",
    "```\n",
    "\n",
    "\n",
    "This is, in fact, how classes and objects are represented in many objected oriented languages. \n",
    "This is known as *single dispatch*.\n",
    "The state is stored on the heap and when a method is invoked on an object instance, the interpreter looks up the *type* of the object and then looks for a munged name exactly like those shown above and invokes it with the object state as the first parameter to the method. The only difference in this regard between Java and Python is that Python has less syntactic sugar but the basic process is the same.\n",
    "Every function called `to_string` gets called on the correct type (through the dot notation).\n",
    "\n",
    "In the bad old days of the C programming language, this is how a lot of programming was done. \n",
    "You created records (basically Dicts) and functions that operated on those records. \n",
    "Modulo a few subtlies, this is now, more or less, the functional approach.  \n",
    "\n",
    "In Python, you have several options for replacing classes and objects. \n",
    "In all cases, you will or may need to add *functions* that work on the entities. \n",
    "They should generally be named using *verbs*. \n",
    "For example, `full_name` might be `calculate_full_name`. \n",
    "We'll talk a bit more about naming later.\n",
    "\n",
    "On the other hand, you have a few more options in Python for state. \n",
    "You can use a Dict or a NamedTuple."
   ]
  },
  {
   "cell_type": "markdown",
   "metadata": {},
   "source": [
    "<a id='dicts'></a>\n",
    "### Dicts\n",
    "[index](#index)\n",
    "\n",
    "The simplest thing is to use a Dict for your state. In a functional programming language, the key names of a Dict become the *data* interface. You may not know at the start what you want that interface to look like. The Dict gives you the ultimate flexibility:"
   ]
  },
  {
   "cell_type": "code",
   "execution_count": 108,
   "metadata": {
    "collapsed": false,
    "jupyter": {
     "outputs_hidden": false
    }
   },
   "outputs": [
    {
     "name": "stdout",
     "output_type": "stream",
     "text": [
      "{'first_name': 'Harry', 'last_name': 'Potter'}\n"
     ]
    }
   ],
   "source": [
    "p = {\"first_name\": \"Harry\", \"last_name\": \"Potter\"}\n",
    "print(p)"
   ]
  },
  {
   "cell_type": "markdown",
   "metadata": {},
   "source": [
    "This flexibility comes at a cost:"
   ]
  },
  {
   "cell_type": "code",
   "execution_count": 109,
   "metadata": {
    "collapsed": false,
    "jupyter": {
     "outputs_hidden": false
    }
   },
   "outputs": [
    {
     "name": "stdout",
     "output_type": "stream",
     "text": [
      "Exception (<class 'AttributeError'>): 'dict' object has no attribute 'first_name'\n"
     ]
    }
   ],
   "source": [
    "try:\n",
    "    print(p.first_name)\n",
    "except Exception as e:\n",
    "    print(\"Exception (%s): %s\" % (type(e), str(e)))"
   ]
  },
  {
   "cell_type": "markdown",
   "metadata": {},
   "source": [
    "However, we can easily add new attributes:"
   ]
  },
  {
   "cell_type": "code",
   "execution_count": 110,
   "metadata": {
    "collapsed": false,
    "jupyter": {
     "outputs_hidden": false
    }
   },
   "outputs": [
    {
     "name": "stdout",
     "output_type": "stream",
     "text": [
      "{'first_name': 'Harry', 'last_name': 'Potter', 'title': 'The Boy Who Lived'}\n"
     ]
    }
   ],
   "source": [
    "p[\"title\"] = \"The Boy Who Lived\"\n",
    "print(p)"
   ]
  },
  {
   "cell_type": "markdown",
   "metadata": {},
   "source": [
    "The main advantage here is that every bundle of data has the same exact interface and functions: the functions of a Dict. We can use `[]` or `get` on every \"object\" regardless of whether the data represents a person, a car, or a chart.\n",
    "\n",
    "What if we want more than one attribute at a time?\n"
   ]
  },
  {
   "cell_type": "code",
   "execution_count": 111,
   "metadata": {},
   "outputs": [],
   "source": [
    "from operator import itemgetter"
   ]
  },
  {
   "cell_type": "code",
   "execution_count": 112,
   "metadata": {},
   "outputs": [
    {
     "name": "stdout",
     "output_type": "stream",
     "text": [
      "Harry\n",
      "Potter\n"
     ]
    }
   ],
   "source": [
    "first_name, last_name = itemgetter(\"first_name\", \"last_name\")(p)\n",
    "print(first_name)\n",
    "print(last_name)"
   ]
  },
  {
   "cell_type": "markdown",
   "metadata": {},
   "source": [
    "\n",
    "<a id='namedtuples'></a>\n",
    "### namedtuples\n",
    "[index](#index)\n",
    "\n",
    "Sometimes we want something a bit more structured. In that case, we can use a `namedtuple`. The namedtuple prevents us from accidentally creating or accessing unknown fields. The tradeoff is that we no longer are working with a Dict with a more general interface."
   ]
  },
  {
   "cell_type": "code",
   "execution_count": 113,
   "metadata": {
    "collapsed": false,
    "jupyter": {
     "outputs_hidden": false
    }
   },
   "outputs": [],
   "source": [
    "from collections import namedtuple"
   ]
  },
  {
   "cell_type": "code",
   "execution_count": 114,
   "metadata": {},
   "outputs": [],
   "source": [
    "person = namedtuple('Person', [\"first_name\", \"last_name\"])"
   ]
  },
  {
   "cell_type": "code",
   "execution_count": 115,
   "metadata": {
    "collapsed": false,
    "jupyter": {
     "outputs_hidden": false
    }
   },
   "outputs": [
    {
     "name": "stdout",
     "output_type": "stream",
     "text": [
      "Person(first_name='Harry', last_name='Potter')\n"
     ]
    }
   ],
   "source": [
    "p = person(\"Harry\", \"Potter\")\n",
    "print(p)"
   ]
  },
  {
   "cell_type": "markdown",
   "metadata": {},
   "source": [
    "Here we can use dot notation to access fields:"
   ]
  },
  {
   "cell_type": "code",
   "execution_count": 116,
   "metadata": {
    "collapsed": false,
    "jupyter": {
     "outputs_hidden": false
    }
   },
   "outputs": [
    {
     "name": "stdout",
     "output_type": "stream",
     "text": [
      "Harry\n",
      "Potter\n"
     ]
    }
   ],
   "source": [
    "print(p.first_name)\n",
    "print(p.last_name)"
   ]
  },
  {
   "cell_type": "markdown",
   "metadata": {},
   "source": [
    "But we can't add new ones on the fly:"
   ]
  },
  {
   "cell_type": "code",
   "execution_count": 117,
   "metadata": {
    "collapsed": false,
    "jupyter": {
     "outputs_hidden": false
    }
   },
   "outputs": [
    {
     "name": "stdout",
     "output_type": "stream",
     "text": [
      "Exception (<class 'AttributeError'>): 'Person' object has no attribute 'title'\n"
     ]
    }
   ],
   "source": [
    "try:\n",
    "    p.title = \"The Boy Who Lived\"\n",
    "except Exception as e:\n",
    "    print(\"Exception (%s): %s\" % (type(e), str(e)))"
   ]
  },
  {
   "cell_type": "markdown",
   "metadata": {},
   "source": [
    "And we can't change the values of fields, because Tuples are immutable."
   ]
  },
  {
   "cell_type": "code",
   "execution_count": 118,
   "metadata": {
    "collapsed": false,
    "jupyter": {
     "outputs_hidden": false
    }
   },
   "outputs": [
    {
     "name": "stdout",
     "output_type": "stream",
     "text": [
      "Exception (<class 'AttributeError'>): can't set attribute\n"
     ]
    }
   ],
   "source": [
    "try:\n",
    "    p.first_name = \"Lily\"\n",
    "except Exception as e:\n",
    "    print(\"Exception (%s): %s\" % (type(e), str(e)))   "
   ]
  },
  {
   "cell_type": "markdown",
   "metadata": {},
   "source": [
    "<a id='data_classes'></a>\n",
    "### Data Classes\n",
    "[index](#index)\n",
    "\n",
    "What about Python's \"new\" DataClasses?\n",
    "\n",
    "Python's dataclass decorator allows you to quickly define a special class that is oriented towards data rather than behavior."
   ]
  },
  {
   "cell_type": "code",
   "execution_count": 119,
   "metadata": {},
   "outputs": [],
   "source": [
    "from dataclasses import dataclass"
   ]
  },
  {
   "cell_type": "code",
   "execution_count": 120,
   "metadata": {},
   "outputs": [],
   "source": [
    "@dataclass\n",
    "class PersonDC:\n",
    "    first_name: str\n",
    "    last_name: str"
   ]
  },
  {
   "cell_type": "code",
   "execution_count": 121,
   "metadata": {},
   "outputs": [],
   "source": [
    "harry = PersonDC(\"harry\", \"potter\")"
   ]
  },
  {
   "cell_type": "code",
   "execution_count": 122,
   "metadata": {},
   "outputs": [
    {
     "data": {
      "text/plain": [
       "PersonDC(first_name='harry', last_name='potter')"
      ]
     },
     "execution_count": 122,
     "metadata": {},
     "output_type": "execute_result"
    }
   ],
   "source": [
    "harry"
   ]
  },
  {
   "cell_type": "markdown",
   "metadata": {},
   "source": [
    "This is nice.\n",
    "We get nice representation for free and we don't need to write our own `__init__` function.\n",
    "However, we lose things as well:"
   ]
  },
  {
   "cell_type": "code",
   "execution_count": 123,
   "metadata": {},
   "outputs": [
    {
     "name": "stdout",
     "output_type": "stream",
     "text": [
      "'PersonDC' object is not subscriptable\n"
     ]
    }
   ],
   "source": [
    "try:\n",
    "    harry[\"first_name\"]\n",
    "except TypeError as e:\n",
    "    print(e)"
   ]
  },
  {
   "cell_type": "markdown",
   "metadata": {},
   "source": [
    "We are still stuck in a single dispatch world where data and behavior are tightly coupled.\n",
    "So, for us Data Classes are not a solution, which leads us to *encapsulation*."
   ]
  },
  {
   "cell_type": "markdown",
   "metadata": {},
   "source": [
    "<a id='encapsultation'></a>\n",
    "### Encapsulation\n",
    "[index](#index)\n",
    "\n",
    "Some may be wondering about encapsulation. What about making state private from the awful programmers? The dataflow approach recognizes that data and operations on data are what programs are about and there's no particular reason to encapsulate it. Programmers should be treated like adults. In libraries especially, the public functions and data should be made clear and failure to abide by this declarations is the programmer's fault.\n",
    "\n",
    "On the other hand, you can get as much or as little encapsulation as you like by using **closures** (with a \"s\" not a \"j\"):"
   ]
  },
  {
   "cell_type": "markdown",
   "metadata": {},
   "source": [
    "<a id='closures'></a>\n",
    "### Closures\n",
    "[index](#index)\n",
    "\n",
    "> \"Closures are a poor person's Class; Classes are a poor person's Closure\"\n",
    "\n",
    "Another approach--which admittedly has some dangers in a language like Python where the data structures are mutable--is to use closures.\n",
    "\n",
    "We saw a closure before:\n",
    "\n",
    "```python\n",
    "def create_add_to_it(it):\n",
    "    def f(x):\n",
    "        return it + x\n",
    "    return f\n",
    "```\n",
    "\n",
    "`create_add_to_it` takes a value, `it`, and then returns a function that will add some user supplied `x` to `it`. The definition of `f` closes over the value of `it` and has access to it even after the function `f` is returned from `create_add_to_it`.\n",
    "\n",
    "If you squint, you can think of a class (object) as a closure. The constructor sets values and the methods have access to those values along with their formal arguments. For example:\n",
    "\n",
    "```python\n",
    "\n",
    "person = namedtuple('Person', [\"first_name\", \"last_name\"])\n",
    "\n",
    "def construct_person(first_name, last_name):\n",
    "    p = person( first_name, last_name)\n",
    "    def f():\n",
    "        return p.first_name + \" \" + p.last_name\n",
    "    return {\"full_name\": f}\n",
    "\n",
    "harry_potter = construct_person(\"Harry\", \"Potter\")\n",
    "\n",
    "print(harry_potter[\"full_name\"]())\n",
    "```\n",
    "\n",
    "This probably isn't the best or easiest use of a closure. After all, we've basically replicated how `class` works. However, closures can be vary powerful in functional programming. You can create a function that would otherwise require a lot of unchanging but necessary arguments by using a function *factory* that closes over those parameters. Consider the following example:\n",
    "\n",
    "Imagine we have a problem where we have:\n",
    "\n",
    "1. some raw data or other specification for a world in which a robot must operate.\n",
    "2. various rules about how the robot can move.\n",
    "3. various costs associated with movement.\n",
    "\n",
    "And all we want to do is suggest a location to move to and have find out if the move really happened:\n",
    "\n",
    "```python\n",
    "def construct_move_fn(world, movement_rules, costs):\n",
    "    def move( current_location, desired_location):\n",
    "        # do a whole bunch of stuff to see if the robot can move from current to desired.\n",
    "        return actual_location, cost\n",
    "    return move\n",
    "    \n",
    "move = construct_move_fn(world, movement_rules, costs)\n",
    "\n",
    "current_location = (0, 1)\n",
    "desired_location = (1, 1)\n",
    "\n",
    "location, cost = move(current_location, actual_location)\n",
    "\n",
    "print(location, cost)\n",
    "```\n",
    "\n",
    "`construct_move_fn` takes the `world` (in some format), `movement_rules` (can you make diagonal moves or only horizontal or vertical moves, how many \"spaces\"?), and the `costs` of moving through different terrains or distances. It creates a function `move` that takes as arguments the `current_location` of the robot and the `desired_location`. It will then do a bunch of logic checks to make sure the movement rules are adhered to in the context of the world (for example, a diagonal move might be illegal, the move itself might be illegal because the desired location contains a locked door or the location may not even be in the world!) and return the actual location the robot ends up in along with the cost.\n",
    "\n",
    "We can then instantiate a specific `move` function and call it.\n",
    "\n",
    "By using a closure, we have closed over the arguments that aren't going to change during this run of the program but left them open to change in other runs."
   ]
  },
  {
   "cell_type": "markdown",
   "metadata": {},
   "source": [
    "<a id='function_composition'></a>\n",
    "### Function Composition and Closures\n",
    "[index](#index)\n",
    "\n",
    "Composing functions is a powerful way of solving problems.\n",
    "Take the following functions (what the actually do is immaterial, this is an example of a pattern):\n",
    "\n",
    "```python\n",
    "def do_something_a(a):\n",
    "    return a\n",
    "\n",
    "def do_something_b(b):\n",
    "    return b\n",
    "\n",
    "def combine(result_a, result_b):\n",
    "    return (result_a, result)b\n",
    "\n",
    "def main_function(a, b):\n",
    "    result_a = do_something_a(a)\n",
    "    result_b = do_something_b(b)\n",
    "    result = combine(result_a, result_b)\n",
    "```\n",
    "\n",
    "The behavior of our `main_function` is limited to the particular implementations of `do_something_a`, `do_something_b`, and `combine`.\n",
    "\n",
    "However, if we were do write `main_function` as follows:\n",
    "\n",
    "```python\n",
    "def main_function(a, b, do_a_fn, do_b_fn, combine_fn):\n",
    "    result_a = do_a_fn(a)\n",
    "    result_b = do_b_fn(b)\n",
    "    result = combine_fn(result_a, result_b)\n",
    "```\n",
    "\n",
    "we could call it like so:\n",
    "\n",
    "```python\n",
    "main_function(7, \"sparse\", do_somthing_a, do_something_b, combine)\n",
    "```\n",
    "\n",
    "and we could also call it like:\n",
    "\n",
    "```python\n",
    "main_function(7, \"matter\", do_something_special_a, do_something_b, combine_extra)\n",
    "```\n",
    "\n",
    "Of course, we can use default values:\n",
    "\n",
    "```python\n",
    "def main_function(a, b, do_a_fn=d_something_a, do_b_fn=do_something_b, combine_fn=combine):\n",
    "    # ...\n",
    "```\n",
    "\n",
    "We can also add in additional information using *partial application* and anonymous functions.\n",
    "Suppose our `combine_extra` requires an additional value, `c` but the implementation we have only allows us to pass in `result_a`, and `result_b`?\n",
    "\n",
    "```python\n",
    "def combine_extra(result_a, result_b, c):\n",
    "    pass\n",
    "\n",
    "c = 1.27\n",
    "main_function(7, \"matter\", combine_fn=lambda result_a, result_b: result_a, result_b, c)\n",
    "```\n",
    "\n",
    "We can create a special version of `combine_fn` with the correct number of parameters by using an anonymous function and a closure.\n",
    "\n",
    "**Knowing about these techniques doesn't mean you should use them everywhere**.\n",
    "However, if you find yourself writing the same code over and over again, with minor differences, you should think about *higher order functions*.\n",
    "\n",
    "\n"
   ]
  },
  {
   "cell_type": "markdown",
   "metadata": {},
   "source": [
    "<a id='polymorphism'></a>\n",
    "### Polymorphism\n",
    "[index](#index)\n",
    "\n",
    "What about Polymorphism? You know...you have Dog, Cat and Mouse objects and you call `speak()` on each one and it does The Right Thing?\n",
    "This is accomplished in OOP by *single dispatch*.\n",
    "The method, `speak()` is tied to the object it is called on.\n",
    "This goes back to Java's implicit `this` and Python's explicit `self`.\n",
    "\n",
    "There are actually a number of ways that functional programming languages obtain polymorphism, usually in ways that exceed those possible with OOP. \n",
    "This is *multiple dispatch*.\n",
    "One such way, ported to Python, is with *multimethods*. \n",
    "Multimethods are interesting because they're more general than the polymorphism you can obtain solely with types. \n",
    "You can learn more about implementing multimethods in Python in Adam Bard's [Implementing Multimethods in Python](https://adambard.com/blog/implementing-multimethods-in-python/).\n",
    "For now, we'll simply note that we achieve some measure of polymorphism because any function that operates on a known set of keys in a dictionary can operate on any dictionary with those keys."
   ]
  },
  {
   "cell_type": "markdown",
   "metadata": {},
   "source": [
    "<a id='flow_control_and_iteration'></a>\n",
    "## Flow Control and Iteration\n",
    "[index](#index)\n",
    "\n",
    "So the basic model of the functional *program* is one of a flow of *data*. The data represents the state of the program, stuff that probably came from the \"outside\" world, is transformed in some way, and then this result is communicated to the outside world."
   ]
  },
  {
   "cell_type": "markdown",
   "metadata": {},
   "source": [
    "<a id=\"flow_control\"></a>\n",
    "### Flow Control\n",
    "[index](#index)\n",
    "\n",
    "Flow Control is achieved in Python with the usual suspects: `if`, `while`, and--with Python 3.10--`match`."
   ]
  },
  {
   "cell_type": "code",
   "execution_count": 124,
   "metadata": {
    "collapsed": false,
    "jupyter": {
     "outputs_hidden": false
    }
   },
   "outputs": [
    {
     "name": "stdout",
     "output_type": "stream",
     "text": [
      "By Zeus's hammer!\n"
     ]
    }
   ],
   "source": [
    "if True:\n",
    "    print(\"By Zeus's hammer!\")\n",
    "else:\n",
    "    print(\"By Aquaman's trident!\")"
   ]
  },
  {
   "cell_type": "code",
   "execution_count": 125,
   "metadata": {
    "collapsed": false,
    "jupyter": {
     "outputs_hidden": false
    }
   },
   "outputs": [
    {
     "name": "stdout",
     "output_type": "stream",
     "text": [
      "By Aquaman's trident!\n"
     ]
    }
   ],
   "source": [
    "if False:\n",
    "    print(\"By Zeus's hammer!\")\n",
    "else:\n",
    "    print(\"By Aquaman's trident!\")"
   ]
  },
  {
   "cell_type": "markdown",
   "metadata": {},
   "source": [
    "There is also a one-liner version if you want to work with values:"
   ]
  },
  {
   "cell_type": "code",
   "execution_count": 126,
   "metadata": {
    "collapsed": false,
    "jupyter": {
     "outputs_hidden": false
    }
   },
   "outputs": [
    {
     "name": "stdout",
     "output_type": "stream",
     "text": [
      "By Zeus's hammer!\n"
     ]
    }
   ],
   "source": [
    "saying = \"By Zeus's hammer!\" if True else \"By Aquaman's trident!\"\n",
    "print(saying)"
   ]
  },
  {
   "cell_type": "code",
   "execution_count": 127,
   "metadata": {
    "collapsed": false,
    "jupyter": {
     "outputs_hidden": false
    }
   },
   "outputs": [
    {
     "name": "stdout",
     "output_type": "stream",
     "text": [
      "By Aquaman's trident!\n"
     ]
    }
   ],
   "source": [
    "saying = \"By Zeus's hammer!\" if False else \"By Aquaman's trident!\"\n",
    "print(saying)"
   ]
  },
  {
   "cell_type": "markdown",
   "metadata": {},
   "source": [
    "In Python, a multibranch conditional is created with `elif`:"
   ]
  },
  {
   "cell_type": "code",
   "execution_count": 128,
   "metadata": {
    "collapsed": false,
    "jupyter": {
     "outputs_hidden": false
    }
   },
   "outputs": [
    {
     "name": "stdout",
     "output_type": "stream",
     "text": [
      "By Zeus's hammer!\n"
     ]
    }
   ],
   "source": [
    "if True:\n",
    "    print(\"By Zeus's hammer!\")\n",
    "elif False:\n",
    "    print(\"By Aquaman's trident!\")\n",
    "else:\n",
    "    print(\"By Odin's spear!\")"
   ]
  },
  {
   "cell_type": "code",
   "execution_count": 129,
   "metadata": {
    "collapsed": false,
    "jupyter": {
     "outputs_hidden": false
    }
   },
   "outputs": [
    {
     "name": "stdout",
     "output_type": "stream",
     "text": [
      "By Odin's spear!\n"
     ]
    }
   ],
   "source": [
    "if False:\n",
    "    print(\"By Zeus's hammer!\")\n",
    "elif False:\n",
    "    print(\"By Aquaman's trident!\")\n",
    "else:\n",
    "    print(\"By Odin's spear!\")"
   ]
  },
  {
   "cell_type": "code",
   "execution_count": 130,
   "metadata": {
    "collapsed": false,
    "jupyter": {
     "outputs_hidden": false
    }
   },
   "outputs": [
    {
     "name": "stdout",
     "output_type": "stream",
     "text": [
      "By Aquaman's trident!\n"
     ]
    }
   ],
   "source": [
    "if False:\n",
    "    print(\"By Zeus's hammer!\")\n",
    "elif True:\n",
    "    print(\"By Aquaman's trident!\")\n",
    "else:\n",
    "    print(\"By Odin's spear!\")"
   ]
  },
  {
   "cell_type": "markdown",
   "metadata": {},
   "source": [
    "Of course, your tests should be more interesting that the Boolean literals above. It is worth noting at this juncture that the conjunction operator is `and` not `&`. Additionally, the inequality operators chain:"
   ]
  },
  {
   "cell_type": "code",
   "execution_count": 131,
   "metadata": {
    "collapsed": false,
    "jupyter": {
     "outputs_hidden": false
    }
   },
   "outputs": [
    {
     "name": "stdout",
     "output_type": "stream",
     "text": [
      "yes, it is in the range\n",
      "yes, they are both in the range\n"
     ]
    }
   ],
   "source": [
    "x = 10\n",
    "y = 20\n",
    "\n",
    "if 0 < x < 20:\n",
    "    print(\"yes, it is in the range\")\n",
    "\n",
    "if 0 < x < 20 and 0 < y < 100:\n",
    "    print(\"yes, they are both in the range\")"
   ]
  },
  {
   "cell_type": "markdown",
   "metadata": {},
   "source": [
    "It's worth looking at all the Python Boolean operators. There are some additional surprises there like when to use `not`.\n",
    "\n",
    "`while` comes in handy when you must conditionally evaluate some stream or collection:"
   ]
  },
  {
   "cell_type": "code",
   "execution_count": 132,
   "metadata": {
    "collapsed": false,
    "jupyter": {
     "outputs_hidden": false
    }
   },
   "outputs": [
    {
     "name": "stdout",
     "output_type": "stream",
     "text": [
      "abcdefghijk\n"
     ]
    }
   ],
   "source": [
    "xs = \"abcdefghijk\\nlmnopqrstuvwxyz\"\n",
    "result = \"\"\n",
    "x = xs[0]\n",
    "while x != \"\\n\":\n",
    "    result += x\n",
    "    xs = xs[1:]\n",
    "    x = xs[0]\n",
    "print(result)"
   ]
  },
  {
   "cell_type": "markdown",
   "metadata": {},
   "source": [
    "An interesting side note, Python treats the string `xs` as a List so we can use random access and slicing."
   ]
  },
  {
   "cell_type": "markdown",
   "metadata": {},
   "source": [
    "Until version 3.10, Python did not have a `switch` statement.\n",
    "It does now, although its name is `match`.\n",
    "And it is supercharged with *pattern matching*.\n",
    "\n",
    "The typical switch statement is much like an extended `if`, `elif`, `elif`,..., `else` statement except that they normally evaluate *values* (instead of *conditions*):"
   ]
  },
  {
   "cell_type": "code",
   "execution_count": 133,
   "metadata": {},
   "outputs": [
    {
     "data": {
      "text/plain": [
       "'3.10.4'"
      ]
     },
     "execution_count": 133,
     "metadata": {},
     "output_type": "execute_result"
    }
   ],
   "source": [
    "from platform import python_version\n",
    "python_version()"
   ]
  },
  {
   "cell_type": "code",
   "execution_count": 134,
   "metadata": {},
   "outputs": [
    {
     "name": "stdout",
     "output_type": "stream",
     "text": [
      "the value is 2\n"
     ]
    }
   ],
   "source": [
    "value = 2\n",
    "\n",
    "match value:\n",
    "    case 1:\n",
    "        print(\"the value is 1\")\n",
    "    case 2:\n",
    "        print(\"the value is 2\")\n",
    "    case 3:\n",
    "        print(\"the value is 3\")\n",
    "    case _:\n",
    "        print(\"Lots\")"
   ]
  },
  {
   "cell_type": "markdown",
   "metadata": {},
   "source": [
    "Python's `match` extends matching on values to matching on *patterns*:"
   ]
  },
  {
   "cell_type": "code",
   "execution_count": 135,
   "metadata": {},
   "outputs": [
    {
     "name": "stdout",
     "output_type": "stream",
     "text": [
      "a tuple! 2 and 4\n"
     ]
    }
   ],
   "source": [
    "value = (2, 4)\n",
    "\n",
    "match value:\n",
    "    case x, y:\n",
    "        print(f\"a tuple! {x} and {y}\")\n",
    "    case x:\n",
    "        print(f\"print just a scalar: {x}\")\n"
   ]
  },
  {
   "cell_type": "markdown",
   "metadata": {},
   "source": [
    "The patterns can be quite complex:"
   ]
  },
  {
   "cell_type": "code",
   "execution_count": 136,
   "metadata": {},
   "outputs": [
    {
     "name": "stdout",
     "output_type": "stream",
     "text": [
      "The first part is 3|4 and the second part is 3\n"
     ]
    }
   ],
   "source": [
    "value = (3, 3)\n",
    "\n",
    "match value:\n",
    "    case 1|2, x:\n",
    "        print(f\"The second part is {x}\")\n",
    "    case 3|4, x:\n",
    "        print(f\"The first part is 3|4 and the second part is {x}\")\n",
    "    case _:\n",
    "        print(\"Unexpected input\")"
   ]
  },
  {
   "cell_type": "markdown",
   "metadata": {},
   "source": [
    "You can find out more by reading [PEP 636](https://peps.python.org/pep-0636/)"
   ]
  },
  {
   "cell_type": "markdown",
   "metadata": {},
   "source": [
    "<a id='iteration'></a>\n",
    "### Iteration\n",
    "[index](#index)\n",
    "\n",
    "Looking narrowly at data flow, we find we often have collections of similar data records such as people, orders, items for sale, etc. And that we often need to perform operations on these collections. For example, if we need to re-invoice all past due orders, we will *iterate* over the orders, determine which ones have not been paid in the last 30 days and send an email indicating that they are over due.\n",
    "\n",
    "There are a number of ways to do this, even in Python. The simplest way is to use `for`:"
   ]
  },
  {
   "cell_type": "code",
   "execution_count": 137,
   "metadata": {
    "collapsed": false,
    "jupyter": {
     "outputs_hidden": false
    }
   },
   "outputs": [
    {
     "name": "stdout",
     "output_type": "stream",
     "text": [
      "1\n",
      "2\n",
      "3\n",
      "4\n"
     ]
    }
   ],
   "source": [
    "for x in [1, 2, 3, 4]:\n",
    "    print(x)"
   ]
  },
  {
   "cell_type": "markdown",
   "metadata": {},
   "source": [
    "`for` is the perfect loop to use at the impure boundaries of your program, for example, when you are reading data or writing data. The `for` loop already eschews the problems associated with iterating using indices as JavaScript or old fashioned Java:\n",
    "\n",
    "```\n",
    "xs = [1, 2, 3, 4];\n",
    "for (int i = 0; i < length( xs); i++) {\n",
    "    println( xs[ i]);\n",
    "}\n",
    "```\n",
    "\n",
    "The *un*-Pythonic way most people try to do this is:"
   ]
  },
  {
   "cell_type": "code",
   "execution_count": 138,
   "metadata": {},
   "outputs": [
    {
     "name": "stdout",
     "output_type": "stream",
     "text": [
      "1\n",
      "2\n",
      "3\n",
      "4\n"
     ]
    }
   ],
   "source": [
    "xs  = [1, 2, 3, 4]\n",
    "for i in range(0, len(xs)):\n",
    "    print(xs[i])"
   ]
  },
  {
   "cell_type": "markdown",
   "metadata": {},
   "source": [
    "**Don't do this**. Nothing gives you away as a Python newbie faster than forming your loops like the above.\n",
    "You don't want to be a Python newbie, do you?\n",
    "I didn't think so."
   ]
  },
  {
   "cell_type": "markdown",
   "metadata": {},
   "source": [
    "However, there are some algorithms and some situations that require actual knowledge of the indices. For example, suppose I need to change a single (or few) value at a particular index? In that case, you will need to do indexing (the subtle difference here is changing a particular value versus all the values).\n",
    "\n",
    "If you need to change a value or values, then just use the index. \n",
    "If you have an algorithm that requires working with indices over the entire list, this can be achieved using `enumerate`. While not particularly functional, since we are mostly \"stuck\" with mutable data structures, we should use what Python provides:"
   ]
  },
  {
   "cell_type": "code",
   "execution_count": 139,
   "metadata": {
    "collapsed": false,
    "jupyter": {
     "outputs_hidden": false
    }
   },
   "outputs": [
    {
     "name": "stdout",
     "output_type": "stream",
     "text": [
      "0 a\n",
      "1 b\n",
      "2 c\n",
      "3 d\n"
     ]
    }
   ],
   "source": [
    "for i, x in enumerate([\"a\", \"b\", \"c\", \"d\"]):\n",
    "    print(i, x)"
   ]
  },
  {
   "cell_type": "markdown",
   "metadata": {},
   "source": [
    "An equally common operation is to apply a function to each element of a List, creating a new List:"
   ]
  },
  {
   "cell_type": "code",
   "execution_count": 140,
   "metadata": {
    "collapsed": false,
    "jupyter": {
     "outputs_hidden": false
    }
   },
   "outputs": [
    {
     "name": "stdout",
     "output_type": "stream",
     "text": [
      "[1, 4, 9, 16]\n"
     ]
    }
   ],
   "source": [
    "def process(x):\n",
    "    return x ** 2\n",
    "\n",
    "xs = [1, 2, 3, 4]\n",
    "result = []\n",
    "for x in xs:\n",
    "    result.append(process(x))\n",
    "print(result)"
   ]
  },
  {
   "cell_type": "markdown",
   "metadata": {},
   "source": [
    "It is more Pythonic to use a List Comprehension:"
   ]
  },
  {
   "cell_type": "code",
   "execution_count": 141,
   "metadata": {
    "collapsed": false,
    "jupyter": {
     "outputs_hidden": false
    }
   },
   "outputs": [
    {
     "name": "stdout",
     "output_type": "stream",
     "text": [
      "[1, 4, 9, 16]\n"
     ]
    }
   ],
   "source": [
    "result = [process(x) for x in xs]\n",
    "print(result)"
   ]
  },
  {
   "cell_type": "markdown",
   "metadata": {},
   "source": [
    "In functional programming, this operation is called `map`. Python has a `map` function as well. It takes a function and a List as arguments:"
   ]
  },
  {
   "cell_type": "code",
   "execution_count": 142,
   "metadata": {
    "collapsed": false,
    "jupyter": {
     "outputs_hidden": false
    }
   },
   "outputs": [
    {
     "name": "stdout",
     "output_type": "stream",
     "text": [
      "<map object at 0x104970e20>\n"
     ]
    }
   ],
   "source": [
    "result = map(process, xs)\n",
    "print(result)"
   ]
  },
  {
   "cell_type": "markdown",
   "metadata": {},
   "source": [
    "Sometimes we want to operate on a subset of the List, xs. This operation is called `filter` and is built into the List Comprehension. The Pythonic Way is:"
   ]
  },
  {
   "cell_type": "code",
   "execution_count": 143,
   "metadata": {
    "collapsed": false,
    "jupyter": {
     "outputs_hidden": false
    }
   },
   "outputs": [
    {
     "name": "stdout",
     "output_type": "stream",
     "text": [
      "[4, 16]\n"
     ]
    }
   ],
   "source": [
    "result = [process(x) for x in xs if x % 2 == 0]\n",
    "print(result)"
   ]
  },
  {
   "cell_type": "markdown",
   "metadata": {},
   "source": [
    "The functional way is to use `filter`. We'll use a `lambda` for our predicate function:"
   ]
  },
  {
   "cell_type": "code",
   "execution_count": 144,
   "metadata": {
    "collapsed": false,
    "jupyter": {
     "outputs_hidden": false
    }
   },
   "outputs": [
    {
     "name": "stdout",
     "output_type": "stream",
     "text": [
      "<map object at 0x1049710c0>\n"
     ]
    }
   ],
   "source": [
    "result = map(process, filter(lambda x: x % 2 == 0, xs))\n",
    "print(result)"
   ]
  },
  {
   "cell_type": "markdown",
   "metadata": {},
   "source": [
    "The final operation of functional programming's \"Holy Trinity\" is `reduce`. There is no Pythonic reduce because reduce results in a single value not a List (although the single value, confusingly enough, can be a List). `reduce` takes a function of two arguments, an *accumulator* and a single value, a list and optionally a starting accumulator value and returns the result."
   ]
  },
  {
   "cell_type": "code",
   "execution_count": 145,
   "metadata": {},
   "outputs": [],
   "source": [
    "from functools import reduce"
   ]
  },
  {
   "cell_type": "code",
   "execution_count": 146,
   "metadata": {
    "collapsed": false,
    "jupyter": {
     "outputs_hidden": false
    }
   },
   "outputs": [
    {
     "name": "stdout",
     "output_type": "stream",
     "text": [
      "10\n",
      "110\n",
      "20\n"
     ]
    }
   ],
   "source": [
    "result = reduce(lambda acc, x: acc + x, xs)\n",
    "print(result)\n",
    "\n",
    "result = reduce(lambda acc, x: acc + x, xs, 100)\n",
    "print(result)\n",
    "\n",
    "result = reduce(lambda acc, x: acc + x, map(process, filter(lambda x: x % 2 == 0, xs)))\n",
    "print(result)"
   ]
  },
  {
   "cell_type": "markdown",
   "metadata": {},
   "source": [
    "The first execution over the values of `xs` is essentialy 1 + 2 = 3, 3 + 3 = 6, 6 + 4 = 10. The second execution starts with 100 and goes 100 + 1 = 101, 101 + 2 = 103, 103 + 3 = 106, 106 + 4 = 110. The final execution goes 4 + 16 = 20.\n",
    "\n",
    "<div style=\"border: 1px solid black; padding: 10px 10px 10px 10px; margin-top: 10px;\">\n",
    "<p><strong>Exercise</strong></p>\n",
    "<p>Write <tt>map</tt> as <tt>my_map</tt> and <tt>filter</tt> as <tt>my_filter</tt> using <tt>reduce</tt></p>\n",
    "</div>\n",
    "\n",
    "Again, don't feel a particular need to play Code Golf(tm).\n",
    "Computers don't care!\n",
    "Code is for *people to read and edit*."
   ]
  },
  {
   "cell_type": "markdown",
   "metadata": {},
   "source": [
    "#### Recursion\n",
    "\n",
    "Recursion is often a major part of functional programming. \n",
    "It also has a huge presence in Artificial Intelligence algorithms.\n",
    "\n",
    "Unfortunately, it is not particularly emphasized in most OOP languages and so the runtimes for those languages often have limited support for recursion or are unable to optimize recursive calls. What is recursion?\n",
    "\n",
    "Recursion is when a function calls itself. \n",
    "This seems kind of daft. \n",
    "Why would a function call itself? \n",
    "It turns out that recursion is often a natural way of expressing certain kinds of computations.\n",
    "These computations include:\n",
    "1. computations that consiste of compute and combine operations.\n",
    "2. computations that are self similar. The computation is the same at every level of some hierarchy.\n",
    "\n",
    "The key parts of any recursive algorithm are:\n",
    "1. The base case(s): when do I know to stop?\n",
    "2. The inductive step: a computation that both does some work but, more importantly, moves us in the direction of a base case.\n",
    "\n",
    "Without both parts, a recursive algorithm will just make your computer get hot.\n",
    "\n",
    "Let's look at an example. \n",
    "The function `map` takes a List and a function and applies the function to each element of the List, creating a new List in the process.\n",
    "\n",
    "We'll start with an *iterative* version:"
   ]
  },
  {
   "cell_type": "code",
   "execution_count": 147,
   "metadata": {},
   "outputs": [],
   "source": [
    "def my_iterative_map(f, xs):\n",
    "    result = []\n",
    "    for x in xs:\n",
    "        result.append(f( x))\n",
    "    return result"
   ]
  },
  {
   "cell_type": "code",
   "execution_count": 148,
   "metadata": {
    "collapsed": false,
    "jupyter": {
     "outputs_hidden": false
    }
   },
   "outputs": [
    {
     "name": "stdout",
     "output_type": "stream",
     "text": [
      "[10, 20, 30, 40, 50]\n"
     ]
    }
   ],
   "source": [
    "def times10(x):\n",
    "    return x * 10\n",
    "\n",
    "print(my_iterative_map(times10, [1, 2, 3, 4, 5]))"
   ]
  },
  {
   "cell_type": "markdown",
   "metadata": {},
   "source": [
    "Easy enough. What would a recursive version look like?\n",
    "\n",
    "In Python, function overloading is not permitted (you cannot write functions with the same name but differ only in terms of numbers of arguments). Because of this, our actual recursive function will be defined and used inside the function called by the programmer:"
   ]
  },
  {
   "cell_type": "code",
   "execution_count": 149,
   "metadata": {},
   "outputs": [],
   "source": [
    "def my_recursive_map(f, xs):\n",
    "    def recursive_map(acc, remainder):\n",
    "        if len(remainder) == 0: # base case\n",
    "            return acc\n",
    "        acc.append(f(remainder[0])) # inductive step\n",
    "        return recursive_map(acc, remainder[1:]) # reduce the chunk of work to do by 1.\n",
    "    return recursive_map([], xs)"
   ]
  },
  {
   "cell_type": "code",
   "execution_count": 150,
   "metadata": {
    "collapsed": false,
    "jupyter": {
     "outputs_hidden": false
    }
   },
   "outputs": [
    {
     "name": "stdout",
     "output_type": "stream",
     "text": [
      "[10, 20, 30, 40, 50]\n"
     ]
    }
   ],
   "source": [
    "print(my_recursive_map(times10, [1, 2, 3, 4, 5]))"
   ]
  },
  {
   "cell_type": "markdown",
   "metadata": {},
   "source": [
    "As mentioned, a recursive implementation is very much similar to an inductive proof. There is a *base case*...when there is no more work to be done and an *inductive step* when one step in the calculate is performed. Note that because the `recursive_map` function is defined inside the `my_recursive_map` function, the former is a closure over the value of `f` which need not be an argument to `recursive_map`.\n",
    "\n",
    "There are a number of ways in which recursion is a bit clumsier in Python:\n",
    "\n",
    "1. No function overloading or destructuring.\n",
    "2. Not everything is an expression.\n",
    "\n",
    "In many actual functional programming languages, the implementation would look something closer to this:\n",
    "\n",
    "```python\n",
    "def my_recursive_map(f, xs):\n",
    "  return my_recursive_map(f, xs, [])\n",
    " \n",
    "def my_recursive_map(f, xs, acc):\n",
    "  if len( xs) == 0:\n",
    "    return acc\n",
    "  return my_recursive_map(f, xs[1:], acc.append(f(xs[0]))\n",
    "```\n",
    "\n",
    "Recursion is a whole 'nother topic as they say. Any recursive algorithm can be re-written as an iterative algorithm and vice versa. Additionally, many such algorithms already conform to some well-known pattern such as `map`, `reduce` or `filter` so you are well advised to use one of those.\n",
    "\n",
    "However, that might not always be the case and there are some AI algorithms are are best and naturally written as either recursive or *co-recursive* functions (`f` calls `g` which calls `f`...etc). These include alpha-beta prunining in Adversarial Search as well as Decision Tree induction.\n",
    "\n",
    "Therefore you should at least be aware that Python has a recursion depth limit of 1000 by default. If we tried to run the `my_recursive_map` on a list that was more than 1000 elements long, we would get an exception. This can be fixed with the following code:\n",
    "\n",
    "```python\n",
    "import sys\n",
    "\n",
    "sys.setrecursionlimit(1500)\n",
    "```\n",
    "\n",
    "or to whatever limit you require. You should not set it to be more than you need, however."
   ]
  },
  {
   "cell_type": "markdown",
   "metadata": {},
   "source": [
    "If you don't want the Pythonistas to make fun of you, you should stick to the regular iteration or List comprehensions.\n",
    "They're incredibly powerful.\n",
    "\n",
    "You should probably not ever start with a recursive solution, unless you know the problem has a natural recursive solution (it fits a pattern you've seen before) or the pseudocode explicitly calls for it.\n",
    "Iteration is much easier to reason about and debug.\n",
    "\n",
    "Functional programming languages typically have a whole host of other higher order functions for operating on Lists. Some of them are irrelevant in Python. For example, `first` is just `xs[ 0]` and `rest` is just `xs[1:]`. `last` is `xs[-1]` and `butlast` is `xs[0:-1]`, `take` *n* is `xs[0:n]`, `drop` *n* is `xs[n:]`:"
   ]
  },
  {
   "cell_type": "code",
   "execution_count": 151,
   "metadata": {
    "collapsed": false,
    "jupyter": {
     "outputs_hidden": false
    }
   },
   "outputs": [
    {
     "name": "stdout",
     "output_type": "stream",
     "text": [
      "first( xs) = 1\n",
      "rest( xs) = [2, 3, 4]\n",
      "last( xs) = 4\n",
      "butlast( xs) = [1, 2, 3]\n",
      "take( 2, xs) = [1, 2]\n",
      "drop( 2, xs) = [3, 4]\n"
     ]
    }
   ],
   "source": [
    "xs = [1, 2, 3, 4]\n",
    "print(\"first( xs) =\", xs[0])\n",
    "print(\"rest( xs) =\", xs[1:])\n",
    "print(\"last( xs) =\", xs[ -1])\n",
    "print(\"butlast( xs) =\", xs[0:-1])\n",
    "print(\"take( 2, xs) =\", xs[0:2])\n",
    "print(\"drop( 2, xs) =\", xs[2:])"
   ]
  },
  {
   "cell_type": "markdown",
   "metadata": {},
   "source": [
    "<a id='coding_convention'></a>\n",
    "## Coding Convention\n",
    "[index](#index)\n",
    "\n",
    "The dataflow style of programming required in this class, we use basic data structures (Lists, Dicts, Tuples, NamedTuples, Sets) for our data/state and functions to operate on that data.\n",
    "This makes functions the most important element of our code.\n",
    "Additionally, the programming takes place in an academic setting where the goal is not merely implementation but also understanding.\n",
    "You will be required to demonstrate that understanding in your programming assignments.\n",
    "Finally, all code is submitted in the form of a Jupyter notebook.\n",
    "This gives us more options for documentation and discussion.\n",
    "Therefore, every function **must** have the following:\n",
    "\n",
    "1. Markdown documentation (Markdown cell)\n",
    "2. Implementation with Type Hints. (Code cell)\n",
    "3. At least three (3) unit tests in the form of assertions (`assert`) (Code cell)\n",
    "\n",
    "<a id=\"markdown_documentation\"></a>\n",
    "### Markdown Documentation\n",
    "[index](#index)\n",
    "\n",
    "You should use the following Markdown template for your documentation for **every single function** in your programming assignments:\n",
    "\n",
    "```\n",
    "<a id=\"function_name\"></a>\n",
    "## function_name\n",
    "\n",
    "Description of what the function does (in prose) and the significance of the function if it is part of the actual algorithm (and not just a helper function). **Uses**: (links to functions used). **Used by**: (links to functions used by).\n",
    "\n",
    "* **param1**: documentation of parameter and type.\n",
    "* **param2**: documentation of parameter and type.\n",
    "* (add more as necessary)\n",
    "\n",
    "**returns**: documentation of the returned value and type.\n",
    "\n",
    "```\n",
    "\n",
    "There are several important parts here.\n",
    "First, for the actual description, you must provide *two* things:\n",
    "\n",
    "1. An explanation of the code.\n",
    "2. Place the code in the context of the algorithm and theory.\n",
    "\n",
    "Now, for \"pure\" helper functions, there won't be a #2.\n",
    "However, for the main functions of an algorithm, they have a part to play and you must describe their role in that play.\n",
    "\n",
    "Second, you must add the Uses/Used by lists but they refer *only* to the functions you implement.\n",
    "You do not need to refer to library functions.\n",
    "\n",
    "If you don't know Markdown syntax, here is a [Cheat Sheet](https://github.com/adam-p/markdown-here/wiki/Markdown-Cheatsheet).\n",
    "Spacing is important.\n",
    "Your documentation should not look like a ransom note.\n",
    "What does `type` mean?\n",
    "That leads us to type hints.\n",
    "\n",
    "<a id=\"type_hints\"></a>\n",
    "### Type Hints\n",
    "[index](#index)\n",
    "\n",
    "A few versions back, Python added type hints.\n",
    "The interpret does not check them (you can check them separately) but they give good hints at the data shapes of variables.\n",
    "How many times have you seen something like this in Python?\n",
    "\n",
    "```python\n",
    "def calculate_salary(name, position, start_date):\n",
    "    pass\n",
    "```\n",
    "\n",
    "Great.\n",
    "What does `position` look like? Is it a string? a tuple?\n",
    "What does `start_date` look like?\n",
    "Documentation might be of some help but type hints help more:\n",
    "\n",
    "```python\n",
    "def calculate_salary(name: str, position: str, start_date: datetime) -> int:\n",
    "    pass\n",
    "```\n",
    "\n",
    "Read more about [Type Hints](https://docs.python.org/3/library/typing.html) if you don't already use them.\n"
   ]
  },
  {
   "cell_type": "markdown",
   "metadata": {},
   "source": [
    "<a id='building_programs'></a>\n",
    "## Building Programs\n",
    "[index](#index)\n",
    "\n",
    "We're now in a position to actually solve a problem using Python in a functional, dataflow, literate style. \n",
    "The main tenets are:\n",
    "\n",
    "1. The boundaries of the program are composed of impure functions. These are the functions that talk to the database or print output.\n",
    "2. The core of the program is composed of pure functions. In a *Dataflow* model, they operate on collections of collections of primitive data types using higher order functions. They are easily testable because they always return a value.\n",
    "3. The pure functions focus on operations in the domain language of the problem being solved and thus tend to be a domain specific language. This is often expressed as a declarative v. imperative approach. Arrange your program so that it is composed of functions that saw *what* to do, not *how* to do it.\n",
    "\n",
    "<a id='race_cars'></a>\n",
    "### Race Cars\n",
    "[index](#index)\n",
    "\n",
    "We're going to start with a simple example that neatly expresses the differences between an imperative and declarative program. This example is taking from [A practical introduction to functional programming](https://maryrosecook.com/blog/post/a-practical-introduction-to-functional-programming). It involves racing cars. I have made a few modifications to the declarative version to make it more functional.\n",
    "\n",
    "Basically, each car is a `-` and there are three of them. At each time step, we randomly move the cars. The car that goes the furthest in 5 time steps is the winner. The program below is imperative, it describes \"how\". It includes comments to indicate the semantics of various parts of the code:"
   ]
  },
  {
   "cell_type": "code",
   "execution_count": 152,
   "metadata": {
    "collapsed": false,
    "jupyter": {
     "outputs_hidden": false
    }
   },
   "outputs": [],
   "source": [
    "from random import random"
   ]
  },
  {
   "cell_type": "code",
   "execution_count": 153,
   "metadata": {},
   "outputs": [
    {
     "name": "stdout",
     "output_type": "stream",
     "text": [
      "\n",
      "t= 1\n",
      "-\n",
      "-\n",
      "-\n",
      "==========\n",
      "\n",
      "t= 2\n",
      "--\n",
      "-\n",
      "-\n",
      "==========\n",
      "\n",
      "t= 3\n",
      "--\n",
      "-\n",
      "--\n",
      "==========\n",
      "\n",
      "t= 4\n",
      "--\n",
      "--\n",
      "--\n",
      "==========\n",
      "\n",
      "t= 5\n",
      "--\n",
      "---\n",
      "--\n",
      "==========\n",
      "The winner is car #1\n"
     ]
    }
   ],
   "source": [
    "from random import randint\n",
    "\n",
    "TIME = 5\n",
    "car_positions = [1, 1, 1]\n",
    "\n",
    "for t in range(1, TIME + 1): # range is exclusive\n",
    "    print('')\n",
    "    print('t=', t)\n",
    "\n",
    "    for car in car_positions:\n",
    "        print('-' * car)\n",
    "    print(\"==========\")\n",
    "    # move a random car\n",
    "    moved_car = randint(0, len(car_positions)-1) # randint is inclusive\n",
    "    car_positions[moved_car] += 1\n",
    "\n",
    "print(f\"The winner is car #{car_positions.index(max(car_positions))+1}\")"
   ]
  },
  {
   "cell_type": "markdown",
   "metadata": {},
   "source": [
    "Let us write a declarative version of the same program following our guidelines that emphasize\n",
    "\n",
    "* functional programming - we solve a problem by breaking it up into small pieces, functions, that are testable.\n",
    "* dataflow - the functions take formal parameters/arguments and always return values, unless they perform IO, even if they are modifying their arguments.\n",
    "* literate - we fully document the functions and explain what they are doing.\n",
    "* unit-testing - all functions are unit tested with at least three (3) assertions. \n"
   ]
  },
  {
   "cell_type": "markdown",
   "metadata": {},
   "source": [
    "<a id=\"move_car_v1\"></a>\n",
    "## move_car_v1\n",
    "\n",
    "`move_car` takes a list of car positions and randomly increases the position of a single car by one (1).\n",
    "The car is picked uniformly at random.\n",
    "\n",
    "* **car_positions**: list[int] - a List of positive integer car positions. There should be at least one car.\n",
    "\n",
    "**returns**: list[int] - the new List of car positions. At least one car has changed position by 1.\n"
   ]
  },
  {
   "cell_type": "code",
   "execution_count": 154,
   "metadata": {
    "collapsed": false,
    "jupyter": {
     "outputs_hidden": false
    }
   },
   "outputs": [],
   "source": [
    "def move_car_v1(car_positions: list[int]) -> list[int]:\n",
    "    _car_positions = deepcopy(car_positions)\n",
    "    moved_car = randint(0, len(_car_positions)-1)\n",
    "    _car_positions[moved_car] += 1\n",
    "    return _car_positions"
   ]
  },
  {
   "cell_type": "code",
   "execution_count": 155,
   "metadata": {},
   "outputs": [],
   "source": [
    "start = [1, 2, 3]\n",
    "expected = 1\n",
    "assert sum(move_car_v1(start)) - sum(start) == expected"
   ]
  },
  {
   "cell_type": "markdown",
   "metadata": {},
   "source": [
    "The first thing to notice about `move_car` is that we make a deepcopy of the formal parameter.\n",
    "This isn't strictly necessary but it improves testability.\n",
    "There may be cases where it would be required so it's worth having an example.\n",
    "The second thing to notice is that this function isn't easy to test because of random element.\n",
    "What if it only ever increases the position of the first car in the list?\n",
    "A better way of doing this might be to include the index to change as a parameter:\n"
   ]
  },
  {
   "cell_type": "markdown",
   "metadata": {},
   "source": [
    "<a id=\"move_car\"></a>\n",
    "## move_car\n",
    "\n",
    "`move_car` takes a list of car positions and a car number to move.\n",
    "It increases the position of the car at `car_to_move` minus 1. **Used by**: [run_step_of_race](#run_step_of_race)\n",
    "\n",
    "* **car_positions**: list[int] - a List of positive integer car positions. There should be at least one car.\n",
    "* **car_to_move**: int - the car number to move. The maximum value of car_to_move should not exceed the length of the list.\n",
    "\n",
    "**returns**: list[int] - the new List of car positions. At least one car has changed position by 1."
   ]
  },
  {
   "cell_type": "code",
   "execution_count": 156,
   "metadata": {},
   "outputs": [],
   "source": [
    "def move_car(car_positions:list[int], car_to_move: int) -> list[int]:\n",
    "    _car_positions = deepcopy(car_positions)\n",
    "    _car_positions[car_to_move-1] +=1\n",
    "    return _car_positions"
   ]
  },
  {
   "cell_type": "markdown",
   "metadata": {},
   "source": [
    "This certainly makes the function easier to test:"
   ]
  },
  {
   "cell_type": "code",
   "execution_count": 157,
   "metadata": {},
   "outputs": [],
   "source": [
    "start = [1, 2, 2]\n",
    "actual = move_car(start, 1)\n",
    "assert actual == [2, 2, 2]\n",
    "actual = move_car(start, 2)\n",
    "assert actual == [1, 3, 2]\n",
    "actual = move_car(start, 3)\n",
    "assert actual == [1, 2, 3]"
   ]
  },
  {
   "cell_type": "markdown",
   "metadata": {},
   "source": [
    "Again, for this particular function, this is probably overkill but there are cases where you will want to move the randomness to the calling function.\n",
    "If we needed more random values, we could send them down:\n",
    "\n",
    "```python\n",
    "def some_function_with_randos(real_work, random_values):\n",
    "    # do real work and use random values\n",
    "\n",
    "inputs = [1, 2, 3]\n",
    "randos = [0.73, 0.42, 0.23]\n",
    "actual = some_function_with_randos(inputs, randos)\n",
    "expected = [1, 1, 2]\n",
    "assert actual == expected\n",
    "```\n",
    "\n",
    "You should always use small, focused test cases for which you have calculated the correct answers.\n",
    "\n",
    "But what if you need even more random values or a random number of random values?\n",
    "We can always pass in the random function:\n",
    "\n",
    "```python\n",
    "def some_function_with_randos(real_work, random_fn):\n",
    "    # do real work and use random values\n",
    "```\n",
    "\n",
    "For testing, we can make our own function that provides known values, which will have known results.\n",
    "\n",
    "```python\n",
    "def _rand_test(values):\n",
    "    def randos():\n",
    "        value = values.pop(0)\n",
    "        return value\n",
    "    return randos\n",
    "\n",
    "rand_fn = _rand_test([0.73, 0.42, 0.23])\n",
    "inputs = [1, 2, 3]\n",
    "actual = some_function_with_randos(inputs, rand_fn)\n",
    "expected = [1, 1, 3]\n",
    "assert actual == expected\n",
    "```"
   ]
  },
  {
   "cell_type": "markdown",
   "metadata": {},
   "source": [
    "We do not need to test out-of-bounds values.\n",
    "The documentation specifies what the appropriate values should be and since we are writing and using our own code, the expectation is that we will not call functions with incorrect values.\n",
    "\n",
    "To move a random car, we simply call the function as follows:"
   ]
  },
  {
   "cell_type": "code",
   "execution_count": 158,
   "metadata": {},
   "outputs": [
    {
     "data": {
      "text/plain": [
       "[2, 2, 3]"
      ]
     },
     "execution_count": 158,
     "metadata": {},
     "output_type": "execute_result"
    }
   ],
   "source": [
    "start = [1, 2, 3]\n",
    "move_car(start, randint(1, len(start)))"
   ]
  },
  {
   "cell_type": "markdown",
   "metadata": {},
   "source": [
    "In cases like these, it is tempting to use test cases like `[1, 1, 1]` or 0 or other trivial values (like 0, 1, or None).\n",
    "Resist the temptation.\n",
    "Do not use symmetric, trivial or repeated values for testing.\n",
    "Sometimes 0 is the right value and sometimes 0 is an error.\n",
    "Sometimes 1 will innocuously propagate an error.\n",
    "You don't have any way of knowing which.\n",
    "\n",
    "In general, you should test the boundaries of your functions over the expected output.\n",
    "There should be at least three (3) assertions for every function and more if necessary to properly test the space of format arguments."
   ]
  },
  {
   "cell_type": "markdown",
   "metadata": {},
   "source": [
    "<a id=\"run_step_of_race\"></a>\n",
    "## run_step_of_race\n",
    "\n",
    "Executes one step of the race decrementing time argument and moving the indicated car. **Uses**: [move_car](#move_car) **Used by:** [run_car_race](#run_car_race).\n",
    "\n",
    "\n",
    "* **time**: int - the current time step.\n",
    "* **car_positions**: list[int] - the list of car positions.\n",
    "* **car_to_move**: the car number to move, 1 to number of cars.\n",
    "\n",
    "**returns**: tuple[int, list[int]] - a tuple of the new time step and the new positions of the cars.\n"
   ]
  },
  {
   "cell_type": "code",
   "execution_count": 159,
   "metadata": {},
   "outputs": [],
   "source": [
    "def run_step_of_race(time, car_positions, car_to_move):\n",
    "    time -= 1\n",
    "    car_positions = move_car(car_positions, car_to_move)\n",
    "    return time, car_positions\n"
   ]
  },
  {
   "cell_type": "markdown",
   "metadata": {},
   "source": [
    "<a id=\"car_position_display\"></a>\n",
    "## car_position_display\n",
    "\n",
    "Taking a car position, return a representation of the car's position as a string of hyphens. **Used by:** [race_display](#race_display)\n",
    "\n",
    "* **car_position**: int - the car's position on the race track.\n",
    "\n",
    "**returns**: str - a number of hyphens representing the car's position.\n"
   ]
  },
  {
   "cell_type": "code",
   "execution_count": 160,
   "metadata": {},
   "outputs": [],
   "source": [
    "def car_position_display(car_position: int) -> str:\n",
    "    return \"-\" * car_position\n"
   ]
  },
  {
   "cell_type": "code",
   "execution_count": 161,
   "metadata": {},
   "outputs": [],
   "source": [
    "assert car_position_display(0) == ''\n",
    "assert car_position_display(1) == '-'\n",
    "assert car_position_display(10) == '----------'"
   ]
  },
  {
   "cell_type": "markdown",
   "metadata": {},
   "source": [
    "In this case (`car_position_display`) and in the next (`all_car_positions_display`), we are deplaying actual printing to as late as possible.\n",
    "Once we switch to printing, it's much more difficult to test."
   ]
  },
  {
   "cell_type": "markdown",
   "metadata": {},
   "source": [
    "<a id=\"race_display\"></a>\n",
    "## race_display \n",
    "\n",
    "Create a display for the current time step and the positions of all the cars. **Uses:** [car_position_display](#car_position_display). **Used by:** [run_car_race](#run_car_race).\n",
    "\n",
    "* **time**: int - the current time step.\n",
    "* **car_positions**: list[int] - a list of car positions.\n",
    "\n",
    "**returns**: list[str] - a string representation of the current time step and the car positions."
   ]
  },
  {
   "cell_type": "code",
   "execution_count": 162,
   "metadata": {},
   "outputs": [],
   "source": [
    "def race_display(time: int, car_positions: list[int]) -> list[str]:\n",
    "    result = [f\"t={time}\"]\n",
    "    for car in car_positions:\n",
    "        result.append(car_position_display(car))\n",
    "    return result"
   ]
  },
  {
   "cell_type": "code",
   "execution_count": 163,
   "metadata": {},
   "outputs": [],
   "source": [
    "assert race_display(1, [1, 2, 3]) == [\"t=1\", \"-\", \"--\", \"---\"]"
   ]
  },
  {
   "cell_type": "markdown",
   "metadata": {},
   "source": [
    "## declare_winner \n",
    "\n",
    "`declare_winner` calculates the car number that travels the farthest (ties go to the first car) and returns a string, \"The winner is car #n\", declaring the winning car number. **Used by:** [run_car_race](#run_car_race)\n",
    "\n",
    "* **car_positions**: list[int] - the integer positions of the cars.\n",
    "* ...\n",
    "\n",
    "**returns**: str - a string declaring the winning car number"
   ]
  },
  {
   "cell_type": "code",
   "execution_count": 164,
   "metadata": {},
   "outputs": [],
   "source": [
    "def declare_winner(car_positions: list[int]) -> str:\n",
    "    car_index = car_positions.index(max(car_positions))\n",
    "    return f\"The winner is car #{car_index+1}\""
   ]
  },
  {
   "cell_type": "code",
   "execution_count": 165,
   "metadata": {},
   "outputs": [],
   "source": [
    "assert declare_winner([1, 2, 3]) == \"The winner is car #3\"\n",
    "assert declare_winner([1, 2, 2]) == \"The winner is car #2\""
   ]
  },
  {
   "cell_type": "markdown",
   "metadata": {},
   "source": [
    "<a id=\"run_car_race\"></a>\n",
    "## run_car_race\n",
    "\n",
    "This function runs a car race of length `length` for `num_cars` cars. **Uses**: [run_step_of_race](#run_step_of_race), [race_display](#race_display), [declare_winner](#declare_winner), **Used by**: None.\n",
    "\n",
    "* **num_cars**: int - the number of cars in the race.\n",
    "* **length**: int - the length of the race as time steps.\n",
    "\n",
    "**returns**: None"
   ]
  },
  {
   "cell_type": "code",
   "execution_count": 166,
   "metadata": {},
   "outputs": [],
   "source": [
    "def run_car_race(num_cars: int, length: int) -> None:\n",
    "    time = length\n",
    "    car_positions = [0] * num_cars\n",
    "\n",
    "    while time:\n",
    "        time, car_positions = run_step_of_race(time, car_positions, randint(1, len(car_positions)))\n",
    "        display = race_display(time, car_positions)\n",
    "        for line in display:\n",
    "            print(line)\n",
    "        print(\"==========\")\n",
    "    print(declare_winner(car_positions))"
   ]
  },
  {
   "cell_type": "code",
   "execution_count": 167,
   "metadata": {},
   "outputs": [
    {
     "name": "stdout",
     "output_type": "stream",
     "text": [
      "t=4\n",
      "-\n",
      "\n",
      "\n",
      "==========\n",
      "t=3\n",
      "--\n",
      "\n",
      "\n",
      "==========\n",
      "t=2\n",
      "--\n",
      "\n",
      "-\n",
      "==========\n",
      "t=1\n",
      "---\n",
      "\n",
      "-\n",
      "==========\n",
      "t=0\n",
      "---\n",
      "-\n",
      "-\n",
      "==========\n",
      "The winner is car #1\n"
     ]
    }
   ],
   "source": [
    "run_car_race(3, 5)"
   ]
  },
  {
   "cell_type": "markdown",
   "metadata": {},
   "source": [
    "We can see a few differences here. We created small functions with semantic meanings that did one job. \n",
    "This is the \"DSL\" for racing cars. \n",
    "The program is built by arranging these functions, essentially solving the problem in terms of the DSL.\n",
    "Like all such example programs, the juice doesn't seem worth the squeeze.\n",
    "However, the patterns are what are important, not the specific program.\n",
    "\n",
    "Let's run it one more time, with 4 cars and for 10 time steps:"
   ]
  },
  {
   "cell_type": "code",
   "execution_count": 168,
   "metadata": {},
   "outputs": [
    {
     "name": "stdout",
     "output_type": "stream",
     "text": [
      "t=9\n",
      "\n",
      "\n",
      "-\n",
      "\n",
      "==========\n",
      "t=8\n",
      "\n",
      "\n",
      "-\n",
      "-\n",
      "==========\n",
      "t=7\n",
      "-\n",
      "\n",
      "-\n",
      "-\n",
      "==========\n",
      "t=6\n",
      "-\n",
      "\n",
      "-\n",
      "--\n",
      "==========\n",
      "t=5\n",
      "-\n",
      "\n",
      "-\n",
      "---\n",
      "==========\n",
      "t=4\n",
      "-\n",
      "\n",
      "--\n",
      "---\n",
      "==========\n",
      "t=3\n",
      "--\n",
      "\n",
      "--\n",
      "---\n",
      "==========\n",
      "t=2\n",
      "---\n",
      "\n",
      "--\n",
      "---\n",
      "==========\n",
      "t=1\n",
      "---\n",
      "-\n",
      "--\n",
      "---\n",
      "==========\n",
      "t=0\n",
      "----\n",
      "-\n",
      "--\n",
      "---\n",
      "==========\n",
      "The winner is car #1\n"
     ]
    }
   ],
   "source": [
    "run_car_race(4, 10)"
   ]
  },
  {
   "cell_type": "markdown",
   "metadata": {},
   "source": [
    "We're going to expand on this idea by solving a problem from [Programming Challenge](https://uva.onlinejudge.org/index.php). I much prefer the Programming Challenges problems to the pure mathematics problems often found for learning programming because the challenges often bear some resemblance to real life problems whereas the mathematical problems often require some domain knowledge (about primes, for example) and, to me at least, feel artificial.\n",
    "\n",
    "The problem we will attempt to solve is [Challenge 119 - Greedy Gift Givers](https://uva.onlinejudge.org/index.php?option=com_onlinejudge&Itemid=8&category=3&page=show_problem&problem=55)."
   ]
  },
  {
   "cell_type": "markdown",
   "metadata": {},
   "source": [
    "<a id='greedy_gift_givers'></a>\n",
    "### Greedy Gift Givers\n",
    "[index](#index)\n",
    "\n",
    "We have a group of friends that engage in gift giving. Each friend has closer friends within the group that they give gifts to and they set aside an amount for gift giving. Each recipient receives a gift of equal value and the gift is an integer value. Any remaining funds are considered as a \"self gift\" in the calculation. \n",
    "\n",
    "This program, somewhat cynically, calculates the net gifting of each person in the group of friends. The input is as follows:\n",
    "\n",
    "```\n",
    "5\n",
    "dave laura owen vick amr\n",
    "dave 200 3 laura owen vick\n",
    "owen 500 1 dave\n",
    "amr 150 2 vick owen\n",
    "laura 0 2 amr vick\n",
    "vick 0 0\n",
    "```\n",
    "which encodes:\n",
    "\n",
    "* the number of people in the group (5)\n",
    "* the people in the group\n",
    "* for each person, who the person is, how much their gift fund is, how many recipients they give gifts to and who the recipients are.\n",
    "\n",
    "and the correct output for this input is:\n",
    "\n",
    "```\n",
    "amr -150\n",
    "dave 304\n",
    "laura 66\n",
    "owen -359\n",
    "vick 141\n",
    "```\n",
    "\n",
    "I leave it for you to decide who made out in this arrangement."
   ]
  },
  {
   "cell_type": "markdown",
   "metadata": {},
   "source": [
    "There are a lot of ways to skin this beast and our solution is probably going to be a bit over-architected in order to demonstrate a few concepts in functional programming and dataflows.\n",
    "\n",
    "In his presentation on [Naming](https://www.youtube.com/watch?v=JaKLSH4csqE), Zach Tellman notes that there are generally speaking only three operations:\n",
    "\n",
    "1. get data into the program.\n",
    "2. transform the data in the program.\n",
    "3. push data out of the program.\n",
    "\n",
    "And that except for top level functions that need to combine these operations, functions should only ever do, ideally, *one* of these three operations. \n",
    "\n",
    "Following this guidelines, we can break the problem into three basic functions:\n",
    "\n",
    "* `read_input()` - impure function that reads the string and translates/parses it into a data structure of some kind.\n",
    "* `calculate_net_gifts()` - a pure function that reads the data structure from above and outputs a new data structure with net gifting (or the same data structure with net gifting amounts).\n",
    "* `write_output()` - impure function that writes the net gifting amounts based on the data structure of net gifting.\n",
    "\n",
    "We can write and test these functions individually and then compose them into a `solve_problem` function that the end.\n",
    "\n",
    "The main thing we want to decide now is what the **schema** or **data-shape** of our data (program state) should be and how we go from the raw data to data in the proper schema (data-shape) *and* from data in the proper schema into the expected output.\n",
    "\n",
    "The schema I've thought of looks like this:\n",
    "\n",
    "```python\n",
    "{\"dave\": {\"fund\": 200, \"recipients\": [\"laura\", \"owen\", \"vick\"]},\n",
    " \"owen\": {\"fund\": 500, \"recipients\": [\"dave\"]},\n",
    " \"amr\": {\"fund\": 150, \"recipients\": [\"vick\", \"owen\"]},\n",
    " \"laura\": {\"fund\": 0, \"recipients\": [\"amr\", \"vick\"]},\n",
    " \"vick\": {\"fund\": 0, \"recipients\": []}}\n",
    "```\n",
    "So this is the data that `calculate_net_gifts` will start with and it's also the data that we want `read_input`  to generate from the raw data.\n",
    "\n",
    "When we're done, the data structure will be:\n",
    "\n",
    "```python\n",
    "{\"dave\": {\"fund\": 200, \"recipients\": [\"laura\", \"owen\", \"vick\"], \"gift\": 66, \"given\": 198, \"received\": 502, \"net\": 304},\n",
    " \"owen\": {\"fund\": 500, \"recipients\": [\"dave\"], \"gift\": 500, \"given\": 500, \"received\": 141, \"net\": -359},\n",
    " \"amr\": {\"fund\": 150, \"recipients\": [\"vick\", \"owen\"], \"gift\": 75, \"given\": 150, \"received\": 0, \"net\": -150},\n",
    " \"laura\": {\"fund\": 0, \"recipients\": [\"amr\", \"vick\"], \"gift\": 0, \"given\": 0, \"received\": 66, \"net\": 66},\n",
    " \"vick\": {\"fund\": 0, \"recipients\": [], \"gift\": 0, \"given\": 0, \"received\": 141, \"net\": 141}}\n",
    "```\n",
    "\n",
    "that is, we want `calculate_net_gifts` to enrich or augment the original data structure. \n",
    "We will break this down into steps so that we can test them, one by one, along the way. \n",
    "These steps could be:\n",
    "\n",
    "1. Calculate gift, given and starting received.\n",
    "2. Calculate received.\n",
    "3. Calculate net.\n",
    "\n",
    "Finally, the `write_output` function will take the final state of the data structure and write the expected output.\n",
    "\n",
    "We're going to write `calculate_net_gifts` first. This allows us to work with our chosen data schema and determine if there are any problems and changing it as necessary. We can also avoid IO in testing for the time being."
   ]
  },
  {
   "cell_type": "markdown",
   "metadata": {},
   "source": [
    "#### Step 1.\n",
    "\n",
    "We can assume that we already have the initial data structure. We want to write the first step which adds \"gift\", \"given\" and \"received\" to each individual map. If we had such a function then we could simply call it on the value of each key in the outer data Dict. Let's say it's called `calculate_gifts`.\n",
    "\n",
    "The question becomes, how do we apply it to each value in `data`? This is sort of like `map` but it's not being applied to a List but a Dict and more specifically the values of the Dict (we could imagine a `map` that is applied to the *keys* of Dict as well).\n",
    "\n",
    "The Old School Python way of doing this might be:\n",
    "\n",
    "1. create a Dict from a List of Tuples using `dict( xs)`.\n",
    "2. generate a List of Tuples from a Dict using `items()`.\n",
    "\n",
    "```python\n",
    "def dmap(f, m):\n",
    "    return dict( map( lambda kv: (kv[0], f(kv[1])), m.items()))\n",
    "```\n",
    "\n",
    "but we have Dictionary comprehensions now.\n",
    "We can define `dmap` as follows:"
   ]
  },
  {
   "cell_type": "code",
   "execution_count": 169,
   "metadata": {},
   "outputs": [],
   "source": [
    "from typing import Callable, Any"
   ]
  },
  {
   "cell_type": "markdown",
   "metadata": {},
   "source": [
    "## dmap\n",
    "\n",
    "`dmap` is like `map` except that the function is applied to the values of the Dict(ionary). **Used by:** [calculate_all_gifts](#calculate_all_gifts), [calculate_all_net_gifting](#calculate_all_net_gifting).\n",
    "\n",
    "* **f**: Callable - the function to apply. f must be comformable to the values in `m`.\n",
    "* **m**: dict - the dictionry to whose values `f` will be applied\n",
    "\n",
    "**returns**: dict - m but with f(v) for all values.\n"
   ]
  },
  {
   "cell_type": "code",
   "execution_count": 170,
   "metadata": {},
   "outputs": [],
   "source": [
    "def dmap(f: Callable, m: dict[Any, Any]) -> dict[Any,  Any]:\n",
    "    return {k: f(v) for k, v in m.items()}"
   ]
  },
  {
   "cell_type": "code",
   "execution_count": 171,
   "metadata": {},
   "outputs": [],
   "source": [
    "assert dmap(lambda x: x, {}) == {}\n",
    "start = {\"a\": 1, \"b\": 2}\n",
    "expected = {\"a\": 2, \"b\": 3}\n",
    "assert dmap(lambda x: x + 1, start) == expected"
   ]
  },
  {
   "cell_type": "markdown",
   "metadata": {},
   "source": [
    "And this is where we get to \"programming by wishful thinking\", we simply apply `dmap` to a function we wish we had:\n",
    "\n",
    "```python\n",
    "def calculate_all_gifts( data):\n",
    "    return dmap( calculate_gifts, data)\n",
    "```\n",
    "\n",
    "One of the problems with an *interpreted* language like Python, however, is that we need to define functions in a particular order. \n",
    "Specifically, we must define functions before they are called. \n",
    "This makes this *top/down* approach a bit difficult in Python although you might use it when doing some initial pen-and-paper sketching.\n",
    "\n",
    "The alternative is to recognize we needed the `calculate_gifts` function and start there instead. This is the *bottom/up* approach. \n",
    "In either case, we are working declaratively...we are creating units of code--operators for this specific problem--that express what to do, do only one thing, and are testable.\n",
    "\n",
    "One final note, because dict[Any, Any] can be a little vague, you should document your data shapes."
   ]
  },
  {
   "cell_type": "markdown",
   "metadata": {},
   "source": [
    "That function will take a person's Dict and calculate an integer gift value, the total amount given away and the remainder as the initial value for received (as self giving).\n",
    "\n",
    "## calculate_gifts\n",
    "\n",
    "This function will take the gift information for a single person and augment the data structure with {\"fund\": 200, \"recipients\": [\"laura\", \"owen\", \"vick\"]} with the `gift` amount, amount `given`, and the amount `received` (the self gift). **Used by:** [calculate_all_gifts](#calculate_all_gifts).\n",
    "\n",
    "* **person_data**: a dictionary with keys `fund`: int and `recipients`: list[str] of those they give gifts.\n",
    "\n",
    "**returns**: dict[str, Any] - the original dictionary augmented with gifting information.\n"
   ]
  },
  {
   "cell_type": "code",
   "execution_count": 172,
   "metadata": {},
   "outputs": [],
   "source": [
    "def calculate_gifts(person_data: dict[str, Any]) -> dict[str, Any]:\n",
    "    recipient_count = len(person_data[\"recipients\"])\n",
    "    person_data[\"gift\"] = 0 if recipient_count == 0 else person_data[\"fund\"] // recipient_count # // is floor division\n",
    "    person_data[\"given\"] = person_data[\"gift\"] * recipient_count\n",
    "    person_data[\"received\"] = person_data[\"fund\"] - person_data[\"given\"]\n",
    "    return person_data"
   ]
  },
  {
   "cell_type": "markdown",
   "metadata": {},
   "source": [
    "Now we need to test the function.\n",
    "The general test cases are 0, one, few, many, lots, and BOOM! although not all of these will apply to all situations.\n",
    "You should work your test cases out by hand so that you know they're correct.\n",
    "This means you should not generally use the problem you're trying to solve as your test case.\n",
    "At least in theory, the problem you're trying to solve is so complicated that you require a computer to do it.\n",
    "For your test cases, you should pick smaller, simpler problems, where you understand what the answer should be.\n",
    "If you find that you have to print the results, check them, and use those as your test cases, you probably are using test cases that are too complicated.\n",
    "If you find that writing test cases is too complicated, that it takes too much to set up, then your function probably does too much.\n",
    "The Test First philosophy says that you should write your tests before you write your code.\n",
    "You need not follow that particular philosophy but, still, you should make sure your test cases cover the boundary conditions."
   ]
  },
  {
   "cell_type": "code",
   "execution_count": 173,
   "metadata": {},
   "outputs": [],
   "source": [
    "start1 = {\"fund\": 200, \"recipients\": [\"sam\", \"kevin\", \"wilma\"]}\n",
    "expected = {\"fund\": 200, \"recipients\": [\"sam\", \"kevin\", \"wilma\"], \"gift\": 66, \"given\": 198, \"received\": 2}\n",
    "assert calculate_gifts(deepcopy(start1)) == expected\n",
    "start2 = deepcopy(start1)\n",
    "start2[\"fund\"] = 0 # what if we give nothing to our friends? we give nothing\n",
    "assert calculate_gifts(deepcopy(start2)) == {\"fund\": 0, \"recipients\": [\"sam\", \"kevin\", \"wilma\"], \"gift\": 0, \"given\": 0, \"received\": 0}\n",
    "start3 = deepcopy(start1)\n",
    "start3[\"recipients\"] = [] # what if we have no friends? we receive everything\n",
    "assert calculate_gifts(deepcopy(start3)) == {\"fund\": 200, \"recipients\": [], \"gift\": 0, \"given\": 0, \"received\": 200}"
   ]
  },
  {
   "cell_type": "markdown",
   "metadata": {},
   "source": [
    "<div style=\"background: lemonchiffon; margin:20px; padding: 20px;\">\n",
    "    <strong>Important</strong>\n",
    "    <p>\n",
    "        Note that our test cases are simple, the simplest they can be to test the edges. \n",
    "        The test case is not the problem we're actually trying to solve. \n",
    "        We're testing code along the way to make sure the problem we're trying to solve (ostensibly, a problem complicated enough we need a computer to solve it) will be solved correctly.\n",
    "    </p>\n",
    "</div>\n",
    "\n",
    "\n",
    "Now we can move to `calculate_all_gifts`:"
   ]
  },
  {
   "cell_type": "markdown",
   "metadata": {},
   "source": [
    "<a id='calculate_all_gifts'></a>\n",
    "## calculate_all_gifts\n",
    "\n",
    "`calculate_all_gifts` applies `calculate_gifts` to each person's list of friends and funds. **Uses:** [dmap](#dmap), [calculate_gifts](#calculate_gifts), **Used by:**\n",
    "\n",
    "* **gift_data**: dict[str, dict[str, Any]] - a dictionary of the names (keys) and gift giving (values) of the group of friends.\n",
    "\n",
    "**returns**: dict[str, dict[str, Any]] - the original dictionary augmented with gifting information (see `calculate_gifts`).\n"
   ]
  },
  {
   "cell_type": "code",
   "execution_count": 174,
   "metadata": {},
   "outputs": [],
   "source": [
    "def calculate_all_gifts(gift_data: dict[str, dict[str, Any]]):\n",
    "    return dmap(calculate_gifts, gift_data)"
   ]
  },
  {
   "cell_type": "code",
   "execution_count": 175,
   "metadata": {
    "collapsed": false,
    "jupyter": {
     "outputs_hidden": false
    }
   },
   "outputs": [],
   "source": [
    "test_input = {\n",
    "    \"sam\": {\"fund\": 120, \"recipients\": [\"fred\", \"wilma\"]},\n",
    "    \"fred\": {\"fund\": 52, \"recipients\": [\"wilma\"]},\n",
    "    \"wilma\": {\"fund\": 105, \"recipients\": [\"sam\", \"fred\"]}\n",
    "}\n",
    "test_expected = {\n",
    "    \"sam\": {\"fund\": 120, \"recipients\": [\"fred\", \"wilma\"], \"gift\": 60, \"given\": 120, \"received\": 0},\n",
    "    \"fred\": {\"fund\": 52, \"recipients\": [\"wilma\"], \"gift\": 52, \"given\": 52, \"received\": 0},\n",
    "    \"wilma\": {\"fund\": 105, \"recipients\": [\"sam\", \"fred\"], \"gift\": 52, \"given\": 104, \"received\": 1}\n",
    "}\n",
    "assert calculate_all_gifts(test_input) == test_expected"
   ]
  },
  {
   "cell_type": "markdown",
   "metadata": {},
   "source": [
    "That looks good so we can move on to the next step which is to distribute the gifts. This is a bit more complicated. We want to have a single person's gifting and apply it to the correct people in the overall data. With a nested data structure like we have, we're going to have to take it apart to modify the \"received\" value.\n",
    "\n",
    "Because Python has mutable data structures, we can use a `for` loop to modify the Dicts instead of `map` because modification of a data structure in-place is considered to be \"impure\" (the horror!). \n",
    "We'll talk a bit about this later."
   ]
  },
  {
   "cell_type": "markdown",
   "metadata": {},
   "source": [
    "## distribute_gifts\n",
    "\n",
    "After calculating what gifts everyone is going to give, `distribute_gifts` will do the actual gift giving. The function modifies its argument. **Used by:** [distribute_all_gifts](#distribute_all_gifts).\n",
    "\n",
    "* **gift_data**: dict[str, dict[str, Any]] - the gift data augmented with gift amounts.\n",
    "* **gifter**: the gift giving information for a specifict person (the gifter in this case)\n",
    "\n",
    "**returns**: dict[str, dict[str, Any]] - returns the `gift_data` argument, augmented with actual gifts from `gifter`.\n"
   ]
  },
  {
   "cell_type": "code",
   "execution_count": 176,
   "metadata": {},
   "outputs": [],
   "source": [
    "def distribute_gifts(gift_data, gifter):\n",
    "    for recipient in gifter[\"recipients\"]:\n",
    "        gift_data[recipient][\"received\"] = gift_data[recipient][\"received\"] + gifter[\"gift\"]\n",
    "    return gift_data"
   ]
  },
  {
   "cell_type": "markdown",
   "metadata": {},
   "source": [
    "When you get to a certain point, you don't need to start off with intermediate results.\n",
    "You can use functins you have already tested to bootstrap yourself into the necessary calculations."
   ]
  },
  {
   "cell_type": "code",
   "execution_count": 177,
   "metadata": {
    "collapsed": false,
    "jupyter": {
     "outputs_hidden": false
    }
   },
   "outputs": [],
   "source": [
    "test_start = {\n",
    "    \"sam\": {\"fund\": 120, \"recipients\": [\"fred\", \"wilma\"]},\n",
    "    \"fred\": {\"fund\": 52, \"recipients\": [\"wilma\"]},\n",
    "    \"wilma\": {\"fund\": 105, \"recipients\": [\"sam\", \"fred\"]}\n",
    "}\n",
    "test_input = calculate_all_gifts(test_start)\n",
    "test_expectations = {\n",
    "    \"fred\": {\"fund\": 52, \"recipients\": [\"wilma\"], \"gift\": 52, \"given\": 52, \"received\": 60},\n",
    "    \"wilma\": {\"fund\": 105, \"recipients\": [\"sam\", \"fred\"], \"gift\": 52, \"given\": 104, \"received\": 61}\n",
    "}\n",
    "result = distribute_gifts(test_input, test_input[\"sam\"])\n",
    "for recipient in result[\"sam\"][\"recipients\"]:\n",
    "    assert test_expectations[recipient] == result[recipient]"
   ]
  },
  {
   "cell_type": "markdown",
   "metadata": {},
   "source": [
    "We have one final step: we need a function that will distribute everyone's gifts."
   ]
  },
  {
   "cell_type": "markdown",
   "metadata": {},
   "source": [
    "<a id='distribute_all_gifts'></a>\n",
    "## distribute_all_gifts\n",
    "\n",
    "With an augmented `gift_data` containing everyone's information about gift giving, actually distribute the dollar amounts of gifts to everyone. **Uses:** [distribute_gifts](#distribute_gifts)\n",
    "\n",
    "* **gift_data**: dict[str, dict[str, Any]] - augmented gift giving data.\n",
    "\n",
    "**returns**: gift_data augmented with actual distribution of gift amounts."
   ]
  },
  {
   "cell_type": "code",
   "execution_count": 178,
   "metadata": {},
   "outputs": [],
   "source": [
    "def distribute_all_gifts(gift_data: dict[str, dict[str, Any]]) -> dict[str, dict[str, Any]]:\n",
    "    return reduce(distribute_gifts, gift_data.values(), gift_data)"
   ]
  },
  {
   "cell_type": "markdown",
   "metadata": {},
   "source": [
    "The function above is kind of sneaky because I actually re-wrote `distribute_gifts` to make it work. Originally, `distribute_gifts` took the person's data and the overall data as arguments but I switched them so that the overall data could act as an accumulator of changes and the `reduce` simply applied the information contained in each individual's gift data to everyone else.\n",
    "\n",
    "It's sneaky in a second way in that it uses `values()` on the overall data map because we don't care who is doing the gift giving...all the information we need is contained in the person's gift data.\n",
    "\n",
    "Finally, we use the overall data as the starting value.\n",
    "\n",
    "One downside to functional programming can be \"higher order diarrhea\" where you use such abstract abstractions that three weeks later you can't understand what your code is doing. Where possible it is sometimes better not to chain a bunch of cleverness together and instead give names to intermediate computations."
   ]
  },
  {
   "cell_type": "code",
   "execution_count": 179,
   "metadata": {
    "collapsed": false,
    "jupyter": {
     "outputs_hidden": false
    }
   },
   "outputs": [],
   "source": [
    "test_start = {\n",
    "    \"sam\": {\"fund\": 120, \"recipients\": [\"fred\", \"wilma\"]},\n",
    "    \"fred\": {\"fund\": 52, \"recipients\": [\"wilma\"]},\n",
    "    \"wilma\": {\"fund\": 105, \"recipients\": [\"sam\", \"fred\"]}\n",
    "}\n",
    "all_gifts_calculated = calculate_all_gifts(test_start)\n",
    "all_gifts_distributed = distribute_all_gifts(all_gifts_calculated)\n",
    "expected_gifts_distributed = {\n",
    "    'sam': {'fund': 120, 'recipients': ['fred', 'wilma'], 'gift': 60, 'given': 120, 'received': 52}, \n",
    "    'fred': {'fund': 52, 'recipients': ['wilma'], 'gift': 52, 'given': 52, 'received': 112}, \n",
    "    'wilma': {'fund': 105, 'recipients': ['sam', 'fred'], 'gift': 52, 'given': 104, 'received': 113}\n",
    "}\n",
    "assert expected_gifts_distributed == all_gifts_distributed"
   ]
  },
  {
   "cell_type": "markdown",
   "metadata": {},
   "source": [
    "All that remains now is to calculate the net gifting, assuming we had a `calculate_net_gifting` function, `calculate_all_net_gifting` is just a `dmap` of that function. Simplicity itself:"
   ]
  },
  {
   "cell_type": "markdown",
   "metadata": {},
   "source": [
    "<a id='calculate_net_gifting'></a>\n",
    "## calculate_net_gifting\n",
    "\n",
    "Calculate the difference between the value of gifts received and the value of gifts given, using the person's gift giving data. **Used by:** [calculate_all_net_gifting](#calculate_all_net_gifting)\n",
    "\n",
    "* **person_data**: dict[str, Any] - the gift data for a particular person.\n",
    "\n",
    "**returns**: dict[str, Any] - the person_data is augmented with net gift calculations."
   ]
  },
  {
   "cell_type": "code",
   "execution_count": 180,
   "metadata": {},
   "outputs": [],
   "source": [
    "def calculate_net_gifting(person_data):\n",
    "    person_data[\"net\"] = person_data[\"received\"] - person_data[\"given\"]\n",
    "    return person_data"
   ]
  },
  {
   "cell_type": "code",
   "execution_count": 181,
   "metadata": {},
   "outputs": [],
   "source": [
    "assert calculate_net_gifting({\"received\": 100, \"given\": 90}) == {\"received\": 100, \"given\": 90, \"net\": 10}\n",
    "assert calculate_net_gifting({\"received\": 90, \"given\": 100}) == {\"received\": 90, \"given\": 100, \"net\": -10}\n",
    "assert calculate_net_gifting({\"received\": 0, \"given\": 0}) == {\"received\": 0, \"given\": 0, \"net\": 0}"
   ]
  },
  {
   "cell_type": "markdown",
   "metadata": {},
   "source": [
    "<div style=\"background: lemonchiffon; margin:20px; padding: 20px;\">\n",
    "    <strong>Notice</strong>\n",
    "    <p>\n",
    "        Notice for this test case, we only needed to set up keys that we were interested in.\n",
    "    </p>\n",
    "</div>\n"
   ]
  },
  {
   "cell_type": "markdown",
   "metadata": {},
   "source": [
    "<a id='calculate_all_net_gifting'></a>\n",
    "## calculate_all_net_gifting\n",
    "\n",
    "Calculate all net gifting. **Uses:** [dmap](#dmap), [calculate_net_gifting](#calculate_net_gifting).\n",
    "\n",
    "* **gifting_data**: dict[str, Any] - gifting data for all the gifters.\n",
    "\n",
    "**returns**: dict[str, Any] - the gifting_data augmented with net giving for all gifters."
   ]
  },
  {
   "cell_type": "code",
   "execution_count": 182,
   "metadata": {},
   "outputs": [],
   "source": [
    "def calculate_all_net_gifting(data):\n",
    "    return dmap( calculate_net_gifting, data)"
   ]
  },
  {
   "cell_type": "code",
   "execution_count": 183,
   "metadata": {},
   "outputs": [],
   "source": [
    "test_start = {\n",
    "    \"sam\": {\"fund\": 120, \"recipients\": [\"fred\", \"wilma\"]},\n",
    "    \"fred\": {\"fund\": 52, \"recipients\": [\"wilma\"]},\n",
    "    \"wilma\": {\"fund\": 105, \"recipients\": [\"sam\", \"fred\"]}\n",
    "}\n",
    "all_gifts_calculated = calculate_all_gifts(test_start)\n",
    "all_gifts_distributed = distribute_all_gifts(all_gifts_calculated)\n",
    "all_net_gifts = calculate_all_net_gifting(all_gifts_distributed)\n",
    "expected_net_gifts = {\n",
    "    'sam': {'fund': 120, 'recipients': ['fred', 'wilma'], 'gift': 60, 'given': 120, 'received': 52, 'net': -68}, \n",
    "    'fred': {'fund': 52, 'recipients': ['wilma'], 'gift': 52, 'given': 52, 'received': 112, 'net': 60}, \n",
    "    'wilma': {'fund': 105, 'recipients': ['sam', 'fred'], 'gift': 52, 'given': 104, 'received': 113, 'net': 9}\n",
    "}\n",
    "assert all_net_gifts == expected_net_gifts"
   ]
  },
  {
   "cell_type": "markdown",
   "metadata": {},
   "source": [
    "We can confirm that the values of \"net\" match those we expect in the output. What remains now is to tie these all together. We could just stick what we have above in a function. It is at this point that we can really see that we are using a Domain Specific Language (DSL) in a declarative way:"
   ]
  },
  {
   "cell_type": "markdown",
   "metadata": {},
   "source": [
    "## calculate_net_gifts\n",
    "\n",
    "The function takes the gift data, calculates all the gifts, distributes the gifts to all the friends, and calculates the net gift giving. **Uses:** [calculate_all_gifts](#calculate_all_gifts), [distribute_all_gifts](#distribute_all_gifts), [calculate_all_net_gifting](#calculate_all_net_gifting), **Used by:** [solve_greedy_gift_givers](#solve_greedy_gift_givers).\n",
    "\n",
    "Calculate all net gifting. **Uses:** [dmap](#dmap), [calculate_net_gifting](#calculate_net_gifting).\n",
    "\n",
    "* **gifting_data**: dict[str, Any] - gifting data for all the gifters.\n",
    "\n",
    "**returns**: dict[str, Any] - the gifting_data augmented with net giving for all gifters."
   ]
  },
  {
   "cell_type": "code",
   "execution_count": 184,
   "metadata": {},
   "outputs": [],
   "source": [
    "def calculate_net_gifts(gift_data):\n",
    "    result = calculate_all_gifts(gift_data)\n",
    "    result = distribute_all_gifts(result)\n",
    "    result = calculate_all_net_gifting(result)\n",
    "    return result"
   ]
  },
  {
   "cell_type": "code",
   "execution_count": 185,
   "metadata": {
    "collapsed": false,
    "jupyter": {
     "outputs_hidden": false
    }
   },
   "outputs": [
    {
     "name": "stdout",
     "output_type": "stream",
     "text": [
      "sam {'fund': 120, 'recipients': ['fred', 'wilma'], 'gift': 60, 'given': 120, 'received': 52, 'net': -68}\n",
      "fred {'fund': 52, 'recipients': ['wilma'], 'gift': 52, 'given': 52, 'received': 112, 'net': 60}\n",
      "wilma {'fund': 105, 'recipients': ['sam', 'fred'], 'gift': 52, 'given': 104, 'received': 113, 'net': 9}\n"
     ]
    }
   ],
   "source": [
    "test_start = {\n",
    "    \"sam\": {\"fund\": 120, \"recipients\": [\"fred\", \"wilma\"]},\n",
    "    \"fred\": {\"fund\": 52, \"recipients\": [\"wilma\"]},\n",
    "    \"wilma\": {\"fund\": 105, \"recipients\": [\"sam\", \"fred\"]}\n",
    "}\n",
    "\n",
    "result = calculate_net_gifts(test_start)\n",
    "\n",
    "for k in result.keys():\n",
    "    print(k, result[k])"
   ]
  },
  {
   "cell_type": "markdown",
   "metadata": {},
   "source": [
    "There are cleaner ways to compose functions like this in functional programming but sometimes verbose is easier to debug and not everything neatly composes.\n",
    "\n",
    "We are done with the brains or meat of the problem solving process (to mix metaphors).\n",
    "We've now got to add the bread to our sandwich: input and output."
   ]
  },
  {
   "cell_type": "markdown",
   "metadata": {},
   "source": [
    "#### Step 2.\n",
    "\n",
    "Now we can write a display function, `write_output`:"
   ]
  },
  {
   "cell_type": "markdown",
   "metadata": {},
   "source": [
    "<a id=\"write_output\"></a>\n",
    "## write_output\n",
    "\n",
    "Take the gift giving data and write out the net amounts. **Used by:** [solve_greedy_gift_givers](#solve_greedy_gift_givers).\n",
    "\n",
    "* **gifting_data**: the fully processed gifting data\n",
    "\n",
    "**returns**: None\n"
   ]
  },
  {
   "cell_type": "code",
   "execution_count": 186,
   "metadata": {},
   "outputs": [],
   "source": [
    "def write_output(gifting_data):\n",
    "    keys = list(gifting_data.keys())\n",
    "    keys.sort()\n",
    "    \n",
    "    for k in keys:\n",
    "        print(\"%s %d\" % (k, gifting_data[ k][ \"net\"]))"
   ]
  },
  {
   "cell_type": "code",
   "execution_count": 187,
   "metadata": {
    "collapsed": false,
    "jupyter": {
     "outputs_hidden": false
    }
   },
   "outputs": [
    {
     "name": "stdout",
     "output_type": "stream",
     "text": [
      "fred 60\n",
      "sam -68\n",
      "wilma 9\n"
     ]
    }
   ],
   "source": [
    "test_start = {\n",
    "    \"sam\": {\"fund\": 120, \"recipients\": [\"fred\", \"wilma\"]},\n",
    "    \"fred\": {\"fund\": 52, \"recipients\": [\"wilma\"]},\n",
    "    \"wilma\": {\"fund\": 105, \"recipients\": [\"sam\", \"fred\"]}\n",
    "}\n",
    "result = calculate_net_gifts(test_start)\n",
    "write_output(result)"
   ]
  },
  {
   "cell_type": "markdown",
   "metadata": {},
   "source": [
    "This is exactly what we wanted.\n",
    "\n",
    "<div style=\"border-style: solid; border-width: 1px; padding: 5px; background: beige;\">\n",
    "    <strong>Important</strong>\n",
    "    <p>\n",
    "        We could, if we wanted, as we did above, have a `display` function that generates a string that we can test and then a function that prints it out.\n",
    "        However, this seems sufficient.\n",
    "        The function does just one thing: it prints out the results.\n",
    "        We just need to visually inspect that the results to make sure they are correct.\n",
    "    </p>\n",
    "    <p style=\"background: tomato; padding: 5px;\">\n",
    "        You are not relieved from the responsibility of making sure the output is <strong>exactly</strong> as requested.\n",
    "    </p>\n",
    "</div>\n",
    "\n",
    "By cleanly separating our pure and impure functions (except for a bit of mutability we can't avoid in Python), we can easily change what we want to print out if the need arises or where it goes (maybe it goes into a database) or a snarky email get sent at the end of the year.\n",
    "\n",
    "All without changing the actual computation.\n",
    "\n",
    "#### Step 3\n",
    "\n",
    "Our penultimate step involves reading the raw data and creating the initial data structure. Let's review the incoming raw data:\n",
    "\n",
    "```\n",
    "5\n",
    "dave laura owen vick amr\n",
    "dave 200 3 laura owen vick\n",
    "owen 500 1 dave\n",
    "amr 150 2 vick owen\n",
    "laura 0 2 amr vick\n",
    "vick 0 0\n",
    "```\n",
    "\n",
    "There really isn't a compelling reason to use the first two lines in Python. Perhaps there is in C or Java. We don't need the number of recipients either. Basically we just need to take:\n",
    "\n",
    "```\n",
    "dave 200 3 laura owen vick\n",
    "```\n",
    "\n",
    "and turn it into:\n",
    "\n",
    "```\n",
    "(\"dave\" {\"fund\": 200, \"recipients\": [\"laura\", \"owen\", \"vick\"]})\n",
    "```\n",
    "\n",
    "This is going to require some string parsing. You should review the Python documentation on Strings and Regular Expressions but we can use `split`. In the code below, we use the convention of naming \"magic constants\" using ALLCAPS."
   ]
  },
  {
   "cell_type": "markdown",
   "metadata": {},
   "source": [
    "<a id='read_person_data'></a>\n",
    "## read_person_data\n",
    "Each line of the Greedy Gift Givers problem gives the information for a single person.\n",
    "It starts with the name, then the gift fund, the number of gifts, and the names of the friends to whom the person gives gifts:\n",
    "\n",
    "```\n",
    "dave 200 3 laura owen vick\n",
    "```\n",
    "\n",
    "**Used by**: [read_input](#read_input)\n",
    "\n",
    "* **raw_person_data**: [str] - the raw representation of a single person's information in a Greedy Gift Giver problem.\n",
    "\n",
    "**returns**: Tuple[str, Dict[str, Any]] - the name of the person and a dict containing the relevant data.\n"
   ]
  },
  {
   "cell_type": "code",
   "execution_count": 188,
   "metadata": {
    "collapsed": false,
    "jupyter": {
     "outputs_hidden": false
    }
   },
   "outputs": [],
   "source": [
    "NAME = 0\n",
    "FUND = 1\n",
    "RECIPIENT_START = 3\n",
    "\n",
    "def read_person_data(raw_person_data):\n",
    "    parsed_person_data = raw_person_data.split(\" \")\n",
    "    name = parsed_person_data[NAME]\n",
    "    fund = int( parsed_person_data[FUND])\n",
    "    recipients = parsed_person_data[RECIPIENT_START:]\n",
    "    \n",
    "    return (name, {\"fund\": fund, \"recipients\": recipients})"
   ]
  },
  {
   "cell_type": "code",
   "execution_count": 189,
   "metadata": {
    "collapsed": false,
    "jupyter": {
     "outputs_hidden": false
    }
   },
   "outputs": [],
   "source": [
    "assert read_person_data(\"dave 200 3 laura owen vick\") == (\"dave\", {\"fund\": 200, \"recipients\": [\"laura\", \"owen\", \"vick\"]})\n",
    "assert read_person_data(\"laura 0 2 amr vick\") == (\"laura\", {\"fund\": 0, \"recipients\": [\"amr\", \"vick\"]})\n",
    "assert read_person_data(\"vick 0 0\") == (\"vick\", {\"fund\": 0, \"recipients\": []})"
   ]
  },
  {
   "cell_type": "markdown",
   "metadata": {},
   "source": [
    "That works very nicely. I used named constants and intermediate values to add semantic meaning to what I was doing. We need to apply it to all the lines of data:"
   ]
  },
  {
   "cell_type": "markdown",
   "metadata": {},
   "source": [
    "<a id='read_input'></a>\n",
    "## read_input\n",
    "\n",
    "`read_input` takes a string representation of the problem and parses it into the dictionary form. The first line is the number of friends, the second line is the name of all the friends and each line thereafter includes the name of the friend, their gift fund, the number of recipients, and a list of recipient names. **Uses:** [read_person_data](#read_person_data), **Used by**: [solve_greedy_gift_givers](#solve_greedy_gift_givers)\n",
    "\n",
    "* **raw_ggg_problem**: str - a string presentation of the greedy gift givers problem.\n",
    "\n",
    "**returns**: dict[str, Any] - a dictionary representation of the problem.\n"
   ]
  },
  {
   "cell_type": "code",
   "execution_count": 190,
   "metadata": {},
   "outputs": [],
   "source": [
    "def read_input(raw_ggg_problem):\n",
    "    lines = raw_ggg_problem.split(\"\\n\")\n",
    "    parsed_data = map(read_person_data, lines[ 2:])\n",
    "    return dict(parsed_data)"
   ]
  },
  {
   "cell_type": "code",
   "execution_count": 191,
   "metadata": {
    "collapsed": false,
    "jupyter": {
     "outputs_hidden": false
    }
   },
   "outputs": [],
   "source": [
    "# \"\"\" is used for multiline strings in Python\n",
    "\n",
    "raw_ggg_problem = \"\"\"3\n",
    "sam fred wilma\n",
    "sam 120 2 fred wilma\n",
    "fred 52 1 wilma\n",
    "wilma 105 2 sam fred\"\"\"\n",
    "\n",
    "expected_gifting_data = {\n",
    "    \"sam\": {\"fund\": 120, \"recipients\": [\"fred\", \"wilma\"]},\n",
    "    \"fred\": {\"fund\": 52, \"recipients\": [\"wilma\"]},\n",
    "    \"wilma\": {\"fund\": 105, \"recipients\": [\"sam\", \"fred\"]}\n",
    "}\n",
    "\n",
    "assert read_input(raw_ggg_problem) == expected_gifting_data"
   ]
  },
  {
   "cell_type": "markdown",
   "metadata": {},
   "source": [
    "<div style=\"background: lemonchiffon; margin:20px; padding: 20px;\">\n",
    "    <strong>Important</strong>\n",
    "    <p>\n",
    "        Although we describe the format of the input data in the documentation, the assertion/unit test also serves as documentation.\n",
    "    </p>\n",
    "</div>\n",
    "\n",
    "What about error handling?\n",
    "In the real world, we should have better error handling.\n",
    "For assignments, we don't care.\n",
    "Your unit tests should make sure that, given correct inputs you will get the correct outputs.\n",
    "Don't worry about incorrect inputs.\n",
    "It's your code.\n",
    "Don't do that."
   ]
  },
  {
   "cell_type": "markdown",
   "metadata": {},
   "source": [
    "#### Step 4\n",
    "\n",
    "Now we're mostly done. We just need to create the outer function, `solve`:"
   ]
  },
  {
   "cell_type": "markdown",
   "metadata": {},
   "source": [
    "<a id=\"solve_greedy_gift_givers\"></a>\n",
    "## solve_greedy_gift_givers\n",
    "\n",
    "The `raw_ggg_problem` is a string representation of the Greedy Gift Giver problem and the function prints out the net gifts for each person. **Uses:** [read_input](#read_input), [calculate_net_gifts](#calculate_net_gifts), [write_output](#write_output).\n",
    "\n",
    "* **raw_ggg_problem**: str - the string representation of the Greed Gift Giver problem.\n",
    "\n",
    "**returns**: None\n"
   ]
  },
  {
   "cell_type": "code",
   "execution_count": 192,
   "metadata": {},
   "outputs": [],
   "source": [
    "def solve_greedy_gift_givers(raw_ggg_problem):\n",
    "    gifting_data = read_input(raw_ggg_problem)\n",
    "    gifting_calculations = calculate_net_gifts(gifting_data)\n",
    "    write_output(gifting_calculations)"
   ]
  },
  {
   "cell_type": "code",
   "execution_count": 193,
   "metadata": {
    "collapsed": false,
    "jupyter": {
     "outputs_hidden": false
    }
   },
   "outputs": [
    {
     "name": "stdout",
     "output_type": "stream",
     "text": [
      "amr -150\n",
      "dave 304\n",
      "laura 66\n",
      "owen -359\n",
      "vick 141\n"
     ]
    }
   ],
   "source": [
    "ggg_problem1 = \"\"\"5\n",
    "dave laura owen vick amr\n",
    "dave 200 3 laura owen vick\n",
    "owen 500 1 dave\n",
    "amr 150 2 vick owen\n",
    "laura 0 2 amr vick\n",
    "vick 0 0\"\"\"\n",
    "\n",
    "solve_greedy_gift_givers(ggg_problem1)"
   ]
  },
  {
   "cell_type": "markdown",
   "metadata": {},
   "source": [
    "Let's do it with data we haven't seen before:"
   ]
  },
  {
   "cell_type": "code",
   "execution_count": 194,
   "metadata": {
    "collapsed": false,
    "jupyter": {
     "outputs_hidden": false
    }
   },
   "outputs": [
    {
     "name": "stdout",
     "output_type": "stream",
     "text": [
      "dave 27\n",
      "liz -3\n",
      "steve -23\n"
     ]
    }
   ],
   "source": [
    "ggg_problem2 = \"\"\"3\n",
    "liz steve dave\n",
    "liz 30 1 steve\n",
    "steve 55 2 liz dave\n",
    "dave 0 2 steve liz\"\"\"\n",
    "\n",
    "solve_greedy_gift_givers(ggg_problem2)"
   ]
  },
  {
   "cell_type": "markdown",
   "metadata": {},
   "source": [
    "As I mentioned at the start, this program was a bit more verbose than it needed to be because I wanted to show you the steps of a data flow program. The \"interior\" pure function part had three steps that were composed. Exactly where you draw the line depends on how complicated the computation is. You almost certainly want to stop at any point there is something testable. Of course, you can always break things out later if you find you didn't pick the right granularity."
   ]
  },
  {
   "cell_type": "markdown",
   "metadata": {},
   "source": [
    "<div style=\"background: lemonchiffon; margin:20px; padding: 20px;\">\n",
    "    <strong>Important</strong>\n",
    "    <p>\n",
    "       One of the great advantages of the functionalist dataflow approach is that we are always working with basic data structures.\n",
    "       There are scores of functions in Python that are ready made to work with them; you just need to think about how your problem maps to those basic functions.\n",
    "    </p>\n",
    "    <p>\n",
    "        Here we can use <tt>pprint</tt> to print <i>any<i/> dictionary.\n",
    "    </p>\n",
    "</div>\n"
   ]
  },
  {
   "cell_type": "code",
   "execution_count": 195,
   "metadata": {},
   "outputs": [],
   "source": [
    "from pprint import pprint"
   ]
  },
  {
   "cell_type": "code",
   "execution_count": 196,
   "metadata": {},
   "outputs": [
    {
     "name": "stdout",
     "output_type": "stream",
     "text": [
      "{'fred': {'fund': 52,\n",
      "          'gift': 52,\n",
      "          'given': 52,\n",
      "          'net': 60,\n",
      "          'received': 112,\n",
      "          'recipients': ['wilma']},\n",
      " 'sam': {'fund': 120,\n",
      "         'gift': 60,\n",
      "         'given': 120,\n",
      "         'net': -68,\n",
      "         'received': 52,\n",
      "         'recipients': ['fred', 'wilma']},\n",
      " 'wilma': {'fund': 105,\n",
      "           'gift': 52,\n",
      "           'given': 104,\n",
      "           'net': 9,\n",
      "           'received': 113,\n",
      "           'recipients': ['sam', 'fred']}}\n"
     ]
    }
   ],
   "source": [
    "test_start = {\n",
    "    \"sam\": {\"fund\": 120, \"recipients\": [\"fred\", \"wilma\"]},\n",
    "    \"fred\": {\"fund\": 52, \"recipients\": [\"wilma\"]},\n",
    "    \"wilma\": {\"fund\": 105, \"recipients\": [\"sam\", \"fred\"]}\n",
    "}\n",
    "\n",
    "result = calculate_net_gifts(test_start)\n",
    "\n",
    "pprint(result, compact=True)"
   ]
  },
  {
   "cell_type": "markdown",
   "metadata": {},
   "source": [
    "<div style=\"background: lemonchiffon; margin:20px; padding: 20px;\">\n",
    "    <strong>Important</strong>\n",
    "    <p>\n",
    "        However, you should not leave your readers/clients/consumers to parse through raw data structures.\n",
    "        Don't make people search for the answer.\n",
    "        Your solutions should be nicely formatted...especially if you have been requested to do so.\n",
    "    </p>\n",
    "</div>\n"
   ]
  },
  {
   "cell_type": "markdown",
   "metadata": {},
   "source": [
    "<a id='wrapping_up'></a>\n",
    "## Wrapping Up\n",
    "[index](#index)\n",
    "\n",
    "Of course, it's not enough to know about the functional programming part to program in Python in general. You should probably at least be familiar with:\n",
    "\n",
    "* reading and writing text files including CSV and TSV.\n",
    "* various \"pickling\" and \"unpickling\" approaches including the binary format for Python and JSON.\n",
    "* string functions including formatting\n",
    "* console/terminal input and output\n",
    "* regular expressions\n",
    "* general functions and methods for Lists, Dicts, Sets, Tuples.\n",
    "* random number generation including setting the generator *seed*\n",
    "\n",
    "### More Functional Style\n",
    "\n",
    "You might also notice that to program in a functional style in Python sometimes requires a bit of a wild west frontier attitude where you often have to write your own abstractions that would be provided in a true functional language. It turns out that some nice people have done that for you.\n",
    "\n",
    "One such library is [toolz](https://github.com/pytoolz/toolz/) that provides a number of typical functional programming abstractions for doing functional programming in Python.\n",
    "\n",
    "If you want to be a real diehard functional programmer, you may want to consider immutable data structures. [pyrsistent](https://github.com/tobgu/pyrsistent) provides a library of immutable data structures for use in Python. [pyrthon](https://github.com/tobgu/pyrthon/) makes the *literals* use the `pyrsistent` immutable data structures.\n",
    "\n",
    "If you want to go absolutely hog wild, you can also use [Hy](http://docs.hylang.org/en/latest/) which is a language that uses Lisp syntax but compiles to the Python Abstract Syntax Tree (AST). Basically, it's just an alternative way to to write a Python program--as Lisp s-expressions. However, when used in conjuction with the other libraries, it gives you a powerful functional programming language that includes macros.\n",
    "\n",
    "Using all four would be some seriously hardcore functional programming Python. For this class, we will restrict ourselves only to those conventions and approaches outlined in this document. Using Hy, for example, is not permitted.\n",
    "\n",
    "### Further Work\n",
    "\n",
    "If you are reading this before the semester begins, you might try out \"Python in a Functional Style\" on some additional [Programming Challenges](https://uva.onlinejudge.org/index.php?option=com_onlinejudge&Itemid=8&category=1). Try 101 especially without using explicit indexing."
   ]
  }
 ],
 "metadata": {
  "interpreter": {
   "hash": "60a14446b44e306f78116515e358ca9e3a85d1286b257058d2efbe5efddcc50e"
  },
  "kernelspec": {
   "display_name": "Python (en605645)",
   "language": "python",
   "name": "en605645"
  },
  "language_info": {
   "codemirror_mode": {
    "name": "ipython",
    "version": 3
   },
   "file_extension": ".py",
   "mimetype": "text/x-python",
   "name": "python",
   "nbconvert_exporter": "python",
   "pygments_lexer": "ipython3",
   "version": "3.10.4"
  }
 },
 "nbformat": 4,
 "nbformat_minor": 4
}
