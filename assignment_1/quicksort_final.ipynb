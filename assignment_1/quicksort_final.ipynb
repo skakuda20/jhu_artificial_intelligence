{
 "cells": [
  {
   "cell_type": "code",
   "execution_count": 1,
   "id": "0430ed6e-750f-4de3-8e65-a8fd3ef58713",
   "metadata": {},
   "outputs": [],
   "source": [
    "from copy import deepcopy"
   ]
  },
  {
   "cell_type": "markdown",
   "id": "c832537e-45ea-4fb2-9e8e-f905f85c5f29",
   "metadata": {},
   "source": [
    "<a id=\"swap\"></a>\n",
    "## swap\n",
    "\n",
    "`swap` takes a list and swaps the values in the first and second indices. **Used by**: [partition](#partition)\n",
    "\n",
    "* **xs** list: the list of values.\n",
    "* **first**: the first index, bounded by the length of `xs`.\n",
    "* **second**: the second index, bounded by the lenght of `xs`.\n",
    "\n",
    "**returns** Tuple: (second, first)."
   ]
  },
  {
   "cell_type": "markdown",
   "id": "506eaa01-6fbf-4297-ab12-463dd0dc8c35",
   "metadata": {},
   "source": [
    "<div style=\"background: lemonchiffon; margin:20px; padding: 20px;\">\n",
    "    <strong>Important</strong>\n",
    "    <p>\n",
    "        Python doesn't need a swap function but it's here to demonstrate a \"pure\" helper function. Note that because this is a pure helper function, it has no associated explanation in terms of the algorithm.\n",
    "    </p>\n",
    "    <p>\n",
    "        You can double click on the Markdown cell to reveal the raw text. You can use this as a template in your submissions.\n",
    "    </p>\n",
    "    <p>\n",
    "        These admonitions are just commentary; they're not part of the template. ;)\n",
    "    </p>\n",
    "</div>"
   ]
  },
  {
   "cell_type": "code",
   "execution_count": 2,
   "id": "a59ecc68-0af2-434e-842e-d6821fe34480",
   "metadata": {},
   "outputs": [],
   "source": [
    "def swap(xs: list, first: int, second: int) -> tuple:\n",
    "    a = xs[first]\n",
    "    b = xs[second]\n",
    "    xs[first] = b\n",
    "    xs[second] = a"
   ]
  },
  {
   "cell_type": "code",
   "execution_count": 3,
   "id": "53033568-5336-481a-b354-c4e6332b0455",
   "metadata": {},
   "outputs": [],
   "source": [
    "actual = [1, 2, 3]\n",
    "swap(actual, 0, 1)\n",
    "assert actual == [2, 1, 3]\n",
    "actual = [1, 2, 3]\n",
    "swap(actual, 1, 2)\n",
    "assert actual == [1, 3, 2]\n",
    "actual = [1, 3, 4, -1]\n",
    "swap(actual, 1, 2)\n",
    "assert actual == [1, 4, 3, -1]"
   ]
  },
  {
   "cell_type": "markdown",
   "id": "d183deb2-84ae-48ff-9cb4-8e642f044d19",
   "metadata": {},
   "source": [
    "\n",
    "<div style=\"background: lemonchiffon; margin:20px; padding: 20px;\">\n",
    "    <strong>Important</strong>\n",
    "    <p>\n",
    "        Assertions should generally test regular input and focus on edge cases. It should not test for bad inputs as you should trust yourself as a programmer (no \"defensive programming\" is needed). Have you ever used a print statement on the outputs to see if a function worked? That's a candidate for an assertion. <b>You must have 3</b>.\n",
    "    </p>\n",
    "</div>"
   ]
  },
  {
   "cell_type": "markdown",
   "id": "5aa989c9-b680-4309-a55a-1cabd40ddc9a",
   "metadata": {},
   "source": [
    "<a id=\"partition\"></a>\n",
    "## partition\n",
    "\n",
    "`partition` is a helper function for the Quicksort algorithm that sorts the indicated section of the list.\n",
    "It uses a pivot value to determine how elements are sorted.\n",
    "Much of the research on the Quicksort algorithm has focused on ways of picking the best pivot value.\n",
    "**Partition is destructive, modifying the list in-place**. **Uses** [swap](#swap). **Used by**: [quicksort](#quicksort)\n",
    "\n",
    "* **xs** list: the list of items to be sorted.\n",
    "* **lo** int: the lower index of the section of the list to be sorted.\n",
    "* **hi** int: the upper index of the section of the list to be sorted, lo < hi.\n",
    "\n",
    "**returns** int: the pivot value."
   ]
  },
  {
   "cell_type": "code",
   "execution_count": 4,
   "id": "6631ecac-a737-47fd-929a-3281d2202884",
   "metadata": {},
   "outputs": [],
   "source": [
    "def partition(xs: list, lo: int, hi: int) -> None:\n",
    "    pivot = xs[hi]\n",
    "    i = lo\n",
    "    for j in range(lo, hi):\n",
    "        if xs[j] < pivot:\n",
    "            swap(xs, i, j)\n",
    "            i = i + 1\n",
    "    swap(xs, hi, i)\n",
    "    return i"
   ]
  },
  {
   "cell_type": "code",
   "execution_count": 5,
   "id": "44efbbee-6b6d-4dfe-8649-7dacf31af4f9",
   "metadata": {},
   "outputs": [],
   "source": [
    "actual_xs = [4, 2, 3, 1]\n",
    "actual_p = partition(actual_xs, 0, 3)\n",
    "assert actual_p == 0\n",
    "assert actual_xs == [1, 2, 3, 4] # this could also be assigned to a variable called expected_xs\n",
    "actual_xs = [4, 3, 2, 1]\n",
    "actual_p = partition(actual_xs, 2, 3)\n",
    "assert actual_p == 2\n",
    "assert actual_xs == [4, 3, 1, 2]"
   ]
  },
  {
   "cell_type": "markdown",
   "id": "97c72206-50f4-43f0-8a68-8efeccf4e210",
   "metadata": {},
   "source": [
    "<div style=\"background: lemonchiffon; margin:20px; padding: 20px;\">\n",
    "    <strong>Important</strong>\n",
    "    <p>\n",
    "        If you find you can't write a simple assertion, your function may be too complicated.\n",
    "    </p>\n",
    "    <p>\n",
    "        The naming convention for inputs is \"input\"; for actual results, prepend \"actual\"; and for expected results, prepend \"expected\". Because partition mutates the formal parameter, this isn't quite possible. In this class, you should always return a value, even if it's just the modified formal parameter. However, sometimes this isn't possible.\n",
    "    </p>\n",
    "</div>"
   ]
  },
  {
   "cell_type": "markdown",
   "id": "779b8b11-8852-44f5-b760-ac919cead6a4",
   "metadata": {},
   "source": [
    "<a id=\"quicksort\"></a>\n",
    "## quicksort\n",
    "\n",
    "`quicksort` applies the quicksort algorithm to a section of the list defined by the indices (lo, hi).\n",
    "The quicksort algorithm starts by selecting a *pivot* value in the list, partitioning on the pivot and then recursively calling itself on each partition.\n",
    "**Quicksort is a destructive, in-place algorithm**. **Uses:** [partition](#partition), **Used by:** [sort](#sort)\n",
    "\n",
    "* **xs** list: the list of items to be sorted.\n",
    "* **lo** int: the lower index of the section of the list to be sorted.\n",
    "* **hi** int: the upper index of the section of the list to be sorted, lo < hi.\n",
    "\n",
    "**returns** list: the original list but sorted.\n"
   ]
  },
  {
   "cell_type": "code",
   "execution_count": 6,
   "id": "27e575c0-c60b-489f-97ba-67a4a048b35e",
   "metadata": {},
   "outputs": [],
   "source": [
    "def quicksort(xs, lo, hi):\n",
    "    if lo < hi:\n",
    "        p = partition(xs, lo, hi)\n",
    "        quicksort(xs, lo, p - 1)\n",
    "        quicksort(xs, p + 1, hi)"
   ]
  },
  {
   "cell_type": "code",
   "execution_count": 7,
   "id": "cace78d1-d6e9-4013-a333-ace4d311a636",
   "metadata": {},
   "outputs": [],
   "source": [
    "xs = [1, 3, 2, 4]\n",
    "quicksort(xs, 0, 3)\n",
    "assert  xs == [1, 2, 3, 4]\n",
    "xs = [5, 6, 4, 3, 2, 1]\n",
    "quicksort(xs, 2, 5)\n",
    "assert xs == [5, 6, 1, 2, 3, 4]\n",
    "quicksort(xs, 0, 2)\n",
    "assert xs == [1, 5, 6, 2, 3, 4]"
   ]
  },
  {
   "cell_type": "markdown",
   "id": "6ae31094-6e2a-4fcd-83d5-f858e6bbb53a",
   "metadata": {},
   "source": [
    "<a id=\"sort\"></a>\n",
    "## sort\n",
    "\n",
    "`sort` sorts a list into ascending order. **Uses** [quicksort](#quicksort).\n",
    "\n",
    "* **xs** list: the list of elements to be sorted.\n",
    "\n",
    "**returns** list: the sorted list."
   ]
  },
  {
   "cell_type": "code",
   "execution_count": 8,
   "id": "80c2567a-3f91-4f56-83ae-c0da3d0b2067",
   "metadata": {},
   "outputs": [],
   "source": [
    "def sort(xs: list) -> list:\n",
    "    _xs = deepcopy(xs)\n",
    "    quicksort(_xs, 0, len(_xs)-1)\n",
    "    return _xs"
   ]
  },
  {
   "cell_type": "code",
   "execution_count": 9,
   "id": "2476c918-b078-46ab-947f-1e514f61894a",
   "metadata": {},
   "outputs": [
    {
     "data": {
      "text/plain": [
       "[1, 2, 3, 4]"
      ]
     },
     "execution_count": 9,
     "metadata": {},
     "output_type": "execute_result"
    }
   ],
   "source": [
    "sort([4, 3, 2, 1])"
   ]
  }
 ],
 "metadata": {
  "kernelspec": {
   "display_name": "Python (en605645)",
   "language": "python",
   "name": "en605645"
  },
  "language_info": {
   "codemirror_mode": {
    "name": "ipython",
    "version": 3
   },
   "file_extension": ".py",
   "mimetype": "text/x-python",
   "name": "python",
   "nbconvert_exporter": "python",
   "pygments_lexer": "ipython3",
   "version": "3.9.12"
  }
 },
 "nbformat": 4,
 "nbformat_minor": 5
}
